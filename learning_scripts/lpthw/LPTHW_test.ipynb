{
 "cells": [
  {
   "cell_type": "code",
   "execution_count": 3,
   "metadata": {},
   "outputs": [
    {
     "name": "stdout",
     "output_type": "stream",
     "text": [
      "Hello World\n",
      "Hello Again\n",
      "I like typing this.\n",
      "This is fun.\n",
      "Yay! Printing.\n",
      "I'd much rather you 'not' \n",
      "I \"said\" do not touch this.\n"
     ]
    }
   ],
   "source": [
    "print(\"Hello World\")\n",
    "print(\"Hello Again\")\n",
    "print(\"I like typing this.\")\n",
    "print(\"This is fun.\")\n",
    "print(\"Yay! Printing.\")\n",
    "print(\"I'd much rather you 'not' \")\n",
    "print('I \"said\" do not touch this.')"
   ]
  },
  {
   "cell_type": "code",
   "execution_count": 4,
   "metadata": {},
   "outputs": [
    {
     "name": "stdout",
     "output_type": "stream",
     "text": [
      "I could have code like this. \n",
      "this will run.\n"
     ]
    }
   ],
   "source": [
    "# A comment, this is so you can read your program later.\n",
    "# Anything after the # is ignored by python\n",
    "\n",
    "print('I could have code like this. ') # and the comment after is ignored\n",
    "\n",
    "# you can also use a comment to \"disable\" or comment out code:\n",
    "#print(\"This won't run.\")\n",
    "\n",
    "print('this will run.')"
   ]
  },
  {
   "cell_type": "code",
   "execution_count": 5,
   "metadata": {},
   "outputs": [
    {
     "name": "stdout",
     "output_type": "stream",
     "text": [
      "I will now count my chickens:\n",
      "Hens 30.0\n",
      "Roasters 97\n",
      "Now I will count the eggs:\n",
      "6.75\n",
      "Is this true that 3+2<5-7?\n",
      "False\n",
      "What is 3 + 2? 5\n",
      "What is 5 - 7? -2\n",
      "Oh, thats's why it's False.\n",
      "How about some more.\n",
      "Is it greater? True\n",
      "is it greater or equal? True\n",
      "Is it less or equal? False\n"
     ]
    }
   ],
   "source": [
    "print(\"I will now count my chickens:\")\n",
    "print(\"Hens\", 25+30/6)\n",
    "print(\"Roasters\", 100-25*3%4)\n",
    "print(\"Now I will count the eggs:\")\n",
    "print(3 + 2 + 1 - 5 + 4 % 2 - 1 / 4 + 6)\n",
    "print(\"Is this true that 3+2<5-7?\")\n",
    "print(3+2<5-7)\n",
    "print(\"What is 3 + 2?\",3 + 2)\n",
    "print(\"What is 5 - 7?\",5 - 7)\n",
    "print(\"Oh, thats's why it's False.\")\n",
    "print(\"How about some more.\")\n",
    "print(\"Is it greater?\",5 >-2)\n",
    "print(\"is it greater or equal?\", 5>=-2)\n",
    "print(\"Is it less or equal?\", 5<=-2)"
   ]
  },
  {
   "cell_type": "code",
   "execution_count": 7,
   "metadata": {},
   "outputs": [
    {
     "name": "stdout",
     "output_type": "stream",
     "text": [
      "There are 100 cars available\n",
      "There are only 30 drivers available.\n",
      "There will be 70 empty cars today.\n",
      "we can transport 120.0 people today.\n",
      "We have 90 to carpool today.\n",
      "We need to put about 3.0 in each car.\n"
     ]
    }
   ],
   "source": [
    "cars = 100\n",
    "space_in_a_car = 4.0\n",
    "drivers = 30\n",
    "passengers = 90\n",
    "cars_not_driven = cars - drivers\n",
    "cars_driven = drivers\n",
    "carpool_capacity = cars_driven * space_in_a_car\n",
    "average_passengers_per_car = passengers/cars_driven\n",
    "\n",
    "\n",
    "print(\"There are\", cars, \"cars available\")\n",
    "print(\"There are only\", drivers,\"drivers available.\")\n",
    "print(\"There will be\", cars_not_driven, \"empty cars today.\")\n",
    "print(\"we can transport\",carpool_capacity,\"people today.\")\n",
    "print(\"We have\", passengers, \"to carpool today.\")\n",
    "print(\"We need to put about\", average_passengers_per_car,\"in each car.\")"
   ]
  },
  {
   "cell_type": "code",
   "execution_count": 6,
   "metadata": {},
   "outputs": [
    {
     "name": "stdout",
     "output_type": "stream",
     "text": [
      "My name is Lohith Devulapalli\n",
      "I am around 163 inches tall.\n",
      "I am around 68.3 kilograms.\n",
      "Actually thats not too heavy.\n",
      "I have Brown eyes and Black hair\n",
      "the color of my teeth is White\n"
     ]
    }
   ],
   "source": [
    "my_name = \"Lohith Devulapalli\"\n",
    "my_age = 27\n",
    "my_height = 163\n",
    "my_weight = 68.3\n",
    "my_eyes = 'Brown'\n",
    "my_teeth = 'White'\n",
    "my_hair = 'Black'\n",
    "\n",
    "\n",
    "print(f\"My name is {my_name}\")\n",
    "print(f\"I am around {my_height} inches tall.\")\n",
    "print(f\"I am around {my_weight} kilograms.\")\n",
    "print(F\"Actually thats not too heavy.\")\n",
    "print(f\"I have {my_eyes} eyes and {my_hair} hair\")\n",
    "print(f\"the color of my teeth is {my_teeth}\")"
   ]
  },
  {
   "cell_type": "code",
   "execution_count": 11,
   "metadata": {},
   "outputs": [
    {
     "name": "stdout",
     "output_type": "stream",
     "text": [
      "There are 10 of people\n",
      "Those who know binary and those who don't\n",
      "I said: There are 10 of people\n",
      "I also said: Those who know binary and those who don't\n",
      "is that joke so funny?! False\n",
      "This is the left side of...a string with a right side.\n"
     ]
    }
   ],
   "source": [
    "#Ex6\n",
    "\n",
    "types_of_people = 10\n",
    "\n",
    "x = f\"There are {types_of_people} of people\"\n",
    "\n",
    "binary = 'binary'\n",
    "do_not = \"don't\"\n",
    "y = f\"Those who know {binary} and those who {do_not}\"\n",
    "\n",
    "\n",
    "print(x)\n",
    "print(y)\n",
    "\n",
    "print(f\"I said: {x}\")\n",
    "print(f\"I also said: {y}\")\n",
    "\n",
    "hilarious = False\n",
    "\n",
    "joke_evaluation = \"is that joke so funny?! {}\"\n",
    "\n",
    "print(joke_evaluation.format(hilarious))\n",
    "\n",
    "w = \"This is the left side of...\"\n",
    "e = \"a string with a right side.\"\n",
    "\n",
    "print(w+e)"
   ]
  },
  {
   "cell_type": "code",
   "execution_count": 20,
   "metadata": {},
   "outputs": [
    {
     "name": "stdout",
     "output_type": "stream",
     "text": [
      "Mary had little lamb.\n",
      "Its fleece was white assnow.\n",
      "And everywhere that Mary went.\n",
      "..........\n",
      "Cheese Burger\n"
     ]
    }
   ],
   "source": [
    "#ex - 7\n",
    "\n",
    "print('Mary had little lamb.')\n",
    "print('Its fleece was white as{}.'.format('snow'))\n",
    "print('And everywhere that Mary went.')\n",
    "print(\".\" * 10 ) # what'd that do?\n",
    "\n",
    "\n",
    "end1 = 'C'\n",
    "end2 = 'h'\n",
    "end3 = 'e'\n",
    "end4 = 'e'\n",
    "end5 = 's'\n",
    "end6 = 'e'\n",
    "end7 = 'B'\n",
    "end8 = 'u'\n",
    "end9 = 'r'\n",
    "end10 = 'g'\n",
    "end11 = 'e'\n",
    "end12 = 'r'\n",
    "\n",
    "print(end1 + end2 + end3 + end4 + end5 + end6 ,end = \" \")\n",
    "print(end7 + end8 + end9 + end10 + end11 + end12)"
   ]
  },
  {
   "cell_type": "code",
   "execution_count": 31,
   "metadata": {},
   "outputs": [
    {
     "name": "stdout",
     "output_type": "stream",
     "text": [
      "1234\n",
      "onetwothreefour\n",
      "TrueFalseTrueFalse\n",
      "{}{}{}{}{}{}{}{}{}{}{}{}{}{}{}{}\n",
      "HelloHiNamaskaramVannakkam\n"
     ]
    }
   ],
   "source": [
    "#ex- 8 \n",
    "\n",
    "formatter = \"{}{}{}{}\"\n",
    "\n",
    "print(formatter.format(1,2,3,4))\n",
    "print(formatter.format(\"one\",\"two\",\"three\",\"four\"))\n",
    "print(formatter.format(True,False,True,False))\n",
    "print(formatter.format(formatter,formatter,formatter,formatter))\n",
    "print(formatter.format(\"Hello\",\"Hi\",\"Namaskaram\",\"Vannakkam\"))"
   ]
  },
  {
   "cell_type": "code",
   "execution_count": 35,
   "metadata": {},
   "outputs": [
    {
     "name": "stdout",
     "output_type": "stream",
     "text": [
      "Here are the days:  Mon Tue Wed Thu Fri Sat Sun\n",
      "Here are the months:  \u000b",
      "Jan\u000b",
      "Feb\u000b",
      "Mar\u000b",
      "Apr\u000b",
      "May\u000b",
      "Jun\u000b",
      "Jul\u000b",
      "Aug\n",
      "There's something going on here.\n",
      "with the three double-quotes.\n",
      "We'll be able to type as much as we like.\n",
      "Even 4 lines if we want, or 5,or 6 \n"
     ]
    }
   ],
   "source": [
    "#ex-9\n",
    "days = \"Mon Tue Wed Thu Fri Sat Sun\"\n",
    "months = \"\\vJan\\vFeb\\vMar\\vApr\\vMay\\vJun\\vJul\\vAug\"\n",
    "\n",
    "print(\"Here are the days: \", days)\n",
    "print(\"Here are the months: \",months)\n",
    "\n",
    "print(\"\"\"There's something going on here.\n",
    "with the three double-quotes.\n",
    "We'll be able to type as much as we like.\n",
    "Even 4 lines if we want, or 5,or 6 \"\"\")"
   ]
  },
  {
   "cell_type": "code",
   "execution_count": 38,
   "metadata": {},
   "outputs": [
    {
     "name": "stdout",
     "output_type": "stream",
     "text": [
      "\t I'm tabbed in.\n",
      "I'm split\n",
      "on a line.\n",
      "I'm \\ a \\ dog.\n",
      "\n",
      "I'll do a list:\n",
      "\t* Dog food\n",
      "\t* Bones\n",
      "\t* Dognip\n",
      "\t* grass\n",
      "\n"
     ]
    }
   ],
   "source": [
    "#ex-10\n",
    "\n",
    "tabby_dog = \"\\t I'm tabbed in.\"\n",
    "persian_dog = \"I'm split\\non a line.\"\n",
    "backslash_dog = \"I'm \\\\ a \\\\ dog.\"\n",
    "\n",
    "fat_cat = \"\"\"\n",
    "I'll do a list:\n",
    "\\t* Dog food\n",
    "\\t* Bones\n",
    "\\t* Dognip\\n\\t* grass\n",
    "\"\"\"\n",
    "\n",
    "print(tabby_dog)\n",
    "print(persian_dog)\n",
    "print(backslash_dog)\n",
    "print(fat_cat)"
   ]
  },
  {
   "cell_type": "code",
   "execution_count": 50,
   "metadata": {},
   "outputs": [
    {
     "name": "stdout",
     "output_type": "stream",
     "text": [
      "How old are you? How tall are you? How much do you weigh? So, you're 27 old, 163cm tall and 62kg heavy\n"
     ]
    }
   ],
   "source": [
    "#ex - 11\n",
    "print(\"How old are you?\", end = \" \")\n",
    "age = input()\n",
    "print(\"How tall are you?\", end = \" \")\n",
    "height = input()\n",
    "print(\"How much do you weigh?\", end = \" \")\n",
    "weight = input()\n",
    "\n",
    "print(F\"So, you're {age} old, {height} tall and {weight} heavy\")"
   ]
  },
  {
   "cell_type": "code",
   "execution_count": 3,
   "metadata": {},
   "outputs": [
    {
     "name": "stdout",
     "output_type": "stream",
     "text": [
      "So, you're 27 old,5.5 tall and 68 heavy\n"
     ]
    }
   ],
   "source": [
    "age = input(\"How old are you? \")\n",
    "height = input(\"How tall are you? \")\n",
    "weight = input(\"How much do you weigh? \")\n",
    "\n",
    "print(f\"So, you're {age} old,{height} tall and {weight} heavy\")"
   ]
  },
  {
   "cell_type": "code",
   "execution_count": 1,
   "metadata": {},
   "outputs": [
    {
     "name": "stdout",
     "output_type": "stream",
     "text": [
      "12\n"
     ]
    }
   ],
   "source": [
    "def add(x,y):\n",
    "    print(x+y)\n",
    "\n",
    "\n",
    "add(7,5)"
   ]
  },
  {
   "cell_type": "code",
   "execution_count": 2,
   "metadata": {},
   "outputs": [
    {
     "name": "stdout",
     "output_type": "stream",
     "text": [
      "131\n"
     ]
    }
   ],
   "source": [
    "add(95,36)"
   ]
  },
  {
   "cell_type": "code",
   "execution_count": 3,
   "metadata": {},
   "outputs": [
    {
     "ename": "ValueError",
     "evalue": "too many values to unpack (expected 2)",
     "output_type": "error",
     "traceback": [
      "\u001b[0;31m---------------------------------------------------------------------------\u001b[0m",
      "\u001b[0;31mValueError\u001b[0m                                Traceback (most recent call last)",
      "\u001b[0;32m/var/folders/dh/7zrbg3y90yl_41219xsdz2nc0000gn/T/ipykernel_9820/44399851.py\u001b[0m in \u001b[0;36m<module>\u001b[0;34m\u001b[0m\n\u001b[1;32m      1\u001b[0m \u001b[0;32mfrom\u001b[0m \u001b[0msys\u001b[0m \u001b[0;32mimport\u001b[0m \u001b[0margv\u001b[0m\u001b[0;34m\u001b[0m\u001b[0;34m\u001b[0m\u001b[0m\n\u001b[1;32m      2\u001b[0m \u001b[0;34m\u001b[0m\u001b[0m\n\u001b[0;32m----> 3\u001b[0;31m \u001b[0mscript\u001b[0m\u001b[0;34m,\u001b[0m \u001b[0mfilename\u001b[0m \u001b[0;34m=\u001b[0m \u001b[0margv\u001b[0m\u001b[0;34m\u001b[0m\u001b[0;34m\u001b[0m\u001b[0m\n\u001b[0m\u001b[1;32m      4\u001b[0m \u001b[0;34m\u001b[0m\u001b[0m\n\u001b[1;32m      5\u001b[0m \u001b[0mtxt\u001b[0m \u001b[0;34m=\u001b[0m \u001b[0mopen\u001b[0m\u001b[0;34m(\u001b[0m\u001b[0mfilename\u001b[0m\u001b[0;34m)\u001b[0m\u001b[0;34m\u001b[0m\u001b[0;34m\u001b[0m\u001b[0m\n",
      "\u001b[0;31mValueError\u001b[0m: too many values to unpack (expected 2)"
     ]
    }
   ],
   "source": [
    "from sys import argv \n",
    "\n",
    "script, filename = argv\n",
    "\n",
    "txt = open(filename)\n",
    "\n",
    "print(f\"we are going to erase {filename}\")\n",
    "print(\"If you don't want that, hit CTRL-C(^C).\")\n",
    "print(\"If you do want that , hit RETURN\")\n",
    "input(\"?\")\n",
    "print(\"Opening the file...\")\n",
    "print(\"Opening the file\")\n",
    "target = open (filename, 'w')\n",
    "\n",
    "print(\"Truncating the file. Goodbye!\")\n",
    "\n",
    "target.truncate()\n",
    "\n",
    "print(\"Now I'm going to ask you for three lines.\")\n",
    "\n",
    "line1 = input(\"line 1: \")\n",
    "line2 = input(\"line 2: \")\n",
    "line3 = input(\"line 3: \")\n",
    "\n",
    "print(\"I'm going to write these to the file\")\n",
    "\n",
    "target.write(line1)\n",
    "target.write(\"\\n\")\n",
    "target.write(line2)\n",
    "target.write(\"\\n\")\n",
    "target.write(line3)\n",
    "\n",
    "print(\"And finally, we close it.\")\n",
    "target.close()"
   ]
  },
  {
   "cell_type": "code",
   "execution_count": 10,
   "metadata": {},
   "outputs": [],
   "source": [
    "a=10\n",
    "b=20\n",
    "\n",
    "c = f\"Hello,\\n {a}\"\n",
    "d = r\"Hello\\n {b}\""
   ]
  },
  {
   "cell_type": "code",
   "execution_count": 11,
   "metadata": {},
   "outputs": [
    {
     "data": {
      "text/plain": [
       "'Hello,\\n 10'"
      ]
     },
     "execution_count": 11,
     "metadata": {},
     "output_type": "execute_result"
    }
   ],
   "source": [
    "c"
   ]
  },
  {
   "cell_type": "code",
   "execution_count": null,
   "metadata": {},
   "outputs": [],
   "source": []
  }
 ],
 "metadata": {
  "interpreter": {
   "hash": "aee8b7b246df8f9039afb4144a1f6fd8d2ca17a180786b69acc140d282b71a49"
  },
  "kernelspec": {
   "display_name": "Python 3",
   "language": "python",
   "name": "python3"
  },
  "language_info": {
   "codemirror_mode": {
    "name": "ipython",
    "version": 3
   },
   "file_extension": ".py",
   "mimetype": "text/x-python",
   "name": "python",
   "nbconvert_exporter": "python",
   "pygments_lexer": "ipython3",
   "version": "3.8.8"
  }
 },
 "nbformat": 4,
 "nbformat_minor": 2
}

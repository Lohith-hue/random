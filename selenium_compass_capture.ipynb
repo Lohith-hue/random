{
 "cells": [
  {
   "cell_type": "code",
   "execution_count": 1,
   "id": "ea02ed76",
   "metadata": {},
   "outputs": [],
   "source": [
    "import requests # pip install requests\n",
    "from bs4 import BeautifulSoup # pip install beautifulsoup4\n",
    "from lxml import etree\n",
    "import re\n",
    "import time"
   ]
  },
  {
   "cell_type": "code",
   "execution_count": null,
   "id": "1ef37c15",
   "metadata": {},
   "outputs": [],
   "source": [
    "# Load the webpage content\n",
    "url = f\"https://compass.nextbillion.io/directions?city=bangalore&origin=23.7481179,90.4234871&dest=23.7182548,90.4291884&approaches=unrestricted&approaches=unrestricted&travelMode=4&departureTime=1658296800&alternative=false&serviceProviders=Google&session=YqFYdE&alternativeNum=1&annotation=false\"\n",
    "response = requests.get(url)\n",
    "\n",
    "# Convert to a beautiful soup object\n",
    "soup = BeautifulSoup(response.text, 'html.parser')"
   ]
  },
  {
   "cell_type": "code",
   "execution_count": null,
   "id": "d735397e",
   "metadata": {
    "scrolled": true
   },
   "outputs": [],
   "source": [
    "soup"
   ]
  },
  {
   "cell_type": "code",
   "execution_count": null,
   "id": "dd824ed6",
   "metadata": {},
   "outputs": [],
   "source": [
    "for link in soup.find_all('s'):\n",
    "    print(link.get_text())"
   ]
  },
  {
   "cell_type": "code",
   "execution_count": null,
   "id": "1b1e3532",
   "metadata": {},
   "outputs": [],
   "source": [
    "soup.find_all('app-root')"
   ]
  },
  {
   "cell_type": "markdown",
   "id": "95fb6f3f",
   "metadata": {},
   "source": [
    "SELENIUM"
   ]
  },
  {
   "cell_type": "code",
   "execution_count": 2,
   "id": "606c2f62",
   "metadata": {},
   "outputs": [],
   "source": [
    "from selenium import webdriver\n",
    "from selenium.webdriver.common.keys import Keys\n",
    "from selenium.webdriver.common.by import By\n",
    "from webdriver_manager.chrome import ChromeDriverManager\n",
    "import time"
   ]
  },
  {
   "cell_type": "code",
   "execution_count": 40,
   "id": "54401c54",
   "metadata": {},
   "outputs": [
    {
     "name": "stdout",
     "output_type": "stream",
     "text": [
      "\n"
     ]
    },
    {
     "name": "stderr",
     "output_type": "stream",
     "text": [
      "<ipython-input-40-c026f0c15647>:1: DeprecationWarning: executable_path has been deprecated, please pass in a Service object\n",
      "  driver = webdriver.Chrome(ChromeDriverManager().install())\n"
     ]
    }
   ],
   "source": [
    "driver = webdriver.Chrome(ChromeDriverManager().install())"
   ]
  },
  {
   "cell_type": "code",
   "execution_count": 41,
   "id": "fdb960e3",
   "metadata": {},
   "outputs": [],
   "source": [
    "#login\n",
    "driver.get(\"https://compass.nextbillion.io/directions?city=bangalore&origin=23.7481179,90.4234871&dest=23.7182548,90.4291884&approaches=unrestricted&approaches=unrestricted&travelMode=4&departureTime=1658296800&alternative=false&serviceProviders=Google&session=YqFYdE&alternativeNum=1&annotation=false\")"
   ]
  },
  {
   "cell_type": "code",
   "execution_count": 20,
   "id": "b512a122",
   "metadata": {},
   "outputs": [],
   "source": [
    "required_links_set = \"\"\"https://compass.nextbillion.io/directions?city=Netherlands&origin=52.3839284917231,4.8100256955871&dest=52.3357394853961,4.78101235265613&approaches=unrestricted&approaches=unrestricted&travelMode=4&departureTimeOption=custom&departureTime=1664215200000&alternative=false&serviceProviders=Plain%20NB&serviceProviders=Google&session=5kKmDl&alternativeNum=1&annotation=false&truckInfo=%5Bobject%20Object%5D\n",
    "https://compass.nextbillion.io/directions?city=Netherlands&origin=52.348333343299,5.02700945050296&dest=52.2851006981045,4.91830681274708&approaches=unrestricted&approaches=unrestricted&travelMode=4&departureTimeOption=custom&departureTime=1664215200000&alternative=false&serviceProviders=Plain%20NB&serviceProviders=Google&session=5kKmDl&alternativeNum=1&annotation=false&truckInfo=%5Bobject%20Object%5D\n",
    "https://compass.nextbillion.io/directions?city=Netherlands&origin=52.3012884222679,5.07656803937645&dest=52.4053451317983,4.94921337875096&approaches=unrestricted&approaches=unrestricted&travelMode=4&departureTimeOption=custom&departureTime=1664215200000&alternative=false&serviceProviders=Plain%20NB&serviceProviders=Google&session=5kKmDl&alternativeNum=1&annotation=false&truckInfo=%5Bobject%20Object%5D\n",
    "https://compass.nextbillion.io/directions?city=Netherlands&origin=52.2878199417565,4.81124739877535&dest=52.383199745959,5.06213097319747&approaches=unrestricted&approaches=unrestricted&travelMode=4&departureTimeOption=custom&departureTime=1664215200000&alternative=false&serviceProviders=Plain%20NB&serviceProviders=Google&session=5kKmDl&alternativeNum=1&annotation=false&truckInfo=%5Bobject%20Object%5D\n",
    "https://compass.nextbillion.io/directions?city=Netherlands&origin=52.3603439907997,4.94163001243425&dest=52.40941679158,4.77792341943779&approaches=unrestricted&approaches=unrestricted&travelMode=4&departureTimeOption=custom&departureTime=1664215200000&alternative=false&serviceProviders=Plain%20NB&serviceProviders=Google&session=5kKmDl&alternativeNum=1&annotation=false&truckInfo=%5Bobject%20Object%5D\n",
    "https://compass.nextbillion.io/directions?city=Netherlands&origin=52.3188555262332,4.82157753922426&dest=52.2902425025551,4.98598565239037&approaches=unrestricted&approaches=unrestricted&travelMode=4&departureTimeOption=custom&departureTime=1664215200000&alternative=false&serviceProviders=Plain%20NB&serviceProviders=Google&session=5kKmDl&alternativeNum=1&annotation=false&truckInfo=%5Bobject%20Object%5D\n",
    "https://compass.nextbillion.io/directions?city=Netherlands&origin=52.4116185173828,4.83131138208055&dest=52.2985841202307,5.00679495965076&approaches=unrestricted&approaches=unrestricted&travelMode=4&departureTimeOption=custom&departureTime=1664215200000&alternative=false&serviceProviders=Plain%20NB&serviceProviders=Google&session=5kKmDl&alternativeNum=1&annotation=false&truckInfo=%5Bobject%20Object%5D\n",
    "https://compass.nextbillion.io/directions?city=Netherlands&origin=52.3299260680469,4.79350810508637&dest=52.4085746537336,4.88181896256849&approaches=unrestricted&approaches=unrestricted&travelMode=4&departureTimeOption=custom&departureTime=1664215200000&alternative=false&serviceProviders=Plain%20NB&serviceProviders=Google&session=5kKmDl&alternativeNum=1&annotation=false&truckInfo=%5Bobject%20Object%5D\n",
    "https://compass.nextbillion.io/directions?city=Netherlands&origin=52.2841070189321,5.05160085987175&dest=52.3049394863452,4.95839418374198&approaches=unrestricted&approaches=unrestricted&travelMode=4&departureTimeOption=custom&departureTime=1664215200000&alternative=false&serviceProviders=Plain%20NB&serviceProviders=Google&session=5kKmDl&alternativeNum=1&annotation=false&truckInfo=%5Bobject%20Object%5D\n",
    "https://compass.nextbillion.io/directions?city=Netherlands&origin=52.3833538838824,4.97075766990595&dest=52.4289430687766,4.80534560519128&approaches=unrestricted&approaches=unrestricted&travelMode=4&departureTimeOption=custom&departureTime=1664215200000&alternative=false&serviceProviders=Plain%20NB&serviceProviders=Google&session=5kKmDl&alternativeNum=1&annotation=false&truckInfo=%5Bobject%20Object%5D\n",
    "https://compass.nextbillion.io/directions?city=Netherlands&origin=52.3561647530077,5.04994029469338&dest=52.3338753516366,4.83872195348116&approaches=unrestricted&approaches=unrestricted&travelMode=4&departureTimeOption=custom&departureTime=1664215200000&alternative=false&serviceProviders=Plain%20NB&serviceProviders=Google&session=5kKmDl&alternativeNum=1&annotation=false&truckInfo=%5Bobject%20Object%5D\n",
    "https://compass.nextbillion.io/directions?city=Netherlands&origin=52.2902461966962,4.90826957695735&dest=52.2836137498391,4.7714803362783&approaches=unrestricted&approaches=unrestricted&travelMode=4&departureTimeOption=custom&departureTime=1664215200000&alternative=false&serviceProviders=Plain%20NB&serviceProviders=Google&session=5kKmDl&alternativeNum=1&annotation=false&truckInfo=%5Bobject%20Object%5D\n",
    "https://compass.nextbillion.io/directions?city=Netherlands&origin=52.3576324083181,4.98923044791432&dest=52.4040741337288,5.06299581838025&approaches=unrestricted&approaches=unrestricted&travelMode=4&departureTimeOption=custom&departureTime=1664215200000&alternative=false&serviceProviders=Plain%20NB&serviceProviders=Google&session=5kKmDl&alternativeNum=1&annotation=false&truckInfo=%5Bobject%20Object%5D\n",
    "https://compass.nextbillion.io/directions?city=Netherlands&origin=52.3747575715728,4.83585822274784&dest=52.410002151759,5.05675016677159&approaches=unrestricted&approaches=unrestricted&travelMode=4&departureTimeOption=custom&departureTime=1664215200000&alternative=false&serviceProviders=Plain%20NB&serviceProviders=Google&session=5kKmDl&alternativeNum=1&annotation=false&truckInfo=%5Bobject%20Object%5D\n",
    "https://compass.nextbillion.io/directions?city=Netherlands&origin=52.2902779821639,5.02832337426623&dest=52.3349386062869,5.00656037057612&approaches=unrestricted&approaches=unrestricted&travelMode=4&departureTimeOption=custom&departureTime=1664215200000&alternative=false&serviceProviders=Plain%20NB&serviceProviders=Google&session=5kKmDl&alternativeNum=1&annotation=false&truckInfo=%5Bobject%20Object%5D\n",
    "https://compass.nextbillion.io/directions?city=Netherlands&origin=52.4027675435761,4.90597653286411&dest=52.4140543435671,4.81373045796784&approaches=unrestricted&approaches=unrestricted&travelMode=4&departureTimeOption=custom&departureTime=1664215200000&alternative=false&serviceProviders=Plain%20NB&serviceProviders=Google&session=5kKmDl&alternativeNum=1&annotation=false&truckInfo=%5Bobject%20Object%5D\n",
    "https://compass.nextbillion.io/directions?city=Netherlands&origin=52.4245164611321,4.83669636503064&dest=52.4268779397065,4.82506112841164&approaches=unrestricted&approaches=unrestricted&travelMode=4&departureTimeOption=custom&departureTime=1664215200000&alternative=false&serviceProviders=Plain%20NB&serviceProviders=Google&session=5kKmDl&alternativeNum=1&annotation=false&truckInfo=%5Bobject%20Object%5D\n",
    "https://compass.nextbillion.io/directions?city=Netherlands&origin=52.3276235009859,4.78209207996182&dest=52.3439177357926,4.75410787890865&approaches=unrestricted&approaches=unrestricted&travelMode=4&departureTimeOption=custom&departureTime=1664215200000&alternative=false&serviceProviders=Plain%20NB&serviceProviders=Google&session=5kKmDl&alternativeNum=1&annotation=false&truckInfo=%5Bobject%20Object%5D\n",
    "https://compass.nextbillion.io/directions?city=Netherlands&origin=52.305708372895,4.9289443026075&dest=52.3795726177578,4.79105968139155&approaches=unrestricted&approaches=unrestricted&travelMode=4&departureTimeOption=custom&departureTime=1664215200000&alternative=false&serviceProviders=Plain%20NB&serviceProviders=Google&session=5kKmDl&alternativeNum=1&annotation=false&truckInfo=%5Bobject%20Object%5D\n",
    "https://compass.nextbillion.io/directions?city=Netherlands&origin=52.3750347662782,4.98620667307567&dest=52.3770331787721,4.8211019654999&approaches=unrestricted&approaches=unrestricted&travelMode=4&departureTimeOption=custom&departureTime=1664215200000&alternative=false&serviceProviders=Plain%20NB&serviceProviders=Google&session=5kKmDl&alternativeNum=1&annotation=false&truckInfo=%5Bobject%20Object%5D\n",
    "https://compass.nextbillion.io/directions?city=Netherlands&origin=52.3838049086444,5.05770497400842&dest=52.3829048725366,5.00937870762319&approaches=unrestricted&approaches=unrestricted&travelMode=4&departureTimeOption=custom&departureTime=1664215200000&alternative=false&serviceProviders=Plain%20NB&serviceProviders=Google&session=5kKmDl&alternativeNum=1&annotation=false&truckInfo=%5Bobject%20Object%5D\n",
    "https://compass.nextbillion.io/directions?city=Netherlands&origin=52.3386828750683,4.83958496548687&dest=52.3127097180503,4.95782702069517&approaches=unrestricted&approaches=unrestricted&travelMode=4&departureTimeOption=custom&departureTime=1664215200000&alternative=false&serviceProviders=Plain%20NB&serviceProviders=Google&session=5kKmDl&alternativeNum=1&annotation=false&truckInfo=%5Bobject%20Object%5D\n",
    "https://compass.nextbillion.io/directions?city=Netherlands&origin=52.3689639287462,4.99669886981478&dest=52.3007964914161,4.7721298134969&approaches=unrestricted&approaches=unrestricted&travelMode=4&departureTimeOption=custom&departureTime=1664215200000&alternative=false&serviceProviders=Plain%20NB&serviceProviders=Google&session=5kKmDl&alternativeNum=1&annotation=false&truckInfo=%5Bobject%20Object%5D\n",
    "https://compass.nextbillion.io/directions?city=Netherlands&origin=52.285541614883,4.91299165967692&dest=52.3364095514824,4.91398035533493&approaches=unrestricted&approaches=unrestricted&travelMode=4&departureTimeOption=custom&departureTime=1664215200000&alternative=false&serviceProviders=Plain%20NB&serviceProviders=Google&session=5kKmDl&alternativeNum=1&annotation=false&truckInfo=%5Bobject%20Object%5D\n",
    "https://compass.nextbillion.io/directions?city=Netherlands&origin=52.4055760800538,4.81846029438172&dest=52.3887568357333,4.84450260216346&approaches=unrestricted&approaches=unrestricted&travelMode=4&departureTimeOption=custom&departureTime=1664215200000&alternative=false&serviceProviders=Plain%20NB&serviceProviders=Google&session=5kKmDl&alternativeNum=1&annotation=false&truckInfo=%5Bobject%20Object%5D\n",
    "https://compass.nextbillion.io/directions?city=Netherlands&origin=52.347450250417,5.02667989060627&dest=52.2915711077294,4.97698417425884&approaches=unrestricted&approaches=unrestricted&travelMode=4&departureTimeOption=custom&departureTime=1664215200000&alternative=false&serviceProviders=Plain%20NB&serviceProviders=Google&session=5kKmDl&alternativeNum=1&annotation=false&truckInfo=%5Bobject%20Object%5D\n",
    "https://compass.nextbillion.io/directions?city=Netherlands&origin=52.4111160931881,4.76827501703669&dest=52.38960518655,4.7583699248587&approaches=unrestricted&approaches=unrestricted&travelMode=4&departureTimeOption=custom&departureTime=1664215200000&alternative=false&serviceProviders=Plain%20NB&serviceProviders=Google&session=5kKmDl&alternativeNum=1&annotation=false&truckInfo=%5Bobject%20Object%5D\n",
    "https://compass.nextbillion.io/directions?city=Netherlands&origin=52.4016843574491,4.94500503345958&dest=52.3036236650046,4.95766718807743&approaches=unrestricted&approaches=unrestricted&travelMode=4&departureTimeOption=custom&departureTime=1664215200000&alternative=false&serviceProviders=Plain%20NB&serviceProviders=Google&session=5kKmDl&alternativeNum=1&annotation=false&truckInfo=%5Bobject%20Object%5D\n",
    "https://compass.nextbillion.io/directions?city=Netherlands&origin=52.3061011428663,4.84743015722461&dest=52.425738224226,4.90118113149253&approaches=unrestricted&approaches=unrestricted&travelMode=4&departureTimeOption=custom&departureTime=1664215200000&alternative=false&serviceProviders=Plain%20NB&serviceProviders=Google&session=5kKmDl&alternativeNum=1&annotation=false&truckInfo=%5Bobject%20Object%5D\n",
    "https://compass.nextbillion.io/directions?city=Netherlands&origin=52.3339192048128,4.98596353809364&dest=52.3486229837681,5.0640574601455&approaches=unrestricted&approaches=unrestricted&travelMode=4&departureTimeOption=custom&departureTime=1664215200000&alternative=false&serviceProviders=Plain%20NB&serviceProviders=Google&session=5kKmDl&alternativeNum=1&annotation=false&truckInfo=%5Bobject%20Object%5D\n",
    "https://compass.nextbillion.io/directions?city=Netherlands&origin=52.307811076568,4.756795270353&dest=52.294867348705,4.8081429866896&approaches=unrestricted&approaches=unrestricted&travelMode=4&departureTimeOption=custom&departureTime=1664215200000&alternative=false&serviceProviders=Plain%20NB&serviceProviders=Google&session=5kKmDl&alternativeNum=1&annotation=false&truckInfo=%5Bobject%20Object%5D\n",
    "https://compass.nextbillion.io/directions?city=Netherlands&origin=52.3436039707298,4.90016018220922&dest=52.3931274372291,4.79933425378656&approaches=unrestricted&approaches=unrestricted&travelMode=4&departureTimeOption=custom&departureTime=1664215200000&alternative=false&serviceProviders=Plain%20NB&serviceProviders=Google&session=5kKmDl&alternativeNum=1&annotation=false&truckInfo=%5Bobject%20Object%5D\n",
    "https://compass.nextbillion.io/directions?city=Netherlands&origin=52.4208820144871,4.87705395776059&dest=52.4273561268654,4.81521510235743&approaches=unrestricted&approaches=unrestricted&travelMode=4&departureTimeOption=custom&departureTime=1664215200000&alternative=false&serviceProviders=Plain%20NB&serviceProviders=Google&session=5kKmDl&alternativeNum=1&annotation=false&truckInfo=%5Bobject%20Object%5D\n",
    "https://compass.nextbillion.io/directions?city=Netherlands&origin=52.2915393681804,4.74003043054232&dest=52.415816750388,4.91363532605008&approaches=unrestricted&approaches=unrestricted&travelMode=4&departureTimeOption=custom&departureTime=1664215200000&alternative=false&serviceProviders=Plain%20NB&serviceProviders=Google&session=5kKmDl&alternativeNum=1&annotation=false&truckInfo=%5Bobject%20Object%5D\n",
    "https://compass.nextbillion.io/directions?city=Netherlands&origin=52.3537554204645,4.94355612582026&dest=52.2790068451993,4.76879258543033&approaches=unrestricted&approaches=unrestricted&travelMode=4&departureTimeOption=custom&departureTime=1664215200000&alternative=false&serviceProviders=Plain%20NB&serviceProviders=Google&session=5kKmDl&alternativeNum=1&annotation=false&truckInfo=%5Bobject%20Object%5D\n",
    "https://compass.nextbillion.io/directions?city=Netherlands&origin=52.4188612872473,4.73602004579203&dest=52.2970504971805,4.95527017493998&approaches=unrestricted&approaches=unrestricted&travelMode=4&departureTimeOption=custom&departureTime=1664215200000&alternative=false&serviceProviders=Plain%20NB&serviceProviders=Google&session=5kKmDl&alternativeNum=1&annotation=false&truckInfo=%5Bobject%20Object%5D\n",
    "https://compass.nextbillion.io/directions?city=Netherlands&origin=52.4298973408263,5.05224158381437&dest=52.3283562851796,4.77259491359105&approaches=unrestricted&approaches=unrestricted&travelMode=4&departureTimeOption=custom&departureTime=1664215200000&alternative=false&serviceProviders=Plain%20NB&serviceProviders=Google&session=5kKmDl&alternativeNum=1&annotation=false&truckInfo=%5Bobject%20Object%5D\n",
    "https://compass.nextbillion.io/directions?city=Netherlands&origin=52.4248502450689,4.99885263133735&dest=52.2788697659233,5.0037979000842&approaches=unrestricted&approaches=unrestricted&travelMode=4&departureTimeOption=custom&departureTime=1664215200000&alternative=false&serviceProviders=Plain%20NB&serviceProviders=Google&session=5kKmDl&alternativeNum=1&annotation=false&truckInfo=%5Bobject%20Object%5D\n",
    "https://compass.nextbillion.io/directions?city=Netherlands&origin=52.4126142066621,4.98352030461615&dest=52.3232384980215,4.7540419795955&approaches=unrestricted&approaches=unrestricted&travelMode=4&departureTimeOption=custom&departureTime=1664215200000&alternative=false&serviceProviders=Plain%20NB&serviceProviders=Google&session=5kKmDl&alternativeNum=1&annotation=false&truckInfo=%5Bobject%20Object%5D\n",
    "https://compass.nextbillion.io/directions?city=Netherlands&origin=52.2822506366117,4.78531069609455&dest=52.402303015323,4.82441957238203&approaches=unrestricted&approaches=unrestricted&travelMode=4&departureTimeOption=custom&departureTime=1664215200000&alternative=false&serviceProviders=Plain%20NB&serviceProviders=Google&session=5kKmDl&alternativeNum=1&annotation=false&truckInfo=%5Bobject%20Object%5D\n",
    "https://compass.nextbillion.io/directions?city=Netherlands&origin=52.3405927098562,4.79272236206995&dest=52.3944210848841,4.87041779314476&approaches=unrestricted&approaches=unrestricted&travelMode=4&departureTimeOption=custom&departureTime=1664215200000&alternative=false&serviceProviders=Plain%20NB&serviceProviders=Google&session=5kKmDl&alternativeNum=1&annotation=false&truckInfo=%5Bobject%20Object%5D\n",
    "https://compass.nextbillion.io/directions?city=Netherlands&origin=52.414322147866,4.83394712397307&dest=52.4206787683602,4.8052512145502&approaches=unrestricted&approaches=unrestricted&travelMode=4&departureTimeOption=custom&departureTime=1664215200000&alternative=false&serviceProviders=Plain%20NB&serviceProviders=Google&session=5kKmDl&alternativeNum=1&annotation=false&truckInfo=%5Bobject%20Object%5D\n",
    "https://compass.nextbillion.io/directions?city=Netherlands&origin=52.4161361723712,4.86017176592094&dest=52.3213387502099,4.99778502218564&approaches=unrestricted&approaches=unrestricted&travelMode=4&departureTimeOption=custom&departureTime=1664215200000&alternative=false&serviceProviders=Plain%20NB&serviceProviders=Google&session=5kKmDl&alternativeNum=1&annotation=false&truckInfo=%5Bobject%20Object%5D\n",
    "https://compass.nextbillion.io/directions?city=Netherlands&origin=52.280287246709,5.07867863751698&dest=52.3734149637867,5.04906601425301&approaches=unrestricted&approaches=unrestricted&travelMode=4&departureTimeOption=custom&departureTime=1664215200000&alternative=false&serviceProviders=Plain%20NB&serviceProviders=Google&session=5kKmDl&alternativeNum=1&annotation=false&truckInfo=%5Bobject%20Object%5D\n",
    "https://compass.nextbillion.io/directions?city=Netherlands&origin=52.2881231711609,5.0450336212277&dest=52.4106470701857,4.74109139553783&approaches=unrestricted&approaches=unrestricted&travelMode=4&departureTimeOption=custom&departureTime=1664215200000&alternative=false&serviceProviders=Plain%20NB&serviceProviders=Google&session=5kKmDl&alternativeNum=1&annotation=false&truckInfo=%5Bobject%20Object%5D\n",
    "https://compass.nextbillion.io/directions?city=Netherlands&origin=52.4003640525569,4.99668864774271&dest=52.3384352581503,5.0342596421225&approaches=unrestricted&approaches=unrestricted&travelMode=4&departureTimeOption=custom&departureTime=1664215200000&alternative=false&serviceProviders=Plain%20NB&serviceProviders=Google&session=5kKmDl&alternativeNum=1&annotation=false&truckInfo=%5Bobject%20Object%5D\n",
    "https://compass.nextbillion.io/directions?city=Netherlands&origin=52.3703578625114,4.98600546200247&dest=52.3637452039466,4.80214696829705&approaches=unrestricted&approaches=unrestricted&travelMode=4&departureTimeOption=custom&departureTime=1664215200000&alternative=false&serviceProviders=Plain%20NB&serviceProviders=Google&session=5kKmDl&alternativeNum=1&annotation=false&truckInfo=%5Bobject%20Object%5D\n",
    "https://compass.nextbillion.io/directions?city=Netherlands&origin=52.4203964006866,5.00699023096532&dest=52.4275449486548,4.94143244772388&approaches=unrestricted&approaches=unrestricted&travelMode=4&departureTimeOption=custom&departureTime=1664215200000&alternative=false&serviceProviders=Plain%20NB&serviceProviders=Google&session=5kKmDl&alternativeNum=1&annotation=false&truckInfo=%5Bobject%20Object%5D\n",
    "https://compass.nextbillion.io/directions?city=Netherlands&origin=52.3179869230878,4.84417102778145&dest=52.4131436905527,4.83572307932326&approaches=unrestricted&approaches=unrestricted&travelMode=4&departureTimeOption=custom&departureTime=1664215200000&alternative=false&serviceProviders=Plain%20NB&serviceProviders=Google&session=5kKmDl&alternativeNum=1&annotation=false&truckInfo=%5Bobject%20Object%5D\n",
    "https://compass.nextbillion.io/directions?city=Netherlands&origin=52.2911161262064,4.92791374432292&dest=52.3725995055578,4.99986059705918&approaches=unrestricted&approaches=unrestricted&travelMode=4&departureTimeOption=custom&departureTime=1664215200000&alternative=false&serviceProviders=Plain%20NB&serviceProviders=Google&session=5kKmDl&alternativeNum=1&annotation=false&truckInfo=%5Bobject%20Object%5D\"\"\""
   ]
  },
  {
   "cell_type": "code",
   "execution_count": 21,
   "id": "12fba2f1",
   "metadata": {},
   "outputs": [
    {
     "data": {
      "text/plain": [
       "'\"https://compass.nextbillion.io/directions?city=Netherlands&origin=52.3839284917231,4.8100256955871&dest=52.3357394853961,4.78101235265613&approaches=unrestricted&approaches=unrestricted&travelMode=4&departureTimeOption=custom&departureTime=1664215200000&alternative=false&serviceProviders=Plain%20NB&serviceProviders=Google&session=5kKmDl&alternativeNum=1&annotation=false&truckInfo=%5Bobject%20Object%5D\",\"https://compass.nextbillion.io/directions?city=Netherlands&origin=52.348333343299,5.02700945050296&dest=52.2851006981045,4.91830681274708&approaches=unrestricted&approaches=unrestricted&travelMode=4&departureTimeOption=custom&departureTime=1664215200000&alternative=false&serviceProviders=Plain%20NB&serviceProviders=Google&session=5kKmDl&alternativeNum=1&annotation=false&truckInfo=%5Bobject%20Object%5D\",\"https://compass.nextbillion.io/directions?city=Netherlands&origin=52.3012884222679,5.07656803937645&dest=52.4053451317983,4.94921337875096&approaches=unrestricted&approaches=unrestricted&travelMode=4&departureTimeOption=custom&departureTime=1664215200000&alternative=false&serviceProviders=Plain%20NB&serviceProviders=Google&session=5kKmDl&alternativeNum=1&annotation=false&truckInfo=%5Bobject%20Object%5D\",\"https://compass.nextbillion.io/directions?city=Netherlands&origin=52.2878199417565,4.81124739877535&dest=52.383199745959,5.06213097319747&approaches=unrestricted&approaches=unrestricted&travelMode=4&departureTimeOption=custom&departureTime=1664215200000&alternative=false&serviceProviders=Plain%20NB&serviceProviders=Google&session=5kKmDl&alternativeNum=1&annotation=false&truckInfo=%5Bobject%20Object%5D\",\"https://compass.nextbillion.io/directions?city=Netherlands&origin=52.3603439907997,4.94163001243425&dest=52.40941679158,4.77792341943779&approaches=unrestricted&approaches=unrestricted&travelMode=4&departureTimeOption=custom&departureTime=1664215200000&alternative=false&serviceProviders=Plain%20NB&serviceProviders=Google&session=5kKmDl&alternativeNum=1&annotation=false&truckInfo=%5Bobject%20Object%5D\",\"https://compass.nextbillion.io/directions?city=Netherlands&origin=52.3188555262332,4.82157753922426&dest=52.2902425025551,4.98598565239037&approaches=unrestricted&approaches=unrestricted&travelMode=4&departureTimeOption=custom&departureTime=1664215200000&alternative=false&serviceProviders=Plain%20NB&serviceProviders=Google&session=5kKmDl&alternativeNum=1&annotation=false&truckInfo=%5Bobject%20Object%5D\",\"https://compass.nextbillion.io/directions?city=Netherlands&origin=52.4116185173828,4.83131138208055&dest=52.2985841202307,5.00679495965076&approaches=unrestricted&approaches=unrestricted&travelMode=4&departureTimeOption=custom&departureTime=1664215200000&alternative=false&serviceProviders=Plain%20NB&serviceProviders=Google&session=5kKmDl&alternativeNum=1&annotation=false&truckInfo=%5Bobject%20Object%5D\",\"https://compass.nextbillion.io/directions?city=Netherlands&origin=52.3299260680469,4.79350810508637&dest=52.4085746537336,4.88181896256849&approaches=unrestricted&approaches=unrestricted&travelMode=4&departureTimeOption=custom&departureTime=1664215200000&alternative=false&serviceProviders=Plain%20NB&serviceProviders=Google&session=5kKmDl&alternativeNum=1&annotation=false&truckInfo=%5Bobject%20Object%5D\",\"https://compass.nextbillion.io/directions?city=Netherlands&origin=52.2841070189321,5.05160085987175&dest=52.3049394863452,4.95839418374198&approaches=unrestricted&approaches=unrestricted&travelMode=4&departureTimeOption=custom&departureTime=1664215200000&alternative=false&serviceProviders=Plain%20NB&serviceProviders=Google&session=5kKmDl&alternativeNum=1&annotation=false&truckInfo=%5Bobject%20Object%5D\",\"https://compass.nextbillion.io/directions?city=Netherlands&origin=52.3833538838824,4.97075766990595&dest=52.4289430687766,4.80534560519128&approaches=unrestricted&approaches=unrestricted&travelMode=4&departureTimeOption=custom&departureTime=1664215200000&alternative=false&serviceProviders=Plain%20NB&serviceProviders=Google&session=5kKmDl&alternativeNum=1&annotation=false&truckInfo=%5Bobject%20Object%5D\",\"https://compass.nextbillion.io/directions?city=Netherlands&origin=52.3561647530077,5.04994029469338&dest=52.3338753516366,4.83872195348116&approaches=unrestricted&approaches=unrestricted&travelMode=4&departureTimeOption=custom&departureTime=1664215200000&alternative=false&serviceProviders=Plain%20NB&serviceProviders=Google&session=5kKmDl&alternativeNum=1&annotation=false&truckInfo=%5Bobject%20Object%5D\",\"https://compass.nextbillion.io/directions?city=Netherlands&origin=52.2902461966962,4.90826957695735&dest=52.2836137498391,4.7714803362783&approaches=unrestricted&approaches=unrestricted&travelMode=4&departureTimeOption=custom&departureTime=1664215200000&alternative=false&serviceProviders=Plain%20NB&serviceProviders=Google&session=5kKmDl&alternativeNum=1&annotation=false&truckInfo=%5Bobject%20Object%5D\",\"https://compass.nextbillion.io/directions?city=Netherlands&origin=52.3576324083181,4.98923044791432&dest=52.4040741337288,5.06299581838025&approaches=unrestricted&approaches=unrestricted&travelMode=4&departureTimeOption=custom&departureTime=1664215200000&alternative=false&serviceProviders=Plain%20NB&serviceProviders=Google&session=5kKmDl&alternativeNum=1&annotation=false&truckInfo=%5Bobject%20Object%5D\",\"https://compass.nextbillion.io/directions?city=Netherlands&origin=52.3747575715728,4.83585822274784&dest=52.410002151759,5.05675016677159&approaches=unrestricted&approaches=unrestricted&travelMode=4&departureTimeOption=custom&departureTime=1664215200000&alternative=false&serviceProviders=Plain%20NB&serviceProviders=Google&session=5kKmDl&alternativeNum=1&annotation=false&truckInfo=%5Bobject%20Object%5D\",\"https://compass.nextbillion.io/directions?city=Netherlands&origin=52.2902779821639,5.02832337426623&dest=52.3349386062869,5.00656037057612&approaches=unrestricted&approaches=unrestricted&travelMode=4&departureTimeOption=custom&departureTime=1664215200000&alternative=false&serviceProviders=Plain%20NB&serviceProviders=Google&session=5kKmDl&alternativeNum=1&annotation=false&truckInfo=%5Bobject%20Object%5D\",\"https://compass.nextbillion.io/directions?city=Netherlands&origin=52.4027675435761,4.90597653286411&dest=52.4140543435671,4.81373045796784&approaches=unrestricted&approaches=unrestricted&travelMode=4&departureTimeOption=custom&departureTime=1664215200000&alternative=false&serviceProviders=Plain%20NB&serviceProviders=Google&session=5kKmDl&alternativeNum=1&annotation=false&truckInfo=%5Bobject%20Object%5D\",\"https://compass.nextbillion.io/directions?city=Netherlands&origin=52.4245164611321,4.83669636503064&dest=52.4268779397065,4.82506112841164&approaches=unrestricted&approaches=unrestricted&travelMode=4&departureTimeOption=custom&departureTime=1664215200000&alternative=false&serviceProviders=Plain%20NB&serviceProviders=Google&session=5kKmDl&alternativeNum=1&annotation=false&truckInfo=%5Bobject%20Object%5D\",\"https://compass.nextbillion.io/directions?city=Netherlands&origin=52.3276235009859,4.78209207996182&dest=52.3439177357926,4.75410787890865&approaches=unrestricted&approaches=unrestricted&travelMode=4&departureTimeOption=custom&departureTime=1664215200000&alternative=false&serviceProviders=Plain%20NB&serviceProviders=Google&session=5kKmDl&alternativeNum=1&annotation=false&truckInfo=%5Bobject%20Object%5D\",\"https://compass.nextbillion.io/directions?city=Netherlands&origin=52.305708372895,4.9289443026075&dest=52.3795726177578,4.79105968139155&approaches=unrestricted&approaches=unrestricted&travelMode=4&departureTimeOption=custom&departureTime=1664215200000&alternative=false&serviceProviders=Plain%20NB&serviceProviders=Google&session=5kKmDl&alternativeNum=1&annotation=false&truckInfo=%5Bobject%20Object%5D\",\"https://compass.nextbillion.io/directions?city=Netherlands&origin=52.3750347662782,4.98620667307567&dest=52.3770331787721,4.8211019654999&approaches=unrestricted&approaches=unrestricted&travelMode=4&departureTimeOption=custom&departureTime=1664215200000&alternative=false&serviceProviders=Plain%20NB&serviceProviders=Google&session=5kKmDl&alternativeNum=1&annotation=false&truckInfo=%5Bobject%20Object%5D\",\"https://compass.nextbillion.io/directions?city=Netherlands&origin=52.3838049086444,5.05770497400842&dest=52.3829048725366,5.00937870762319&approaches=unrestricted&approaches=unrestricted&travelMode=4&departureTimeOption=custom&departureTime=1664215200000&alternative=false&serviceProviders=Plain%20NB&serviceProviders=Google&session=5kKmDl&alternativeNum=1&annotation=false&truckInfo=%5Bobject%20Object%5D\",\"https://compass.nextbillion.io/directions?city=Netherlands&origin=52.3386828750683,4.83958496548687&dest=52.3127097180503,4.95782702069517&approaches=unrestricted&approaches=unrestricted&travelMode=4&departureTimeOption=custom&departureTime=1664215200000&alternative=false&serviceProviders=Plain%20NB&serviceProviders=Google&session=5kKmDl&alternativeNum=1&annotation=false&truckInfo=%5Bobject%20Object%5D\",\"https://compass.nextbillion.io/directions?city=Netherlands&origin=52.3689639287462,4.99669886981478&dest=52.3007964914161,4.7721298134969&approaches=unrestricted&approaches=unrestricted&travelMode=4&departureTimeOption=custom&departureTime=1664215200000&alternative=false&serviceProviders=Plain%20NB&serviceProviders=Google&session=5kKmDl&alternativeNum=1&annotation=false&truckInfo=%5Bobject%20Object%5D\",\"https://compass.nextbillion.io/directions?city=Netherlands&origin=52.285541614883,4.91299165967692&dest=52.3364095514824,4.91398035533493&approaches=unrestricted&approaches=unrestricted&travelMode=4&departureTimeOption=custom&departureTime=1664215200000&alternative=false&serviceProviders=Plain%20NB&serviceProviders=Google&session=5kKmDl&alternativeNum=1&annotation=false&truckInfo=%5Bobject%20Object%5D\",\"https://compass.nextbillion.io/directions?city=Netherlands&origin=52.4055760800538,4.81846029438172&dest=52.3887568357333,4.84450260216346&approaches=unrestricted&approaches=unrestricted&travelMode=4&departureTimeOption=custom&departureTime=1664215200000&alternative=false&serviceProviders=Plain%20NB&serviceProviders=Google&session=5kKmDl&alternativeNum=1&annotation=false&truckInfo=%5Bobject%20Object%5D\",\"https://compass.nextbillion.io/directions?city=Netherlands&origin=52.347450250417,5.02667989060627&dest=52.2915711077294,4.97698417425884&approaches=unrestricted&approaches=unrestricted&travelMode=4&departureTimeOption=custom&departureTime=1664215200000&alternative=false&serviceProviders=Plain%20NB&serviceProviders=Google&session=5kKmDl&alternativeNum=1&annotation=false&truckInfo=%5Bobject%20Object%5D\",\"https://compass.nextbillion.io/directions?city=Netherlands&origin=52.4111160931881,4.76827501703669&dest=52.38960518655,4.7583699248587&approaches=unrestricted&approaches=unrestricted&travelMode=4&departureTimeOption=custom&departureTime=1664215200000&alternative=false&serviceProviders=Plain%20NB&serviceProviders=Google&session=5kKmDl&alternativeNum=1&annotation=false&truckInfo=%5Bobject%20Object%5D\",\"https://compass.nextbillion.io/directions?city=Netherlands&origin=52.4016843574491,4.94500503345958&dest=52.3036236650046,4.95766718807743&approaches=unrestricted&approaches=unrestricted&travelMode=4&departureTimeOption=custom&departureTime=1664215200000&alternative=false&serviceProviders=Plain%20NB&serviceProviders=Google&session=5kKmDl&alternativeNum=1&annotation=false&truckInfo=%5Bobject%20Object%5D\",\"https://compass.nextbillion.io/directions?city=Netherlands&origin=52.3061011428663,4.84743015722461&dest=52.425738224226,4.90118113149253&approaches=unrestricted&approaches=unrestricted&travelMode=4&departureTimeOption=custom&departureTime=1664215200000&alternative=false&serviceProviders=Plain%20NB&serviceProviders=Google&session=5kKmDl&alternativeNum=1&annotation=false&truckInfo=%5Bobject%20Object%5D\",\"https://compass.nextbillion.io/directions?city=Netherlands&origin=52.3339192048128,4.98596353809364&dest=52.3486229837681,5.0640574601455&approaches=unrestricted&approaches=unrestricted&travelMode=4&departureTimeOption=custom&departureTime=1664215200000&alternative=false&serviceProviders=Plain%20NB&serviceProviders=Google&session=5kKmDl&alternativeNum=1&annotation=false&truckInfo=%5Bobject%20Object%5D\",\"https://compass.nextbillion.io/directions?city=Netherlands&origin=52.307811076568,4.756795270353&dest=52.294867348705,4.8081429866896&approaches=unrestricted&approaches=unrestricted&travelMode=4&departureTimeOption=custom&departureTime=1664215200000&alternative=false&serviceProviders=Plain%20NB&serviceProviders=Google&session=5kKmDl&alternativeNum=1&annotation=false&truckInfo=%5Bobject%20Object%5D\",\"https://compass.nextbillion.io/directions?city=Netherlands&origin=52.3436039707298,4.90016018220922&dest=52.3931274372291,4.79933425378656&approaches=unrestricted&approaches=unrestricted&travelMode=4&departureTimeOption=custom&departureTime=1664215200000&alternative=false&serviceProviders=Plain%20NB&serviceProviders=Google&session=5kKmDl&alternativeNum=1&annotation=false&truckInfo=%5Bobject%20Object%5D\",\"https://compass.nextbillion.io/directions?city=Netherlands&origin=52.4208820144871,4.87705395776059&dest=52.4273561268654,4.81521510235743&approaches=unrestricted&approaches=unrestricted&travelMode=4&departureTimeOption=custom&departureTime=1664215200000&alternative=false&serviceProviders=Plain%20NB&serviceProviders=Google&session=5kKmDl&alternativeNum=1&annotation=false&truckInfo=%5Bobject%20Object%5D\",\"https://compass.nextbillion.io/directions?city=Netherlands&origin=52.2915393681804,4.74003043054232&dest=52.415816750388,4.91363532605008&approaches=unrestricted&approaches=unrestricted&travelMode=4&departureTimeOption=custom&departureTime=1664215200000&alternative=false&serviceProviders=Plain%20NB&serviceProviders=Google&session=5kKmDl&alternativeNum=1&annotation=false&truckInfo=%5Bobject%20Object%5D\",\"https://compass.nextbillion.io/directions?city=Netherlands&origin=52.3537554204645,4.94355612582026&dest=52.2790068451993,4.76879258543033&approaches=unrestricted&approaches=unrestricted&travelMode=4&departureTimeOption=custom&departureTime=1664215200000&alternative=false&serviceProviders=Plain%20NB&serviceProviders=Google&session=5kKmDl&alternativeNum=1&annotation=false&truckInfo=%5Bobject%20Object%5D\",\"https://compass.nextbillion.io/directions?city=Netherlands&origin=52.4188612872473,4.73602004579203&dest=52.2970504971805,4.95527017493998&approaches=unrestricted&approaches=unrestricted&travelMode=4&departureTimeOption=custom&departureTime=1664215200000&alternative=false&serviceProviders=Plain%20NB&serviceProviders=Google&session=5kKmDl&alternativeNum=1&annotation=false&truckInfo=%5Bobject%20Object%5D\",\"https://compass.nextbillion.io/directions?city=Netherlands&origin=52.4298973408263,5.05224158381437&dest=52.3283562851796,4.77259491359105&approaches=unrestricted&approaches=unrestricted&travelMode=4&departureTimeOption=custom&departureTime=1664215200000&alternative=false&serviceProviders=Plain%20NB&serviceProviders=Google&session=5kKmDl&alternativeNum=1&annotation=false&truckInfo=%5Bobject%20Object%5D\",\"https://compass.nextbillion.io/directions?city=Netherlands&origin=52.4248502450689,4.99885263133735&dest=52.2788697659233,5.0037979000842&approaches=unrestricted&approaches=unrestricted&travelMode=4&departureTimeOption=custom&departureTime=1664215200000&alternative=false&serviceProviders=Plain%20NB&serviceProviders=Google&session=5kKmDl&alternativeNum=1&annotation=false&truckInfo=%5Bobject%20Object%5D\",\"https://compass.nextbillion.io/directions?city=Netherlands&origin=52.4126142066621,4.98352030461615&dest=52.3232384980215,4.7540419795955&approaches=unrestricted&approaches=unrestricted&travelMode=4&departureTimeOption=custom&departureTime=1664215200000&alternative=false&serviceProviders=Plain%20NB&serviceProviders=Google&session=5kKmDl&alternativeNum=1&annotation=false&truckInfo=%5Bobject%20Object%5D\",\"https://compass.nextbillion.io/directions?city=Netherlands&origin=52.2822506366117,4.78531069609455&dest=52.402303015323,4.82441957238203&approaches=unrestricted&approaches=unrestricted&travelMode=4&departureTimeOption=custom&departureTime=1664215200000&alternative=false&serviceProviders=Plain%20NB&serviceProviders=Google&session=5kKmDl&alternativeNum=1&annotation=false&truckInfo=%5Bobject%20Object%5D\",\"https://compass.nextbillion.io/directions?city=Netherlands&origin=52.3405927098562,4.79272236206995&dest=52.3944210848841,4.87041779314476&approaches=unrestricted&approaches=unrestricted&travelMode=4&departureTimeOption=custom&departureTime=1664215200000&alternative=false&serviceProviders=Plain%20NB&serviceProviders=Google&session=5kKmDl&alternativeNum=1&annotation=false&truckInfo=%5Bobject%20Object%5D\",\"https://compass.nextbillion.io/directions?city=Netherlands&origin=52.414322147866,4.83394712397307&dest=52.4206787683602,4.8052512145502&approaches=unrestricted&approaches=unrestricted&travelMode=4&departureTimeOption=custom&departureTime=1664215200000&alternative=false&serviceProviders=Plain%20NB&serviceProviders=Google&session=5kKmDl&alternativeNum=1&annotation=false&truckInfo=%5Bobject%20Object%5D\",\"https://compass.nextbillion.io/directions?city=Netherlands&origin=52.4161361723712,4.86017176592094&dest=52.3213387502099,4.99778502218564&approaches=unrestricted&approaches=unrestricted&travelMode=4&departureTimeOption=custom&departureTime=1664215200000&alternative=false&serviceProviders=Plain%20NB&serviceProviders=Google&session=5kKmDl&alternativeNum=1&annotation=false&truckInfo=%5Bobject%20Object%5D\",\"https://compass.nextbillion.io/directions?city=Netherlands&origin=52.280287246709,5.07867863751698&dest=52.3734149637867,5.04906601425301&approaches=unrestricted&approaches=unrestricted&travelMode=4&departureTimeOption=custom&departureTime=1664215200000&alternative=false&serviceProviders=Plain%20NB&serviceProviders=Google&session=5kKmDl&alternativeNum=1&annotation=false&truckInfo=%5Bobject%20Object%5D\",\"https://compass.nextbillion.io/directions?city=Netherlands&origin=52.2881231711609,5.0450336212277&dest=52.4106470701857,4.74109139553783&approaches=unrestricted&approaches=unrestricted&travelMode=4&departureTimeOption=custom&departureTime=1664215200000&alternative=false&serviceProviders=Plain%20NB&serviceProviders=Google&session=5kKmDl&alternativeNum=1&annotation=false&truckInfo=%5Bobject%20Object%5D\",\"https://compass.nextbillion.io/directions?city=Netherlands&origin=52.4003640525569,4.99668864774271&dest=52.3384352581503,5.0342596421225&approaches=unrestricted&approaches=unrestricted&travelMode=4&departureTimeOption=custom&departureTime=1664215200000&alternative=false&serviceProviders=Plain%20NB&serviceProviders=Google&session=5kKmDl&alternativeNum=1&annotation=false&truckInfo=%5Bobject%20Object%5D\",\"https://compass.nextbillion.io/directions?city=Netherlands&origin=52.3703578625114,4.98600546200247&dest=52.3637452039466,4.80214696829705&approaches=unrestricted&approaches=unrestricted&travelMode=4&departureTimeOption=custom&departureTime=1664215200000&alternative=false&serviceProviders=Plain%20NB&serviceProviders=Google&session=5kKmDl&alternativeNum=1&annotation=false&truckInfo=%5Bobject%20Object%5D\",\"https://compass.nextbillion.io/directions?city=Netherlands&origin=52.4203964006866,5.00699023096532&dest=52.4275449486548,4.94143244772388&approaches=unrestricted&approaches=unrestricted&travelMode=4&departureTimeOption=custom&departureTime=1664215200000&alternative=false&serviceProviders=Plain%20NB&serviceProviders=Google&session=5kKmDl&alternativeNum=1&annotation=false&truckInfo=%5Bobject%20Object%5D\",\"https://compass.nextbillion.io/directions?city=Netherlands&origin=52.3179869230878,4.84417102778145&dest=52.4131436905527,4.83572307932326&approaches=unrestricted&approaches=unrestricted&travelMode=4&departureTimeOption=custom&departureTime=1664215200000&alternative=false&serviceProviders=Plain%20NB&serviceProviders=Google&session=5kKmDl&alternativeNum=1&annotation=false&truckInfo=%5Bobject%20Object%5D\",\"https://compass.nextbillion.io/directions?city=Netherlands&origin=52.2911161262064,4.92791374432292&dest=52.3725995055578,4.99986059705918&approaches=unrestricted&approaches=unrestricted&travelMode=4&departureTimeOption=custom&departureTime=1664215200000&alternative=false&serviceProviders=Plain%20NB&serviceProviders=Google&session=5kKmDl&alternativeNum=1&annotation=false&truckInfo=%5Bobject%20Object%5D\",'"
      ]
     },
     "execution_count": 21,
     "metadata": {},
     "output_type": "execute_result"
    }
   ],
   "source": [
    "links_strings = required_links_set.replace('https://','\"https://').replace('5Bobject%20Object%5D','5Bobject%20Object%5D\",').replace(\"\\n\",\"\")\n",
    "links_strings"
   ]
  },
  {
   "cell_type": "code",
   "execution_count": 22,
   "id": "6af10188",
   "metadata": {},
   "outputs": [],
   "source": [
    "links = [\"https://compass.nextbillion.io/directions?city=Netherlands&origin=52.3839284917231,4.8100256955871&dest=52.3357394853961,4.78101235265613&approaches=unrestricted&approaches=unrestricted&travelMode=4&departureTimeOption=custom&departureTime=1664215200000&alternative=false&serviceProviders=Plain%20NB&serviceProviders=Google&session=5kKmDl&alternativeNum=1&annotation=false&truckInfo=%5Bobject%20Object%5D\",\"https://compass.nextbillion.io/directions?city=Netherlands&origin=52.348333343299,5.02700945050296&dest=52.2851006981045,4.91830681274708&approaches=unrestricted&approaches=unrestricted&travelMode=4&departureTimeOption=custom&departureTime=1664215200000&alternative=false&serviceProviders=Plain%20NB&serviceProviders=Google&session=5kKmDl&alternativeNum=1&annotation=false&truckInfo=%5Bobject%20Object%5D\",\"https://compass.nextbillion.io/directions?city=Netherlands&origin=52.3012884222679,5.07656803937645&dest=52.4053451317983,4.94921337875096&approaches=unrestricted&approaches=unrestricted&travelMode=4&departureTimeOption=custom&departureTime=1664215200000&alternative=false&serviceProviders=Plain%20NB&serviceProviders=Google&session=5kKmDl&alternativeNum=1&annotation=false&truckInfo=%5Bobject%20Object%5D\",\"https://compass.nextbillion.io/directions?city=Netherlands&origin=52.2878199417565,4.81124739877535&dest=52.383199745959,5.06213097319747&approaches=unrestricted&approaches=unrestricted&travelMode=4&departureTimeOption=custom&departureTime=1664215200000&alternative=false&serviceProviders=Plain%20NB&serviceProviders=Google&session=5kKmDl&alternativeNum=1&annotation=false&truckInfo=%5Bobject%20Object%5D\",\"https://compass.nextbillion.io/directions?city=Netherlands&origin=52.3603439907997,4.94163001243425&dest=52.40941679158,4.77792341943779&approaches=unrestricted&approaches=unrestricted&travelMode=4&departureTimeOption=custom&departureTime=1664215200000&alternative=false&serviceProviders=Plain%20NB&serviceProviders=Google&session=5kKmDl&alternativeNum=1&annotation=false&truckInfo=%5Bobject%20Object%5D\",\"https://compass.nextbillion.io/directions?city=Netherlands&origin=52.3188555262332,4.82157753922426&dest=52.2902425025551,4.98598565239037&approaches=unrestricted&approaches=unrestricted&travelMode=4&departureTimeOption=custom&departureTime=1664215200000&alternative=false&serviceProviders=Plain%20NB&serviceProviders=Google&session=5kKmDl&alternativeNum=1&annotation=false&truckInfo=%5Bobject%20Object%5D\",\"https://compass.nextbillion.io/directions?city=Netherlands&origin=52.4116185173828,4.83131138208055&dest=52.2985841202307,5.00679495965076&approaches=unrestricted&approaches=unrestricted&travelMode=4&departureTimeOption=custom&departureTime=1664215200000&alternative=false&serviceProviders=Plain%20NB&serviceProviders=Google&session=5kKmDl&alternativeNum=1&annotation=false&truckInfo=%5Bobject%20Object%5D\",\"https://compass.nextbillion.io/directions?city=Netherlands&origin=52.3299260680469,4.79350810508637&dest=52.4085746537336,4.88181896256849&approaches=unrestricted&approaches=unrestricted&travelMode=4&departureTimeOption=custom&departureTime=1664215200000&alternative=false&serviceProviders=Plain%20NB&serviceProviders=Google&session=5kKmDl&alternativeNum=1&annotation=false&truckInfo=%5Bobject%20Object%5D\",\"https://compass.nextbillion.io/directions?city=Netherlands&origin=52.2841070189321,5.05160085987175&dest=52.3049394863452,4.95839418374198&approaches=unrestricted&approaches=unrestricted&travelMode=4&departureTimeOption=custom&departureTime=1664215200000&alternative=false&serviceProviders=Plain%20NB&serviceProviders=Google&session=5kKmDl&alternativeNum=1&annotation=false&truckInfo=%5Bobject%20Object%5D\",\"https://compass.nextbillion.io/directions?city=Netherlands&origin=52.3833538838824,4.97075766990595&dest=52.4289430687766,4.80534560519128&approaches=unrestricted&approaches=unrestricted&travelMode=4&departureTimeOption=custom&departureTime=1664215200000&alternative=false&serviceProviders=Plain%20NB&serviceProviders=Google&session=5kKmDl&alternativeNum=1&annotation=false&truckInfo=%5Bobject%20Object%5D\",\"https://compass.nextbillion.io/directions?city=Netherlands&origin=52.3561647530077,5.04994029469338&dest=52.3338753516366,4.83872195348116&approaches=unrestricted&approaches=unrestricted&travelMode=4&departureTimeOption=custom&departureTime=1664215200000&alternative=false&serviceProviders=Plain%20NB&serviceProviders=Google&session=5kKmDl&alternativeNum=1&annotation=false&truckInfo=%5Bobject%20Object%5D\",\"https://compass.nextbillion.io/directions?city=Netherlands&origin=52.2902461966962,4.90826957695735&dest=52.2836137498391,4.7714803362783&approaches=unrestricted&approaches=unrestricted&travelMode=4&departureTimeOption=custom&departureTime=1664215200000&alternative=false&serviceProviders=Plain%20NB&serviceProviders=Google&session=5kKmDl&alternativeNum=1&annotation=false&truckInfo=%5Bobject%20Object%5D\",\"https://compass.nextbillion.io/directions?city=Netherlands&origin=52.3576324083181,4.98923044791432&dest=52.4040741337288,5.06299581838025&approaches=unrestricted&approaches=unrestricted&travelMode=4&departureTimeOption=custom&departureTime=1664215200000&alternative=false&serviceProviders=Plain%20NB&serviceProviders=Google&session=5kKmDl&alternativeNum=1&annotation=false&truckInfo=%5Bobject%20Object%5D\",\"https://compass.nextbillion.io/directions?city=Netherlands&origin=52.3747575715728,4.83585822274784&dest=52.410002151759,5.05675016677159&approaches=unrestricted&approaches=unrestricted&travelMode=4&departureTimeOption=custom&departureTime=1664215200000&alternative=false&serviceProviders=Plain%20NB&serviceProviders=Google&session=5kKmDl&alternativeNum=1&annotation=false&truckInfo=%5Bobject%20Object%5D\",\"https://compass.nextbillion.io/directions?city=Netherlands&origin=52.2902779821639,5.02832337426623&dest=52.3349386062869,5.00656037057612&approaches=unrestricted&approaches=unrestricted&travelMode=4&departureTimeOption=custom&departureTime=1664215200000&alternative=false&serviceProviders=Plain%20NB&serviceProviders=Google&session=5kKmDl&alternativeNum=1&annotation=false&truckInfo=%5Bobject%20Object%5D\",\"https://compass.nextbillion.io/directions?city=Netherlands&origin=52.4027675435761,4.90597653286411&dest=52.4140543435671,4.81373045796784&approaches=unrestricted&approaches=unrestricted&travelMode=4&departureTimeOption=custom&departureTime=1664215200000&alternative=false&serviceProviders=Plain%20NB&serviceProviders=Google&session=5kKmDl&alternativeNum=1&annotation=false&truckInfo=%5Bobject%20Object%5D\",\"https://compass.nextbillion.io/directions?city=Netherlands&origin=52.4245164611321,4.83669636503064&dest=52.4268779397065,4.82506112841164&approaches=unrestricted&approaches=unrestricted&travelMode=4&departureTimeOption=custom&departureTime=1664215200000&alternative=false&serviceProviders=Plain%20NB&serviceProviders=Google&session=5kKmDl&alternativeNum=1&annotation=false&truckInfo=%5Bobject%20Object%5D\",\"https://compass.nextbillion.io/directions?city=Netherlands&origin=52.3276235009859,4.78209207996182&dest=52.3439177357926,4.75410787890865&approaches=unrestricted&approaches=unrestricted&travelMode=4&departureTimeOption=custom&departureTime=1664215200000&alternative=false&serviceProviders=Plain%20NB&serviceProviders=Google&session=5kKmDl&alternativeNum=1&annotation=false&truckInfo=%5Bobject%20Object%5D\",\"https://compass.nextbillion.io/directions?city=Netherlands&origin=52.305708372895,4.9289443026075&dest=52.3795726177578,4.79105968139155&approaches=unrestricted&approaches=unrestricted&travelMode=4&departureTimeOption=custom&departureTime=1664215200000&alternative=false&serviceProviders=Plain%20NB&serviceProviders=Google&session=5kKmDl&alternativeNum=1&annotation=false&truckInfo=%5Bobject%20Object%5D\",\"https://compass.nextbillion.io/directions?city=Netherlands&origin=52.3750347662782,4.98620667307567&dest=52.3770331787721,4.8211019654999&approaches=unrestricted&approaches=unrestricted&travelMode=4&departureTimeOption=custom&departureTime=1664215200000&alternative=false&serviceProviders=Plain%20NB&serviceProviders=Google&session=5kKmDl&alternativeNum=1&annotation=false&truckInfo=%5Bobject%20Object%5D\",\"https://compass.nextbillion.io/directions?city=Netherlands&origin=52.3838049086444,5.05770497400842&dest=52.3829048725366,5.00937870762319&approaches=unrestricted&approaches=unrestricted&travelMode=4&departureTimeOption=custom&departureTime=1664215200000&alternative=false&serviceProviders=Plain%20NB&serviceProviders=Google&session=5kKmDl&alternativeNum=1&annotation=false&truckInfo=%5Bobject%20Object%5D\",\"https://compass.nextbillion.io/directions?city=Netherlands&origin=52.3386828750683,4.83958496548687&dest=52.3127097180503,4.95782702069517&approaches=unrestricted&approaches=unrestricted&travelMode=4&departureTimeOption=custom&departureTime=1664215200000&alternative=false&serviceProviders=Plain%20NB&serviceProviders=Google&session=5kKmDl&alternativeNum=1&annotation=false&truckInfo=%5Bobject%20Object%5D\",\"https://compass.nextbillion.io/directions?city=Netherlands&origin=52.3689639287462,4.99669886981478&dest=52.3007964914161,4.7721298134969&approaches=unrestricted&approaches=unrestricted&travelMode=4&departureTimeOption=custom&departureTime=1664215200000&alternative=false&serviceProviders=Plain%20NB&serviceProviders=Google&session=5kKmDl&alternativeNum=1&annotation=false&truckInfo=%5Bobject%20Object%5D\",\"https://compass.nextbillion.io/directions?city=Netherlands&origin=52.285541614883,4.91299165967692&dest=52.3364095514824,4.91398035533493&approaches=unrestricted&approaches=unrestricted&travelMode=4&departureTimeOption=custom&departureTime=1664215200000&alternative=false&serviceProviders=Plain%20NB&serviceProviders=Google&session=5kKmDl&alternativeNum=1&annotation=false&truckInfo=%5Bobject%20Object%5D\",\"https://compass.nextbillion.io/directions?city=Netherlands&origin=52.4055760800538,4.81846029438172&dest=52.3887568357333,4.84450260216346&approaches=unrestricted&approaches=unrestricted&travelMode=4&departureTimeOption=custom&departureTime=1664215200000&alternative=false&serviceProviders=Plain%20NB&serviceProviders=Google&session=5kKmDl&alternativeNum=1&annotation=false&truckInfo=%5Bobject%20Object%5D\",\"https://compass.nextbillion.io/directions?city=Netherlands&origin=52.347450250417,5.02667989060627&dest=52.2915711077294,4.97698417425884&approaches=unrestricted&approaches=unrestricted&travelMode=4&departureTimeOption=custom&departureTime=1664215200000&alternative=false&serviceProviders=Plain%20NB&serviceProviders=Google&session=5kKmDl&alternativeNum=1&annotation=false&truckInfo=%5Bobject%20Object%5D\",\"https://compass.nextbillion.io/directions?city=Netherlands&origin=52.4111160931881,4.76827501703669&dest=52.38960518655,4.7583699248587&approaches=unrestricted&approaches=unrestricted&travelMode=4&departureTimeOption=custom&departureTime=1664215200000&alternative=false&serviceProviders=Plain%20NB&serviceProviders=Google&session=5kKmDl&alternativeNum=1&annotation=false&truckInfo=%5Bobject%20Object%5D\",\"https://compass.nextbillion.io/directions?city=Netherlands&origin=52.4016843574491,4.94500503345958&dest=52.3036236650046,4.95766718807743&approaches=unrestricted&approaches=unrestricted&travelMode=4&departureTimeOption=custom&departureTime=1664215200000&alternative=false&serviceProviders=Plain%20NB&serviceProviders=Google&session=5kKmDl&alternativeNum=1&annotation=false&truckInfo=%5Bobject%20Object%5D\",\"https://compass.nextbillion.io/directions?city=Netherlands&origin=52.3061011428663,4.84743015722461&dest=52.425738224226,4.90118113149253&approaches=unrestricted&approaches=unrestricted&travelMode=4&departureTimeOption=custom&departureTime=1664215200000&alternative=false&serviceProviders=Plain%20NB&serviceProviders=Google&session=5kKmDl&alternativeNum=1&annotation=false&truckInfo=%5Bobject%20Object%5D\",\"https://compass.nextbillion.io/directions?city=Netherlands&origin=52.3339192048128,4.98596353809364&dest=52.3486229837681,5.0640574601455&approaches=unrestricted&approaches=unrestricted&travelMode=4&departureTimeOption=custom&departureTime=1664215200000&alternative=false&serviceProviders=Plain%20NB&serviceProviders=Google&session=5kKmDl&alternativeNum=1&annotation=false&truckInfo=%5Bobject%20Object%5D\",\"https://compass.nextbillion.io/directions?city=Netherlands&origin=52.307811076568,4.756795270353&dest=52.294867348705,4.8081429866896&approaches=unrestricted&approaches=unrestricted&travelMode=4&departureTimeOption=custom&departureTime=1664215200000&alternative=false&serviceProviders=Plain%20NB&serviceProviders=Google&session=5kKmDl&alternativeNum=1&annotation=false&truckInfo=%5Bobject%20Object%5D\",\"https://compass.nextbillion.io/directions?city=Netherlands&origin=52.3436039707298,4.90016018220922&dest=52.3931274372291,4.79933425378656&approaches=unrestricted&approaches=unrestricted&travelMode=4&departureTimeOption=custom&departureTime=1664215200000&alternative=false&serviceProviders=Plain%20NB&serviceProviders=Google&session=5kKmDl&alternativeNum=1&annotation=false&truckInfo=%5Bobject%20Object%5D\",\"https://compass.nextbillion.io/directions?city=Netherlands&origin=52.4208820144871,4.87705395776059&dest=52.4273561268654,4.81521510235743&approaches=unrestricted&approaches=unrestricted&travelMode=4&departureTimeOption=custom&departureTime=1664215200000&alternative=false&serviceProviders=Plain%20NB&serviceProviders=Google&session=5kKmDl&alternativeNum=1&annotation=false&truckInfo=%5Bobject%20Object%5D\",\"https://compass.nextbillion.io/directions?city=Netherlands&origin=52.2915393681804,4.74003043054232&dest=52.415816750388,4.91363532605008&approaches=unrestricted&approaches=unrestricted&travelMode=4&departureTimeOption=custom&departureTime=1664215200000&alternative=false&serviceProviders=Plain%20NB&serviceProviders=Google&session=5kKmDl&alternativeNum=1&annotation=false&truckInfo=%5Bobject%20Object%5D\",\"https://compass.nextbillion.io/directions?city=Netherlands&origin=52.3537554204645,4.94355612582026&dest=52.2790068451993,4.76879258543033&approaches=unrestricted&approaches=unrestricted&travelMode=4&departureTimeOption=custom&departureTime=1664215200000&alternative=false&serviceProviders=Plain%20NB&serviceProviders=Google&session=5kKmDl&alternativeNum=1&annotation=false&truckInfo=%5Bobject%20Object%5D\",\"https://compass.nextbillion.io/directions?city=Netherlands&origin=52.4188612872473,4.73602004579203&dest=52.2970504971805,4.95527017493998&approaches=unrestricted&approaches=unrestricted&travelMode=4&departureTimeOption=custom&departureTime=1664215200000&alternative=false&serviceProviders=Plain%20NB&serviceProviders=Google&session=5kKmDl&alternativeNum=1&annotation=false&truckInfo=%5Bobject%20Object%5D\",\"https://compass.nextbillion.io/directions?city=Netherlands&origin=52.4298973408263,5.05224158381437&dest=52.3283562851796,4.77259491359105&approaches=unrestricted&approaches=unrestricted&travelMode=4&departureTimeOption=custom&departureTime=1664215200000&alternative=false&serviceProviders=Plain%20NB&serviceProviders=Google&session=5kKmDl&alternativeNum=1&annotation=false&truckInfo=%5Bobject%20Object%5D\",\"https://compass.nextbillion.io/directions?city=Netherlands&origin=52.4248502450689,4.99885263133735&dest=52.2788697659233,5.0037979000842&approaches=unrestricted&approaches=unrestricted&travelMode=4&departureTimeOption=custom&departureTime=1664215200000&alternative=false&serviceProviders=Plain%20NB&serviceProviders=Google&session=5kKmDl&alternativeNum=1&annotation=false&truckInfo=%5Bobject%20Object%5D\",\"https://compass.nextbillion.io/directions?city=Netherlands&origin=52.4126142066621,4.98352030461615&dest=52.3232384980215,4.7540419795955&approaches=unrestricted&approaches=unrestricted&travelMode=4&departureTimeOption=custom&departureTime=1664215200000&alternative=false&serviceProviders=Plain%20NB&serviceProviders=Google&session=5kKmDl&alternativeNum=1&annotation=false&truckInfo=%5Bobject%20Object%5D\",\"https://compass.nextbillion.io/directions?city=Netherlands&origin=52.2822506366117,4.78531069609455&dest=52.402303015323,4.82441957238203&approaches=unrestricted&approaches=unrestricted&travelMode=4&departureTimeOption=custom&departureTime=1664215200000&alternative=false&serviceProviders=Plain%20NB&serviceProviders=Google&session=5kKmDl&alternativeNum=1&annotation=false&truckInfo=%5Bobject%20Object%5D\",\"https://compass.nextbillion.io/directions?city=Netherlands&origin=52.3405927098562,4.79272236206995&dest=52.3944210848841,4.87041779314476&approaches=unrestricted&approaches=unrestricted&travelMode=4&departureTimeOption=custom&departureTime=1664215200000&alternative=false&serviceProviders=Plain%20NB&serviceProviders=Google&session=5kKmDl&alternativeNum=1&annotation=false&truckInfo=%5Bobject%20Object%5D\",\"https://compass.nextbillion.io/directions?city=Netherlands&origin=52.414322147866,4.83394712397307&dest=52.4206787683602,4.8052512145502&approaches=unrestricted&approaches=unrestricted&travelMode=4&departureTimeOption=custom&departureTime=1664215200000&alternative=false&serviceProviders=Plain%20NB&serviceProviders=Google&session=5kKmDl&alternativeNum=1&annotation=false&truckInfo=%5Bobject%20Object%5D\",\"https://compass.nextbillion.io/directions?city=Netherlands&origin=52.4161361723712,4.86017176592094&dest=52.3213387502099,4.99778502218564&approaches=unrestricted&approaches=unrestricted&travelMode=4&departureTimeOption=custom&departureTime=1664215200000&alternative=false&serviceProviders=Plain%20NB&serviceProviders=Google&session=5kKmDl&alternativeNum=1&annotation=false&truckInfo=%5Bobject%20Object%5D\",\"https://compass.nextbillion.io/directions?city=Netherlands&origin=52.280287246709,5.07867863751698&dest=52.3734149637867,5.04906601425301&approaches=unrestricted&approaches=unrestricted&travelMode=4&departureTimeOption=custom&departureTime=1664215200000&alternative=false&serviceProviders=Plain%20NB&serviceProviders=Google&session=5kKmDl&alternativeNum=1&annotation=false&truckInfo=%5Bobject%20Object%5D\",\"https://compass.nextbillion.io/directions?city=Netherlands&origin=52.2881231711609,5.0450336212277&dest=52.4106470701857,4.74109139553783&approaches=unrestricted&approaches=unrestricted&travelMode=4&departureTimeOption=custom&departureTime=1664215200000&alternative=false&serviceProviders=Plain%20NB&serviceProviders=Google&session=5kKmDl&alternativeNum=1&annotation=false&truckInfo=%5Bobject%20Object%5D\",\"https://compass.nextbillion.io/directions?city=Netherlands&origin=52.4003640525569,4.99668864774271&dest=52.3384352581503,5.0342596421225&approaches=unrestricted&approaches=unrestricted&travelMode=4&departureTimeOption=custom&departureTime=1664215200000&alternative=false&serviceProviders=Plain%20NB&serviceProviders=Google&session=5kKmDl&alternativeNum=1&annotation=false&truckInfo=%5Bobject%20Object%5D\",\"https://compass.nextbillion.io/directions?city=Netherlands&origin=52.3703578625114,4.98600546200247&dest=52.3637452039466,4.80214696829705&approaches=unrestricted&approaches=unrestricted&travelMode=4&departureTimeOption=custom&departureTime=1664215200000&alternative=false&serviceProviders=Plain%20NB&serviceProviders=Google&session=5kKmDl&alternativeNum=1&annotation=false&truckInfo=%5Bobject%20Object%5D\",\"https://compass.nextbillion.io/directions?city=Netherlands&origin=52.4203964006866,5.00699023096532&dest=52.4275449486548,4.94143244772388&approaches=unrestricted&approaches=unrestricted&travelMode=4&departureTimeOption=custom&departureTime=1664215200000&alternative=false&serviceProviders=Plain%20NB&serviceProviders=Google&session=5kKmDl&alternativeNum=1&annotation=false&truckInfo=%5Bobject%20Object%5D\",\"https://compass.nextbillion.io/directions?city=Netherlands&origin=52.3179869230878,4.84417102778145&dest=52.4131436905527,4.83572307932326&approaches=unrestricted&approaches=unrestricted&travelMode=4&departureTimeOption=custom&departureTime=1664215200000&alternative=false&serviceProviders=Plain%20NB&serviceProviders=Google&session=5kKmDl&alternativeNum=1&annotation=false&truckInfo=%5Bobject%20Object%5D\",\"https://compass.nextbillion.io/directions?city=Netherlands&origin=52.2911161262064,4.92791374432292&dest=52.3725995055578,4.99986059705918&approaches=unrestricted&approaches=unrestricted&travelMode=4&departureTimeOption=custom&departureTime=1664215200000&alternative=false&serviceProviders=Plain%20NB&serviceProviders=Google&session=5kKmDl&alternativeNum=1&annotation=false&truckInfo=%5Bobject%20Object%5D\"]"
   ]
  },
  {
   "cell_type": "code",
   "execution_count": 23,
   "id": "97bff772",
   "metadata": {
    "scrolled": true
   },
   "outputs": [
    {
     "data": {
      "text/plain": [
       "'https://compass.nextbillion.io/directions?city=Netherlands&origin=52.2911161262064,4.92791374432292&dest=52.3725995055578,4.99986059705918&approaches=unrestricted&approaches=unrestricted&travelMode=4&departureTimeOption=custom&departureTime=1664215200000&alternative=false&serviceProviders=Plain%20NB&serviceProviders=Google&session=5kKmDl&alternativeNum=1&annotation=false&truckInfo=%5Bobject%20Object%5D'"
      ]
     },
     "execution_count": 23,
     "metadata": {},
     "output_type": "execute_result"
    }
   ],
   "source": [
    "links[-1]"
   ]
  },
  {
   "cell_type": "code",
   "execution_count": null,
   "id": "cda1f945",
   "metadata": {},
   "outputs": [],
   "source": [
    "livetraffics = []\n",
    "\n",
    "for each in links:\n",
    "    driver.get(each)\n",
    "    time.sleep(5)\n",
    "    livetraffics.append(driver.find_element(By.XPATH, \"/html/body/app-root/app-base-layout/app-map/div/div[4]/div[2]/dl/dd[3]\").text)"
   ]
  },
  {
   "cell_type": "code",
   "execution_count": null,
   "id": "03a43cf4",
   "metadata": {},
   "outputs": [],
   "source": []
  },
  {
   "cell_type": "markdown",
   "id": "65f1d808",
   "metadata": {},
   "source": [
    "# livetraffic info check"
   ]
  },
  {
   "cell_type": "markdown",
   "id": "dfbcf39f",
   "metadata": {},
   "source": [
    "# NBAI"
   ]
  },
  {
   "cell_type": "code",
   "execution_count": 42,
   "id": "19133f8b",
   "metadata": {},
   "outputs": [],
   "source": [
    "nb_duration = []\n",
    "nb_distance = []\n",
    "google_duration = []\n",
    "google_distance = []\n",
    "\n",
    "for each in links:\n",
    "    driver.get(each)\n",
    "    time.sleep(7)\n",
    "        \n",
    "    try:\n",
    "        nb_duration.append(driver.find_element(By.XPATH, \"/html/body/app-root/app-base-layout/app-map/div/div[4]/div[2]/dl/dd[2]\").text)\n",
    "    except:\n",
    "        nb_duration.append(\"nb_duration_error1\")\n",
    "        \n",
    "    try:   \n",
    "        nb_distance.append(driver.find_element(By.XPATH, \"/html/body/app-root/app-base-layout/app-map/div/div[4]/div[2]/dl/dd[1]\").text)\n",
    "    except:\n",
    "        nb_distance.append(\"error1\")\n",
    "    \n",
    "    try:\n",
    "        google_duration.append(driver.find_element(By.XPATH, \"/html/body/app-root/app-base-layout/app-map/div/div[5]/div[2]/dl/dd[2]\").text)\n",
    "    except:\n",
    "        google_duration.append(\"error1\")\n",
    "        \n",
    "    try:    \n",
    "        google_distance.append(driver.find_element(By.XPATH, \"/html/body/app-root/app-base-layout/app-map/div/div[5]/div[2]/dl/dd[1]\").text)\n",
    "    except:\n",
    "        google_distance.append(\"error1\")"
   ]
  },
  {
   "cell_type": "code",
   "execution_count": 47,
   "id": "e008fc53",
   "metadata": {},
   "outputs": [
    {
     "name": "stdout",
     "output_type": "stream",
     "text": [
      "7.45 km\n",
      "15.24 km\n",
      "19.43 km\n",
      "error1\n",
      "15.46 km\n",
      "19.07 km\n",
      "27.46 km\n",
      "21.38 km\n",
      "12.03 km\n",
      "14.05 km\n",
      "error1\n",
      "15.96 km\n",
      "19.66 km\n",
      "25.71 km\n",
      "10.00 km\n",
      "16.66 km\n",
      "2.37 km\n",
      "3.08 km\n",
      "16.63 km\n",
      "18.55 km\n",
      "1.31 km\n",
      "14.96 km\n",
      "30.17 km\n",
      "7.62 km\n",
      "5.34 km\n",
      "10.28 km\n",
      "4.66 km\n",
      "15.77 km\n",
      "24.00 km\n",
      "7.37 km\n",
      "10.06 km\n",
      "14.28 km\n",
      "7.88 km\n",
      "25.91 km\n",
      "23.12 km\n",
      "31.07 km\n",
      "39.80 km\n",
      "30.61 km\n",
      "33.64 km\n",
      "19.88 km\n",
      "12.80 km\n",
      "11.55 km\n",
      "22.70 km\n",
      "error1\n",
      "36.70 km\n",
      "13.76 km\n",
      "21.61 km\n",
      "6.95 km\n",
      "15.90 km\n",
      "17.41 km\n"
     ]
    }
   ],
   "source": [
    "for each in google_distance:\n",
    "    print(each)"
   ]
  },
  {
   "cell_type": "code",
   "execution_count": 44,
   "id": "d760aeeb",
   "metadata": {},
   "outputs": [
    {
     "data": {
      "text/plain": [
       "50"
      ]
     },
     "execution_count": 44,
     "metadata": {},
     "output_type": "execute_result"
    }
   ],
   "source": [
    "len(nb_distance)"
   ]
  },
  {
   "cell_type": "markdown",
   "id": "c83d6cce",
   "metadata": {},
   "source": [
    "# Google"
   ]
  },
  {
   "cell_type": "code",
   "execution_count": 18,
   "id": "0565bb2c",
   "metadata": {},
   "outputs": [
    {
     "ename": "NoSuchElementException",
     "evalue": "Message: no such element: Unable to locate element: {\"method\":\"xpath\",\"selector\":\"/html/body/app-root/app-base-layout/app-map/div/div[5]/div[2]/dl/dd[2]\"}\n  (Session info: chrome=104.0.5112.101)\nStacktrace:\n#0 0x5619bfb39403 <unknown>\n#1 0x5619bf93f778 <unknown>\n#2 0x5619bf976c87 <unknown>\n#3 0x5619bf976e51 <unknown>\n#4 0x5619bf9a9f24 <unknown>\n#5 0x5619bf994a2d <unknown>\n#6 0x5619bf9a7c74 <unknown>\n#7 0x5619bf9948f3 <unknown>\n#8 0x5619bf96a0d8 <unknown>\n#9 0x5619bf96b205 <unknown>\n#10 0x5619bfb80e3d <unknown>\n#11 0x5619bfb83db6 <unknown>\n#12 0x5619bfb6a13e <unknown>\n#13 0x5619bfb849b5 <unknown>\n#14 0x5619bfb5e970 <unknown>\n#15 0x5619bfba1228 <unknown>\n#16 0x5619bfba13bf <unknown>\n#17 0x5619bfbbbabe <unknown>\n#18 0x7fccf0caf609 <unknown>\n",
     "output_type": "error",
     "traceback": [
      "\u001b[0;31m---------------------------------------------------------------------------\u001b[0m",
      "\u001b[0;31mNoSuchElementException\u001b[0m                    Traceback (most recent call last)",
      "\u001b[0;32m<ipython-input-18-cd9eb81c9a8d>\u001b[0m in \u001b[0;36m<module>\u001b[0;34m\u001b[0m\n\u001b[1;32m      4\u001b[0m     \u001b[0mdriver\u001b[0m\u001b[0;34m.\u001b[0m\u001b[0mget\u001b[0m\u001b[0;34m(\u001b[0m\u001b[0meach\u001b[0m\u001b[0;34m)\u001b[0m\u001b[0;34m\u001b[0m\u001b[0;34m\u001b[0m\u001b[0m\n\u001b[1;32m      5\u001b[0m     \u001b[0mtime\u001b[0m\u001b[0;34m.\u001b[0m\u001b[0msleep\u001b[0m\u001b[0;34m(\u001b[0m\u001b[0;36m7\u001b[0m\u001b[0;34m)\u001b[0m\u001b[0;34m\u001b[0m\u001b[0;34m\u001b[0m\u001b[0m\n\u001b[0;32m----> 6\u001b[0;31m     \u001b[0mgoogle_duration\u001b[0m\u001b[0;34m.\u001b[0m\u001b[0mappend\u001b[0m\u001b[0;34m(\u001b[0m\u001b[0mdriver\u001b[0m\u001b[0;34m.\u001b[0m\u001b[0mfind_element\u001b[0m\u001b[0;34m(\u001b[0m\u001b[0mBy\u001b[0m\u001b[0;34m.\u001b[0m\u001b[0mXPATH\u001b[0m\u001b[0;34m,\u001b[0m \u001b[0;34m\"/html/body/app-root/app-base-layout/app-map/div/div[5]/div[2]/dl/dd[2]\"\u001b[0m\u001b[0;34m)\u001b[0m\u001b[0;34m.\u001b[0m\u001b[0mtext\u001b[0m\u001b[0;34m)\u001b[0m\u001b[0;34m\u001b[0m\u001b[0;34m\u001b[0m\u001b[0m\n\u001b[0m",
      "\u001b[0;32m~/anaconda3/lib/python3.8/site-packages/selenium/webdriver/remote/webdriver.py\u001b[0m in \u001b[0;36mfind_element\u001b[0;34m(self, by, value)\u001b[0m\n\u001b[1;32m    855\u001b[0m             \u001b[0mvalue\u001b[0m \u001b[0;34m=\u001b[0m \u001b[0;34m'[name=\"%s\"]'\u001b[0m \u001b[0;34m%\u001b[0m \u001b[0mvalue\u001b[0m\u001b[0;34m\u001b[0m\u001b[0;34m\u001b[0m\u001b[0m\n\u001b[1;32m    856\u001b[0m \u001b[0;34m\u001b[0m\u001b[0m\n\u001b[0;32m--> 857\u001b[0;31m         return self.execute(Command.FIND_ELEMENT, {\n\u001b[0m\u001b[1;32m    858\u001b[0m             \u001b[0;34m'using'\u001b[0m\u001b[0;34m:\u001b[0m \u001b[0mby\u001b[0m\u001b[0;34m,\u001b[0m\u001b[0;34m\u001b[0m\u001b[0;34m\u001b[0m\u001b[0m\n\u001b[1;32m    859\u001b[0m             'value': value})['value']\n",
      "\u001b[0;32m~/anaconda3/lib/python3.8/site-packages/selenium/webdriver/remote/webdriver.py\u001b[0m in \u001b[0;36mexecute\u001b[0;34m(self, driver_command, params)\u001b[0m\n\u001b[1;32m    433\u001b[0m         \u001b[0mresponse\u001b[0m \u001b[0;34m=\u001b[0m \u001b[0mself\u001b[0m\u001b[0;34m.\u001b[0m\u001b[0mcommand_executor\u001b[0m\u001b[0;34m.\u001b[0m\u001b[0mexecute\u001b[0m\u001b[0;34m(\u001b[0m\u001b[0mdriver_command\u001b[0m\u001b[0;34m,\u001b[0m \u001b[0mparams\u001b[0m\u001b[0;34m)\u001b[0m\u001b[0;34m\u001b[0m\u001b[0;34m\u001b[0m\u001b[0m\n\u001b[1;32m    434\u001b[0m         \u001b[0;32mif\u001b[0m \u001b[0mresponse\u001b[0m\u001b[0;34m:\u001b[0m\u001b[0;34m\u001b[0m\u001b[0;34m\u001b[0m\u001b[0m\n\u001b[0;32m--> 435\u001b[0;31m             \u001b[0mself\u001b[0m\u001b[0;34m.\u001b[0m\u001b[0merror_handler\u001b[0m\u001b[0;34m.\u001b[0m\u001b[0mcheck_response\u001b[0m\u001b[0;34m(\u001b[0m\u001b[0mresponse\u001b[0m\u001b[0;34m)\u001b[0m\u001b[0;34m\u001b[0m\u001b[0;34m\u001b[0m\u001b[0m\n\u001b[0m\u001b[1;32m    436\u001b[0m             response['value'] = self._unwrap_value(\n\u001b[1;32m    437\u001b[0m                 response.get('value', None))\n",
      "\u001b[0;32m~/anaconda3/lib/python3.8/site-packages/selenium/webdriver/remote/errorhandler.py\u001b[0m in \u001b[0;36mcheck_response\u001b[0;34m(self, response)\u001b[0m\n\u001b[1;32m    245\u001b[0m                 \u001b[0malert_text\u001b[0m \u001b[0;34m=\u001b[0m \u001b[0mvalue\u001b[0m\u001b[0;34m[\u001b[0m\u001b[0;34m'alert'\u001b[0m\u001b[0;34m]\u001b[0m\u001b[0;34m.\u001b[0m\u001b[0mget\u001b[0m\u001b[0;34m(\u001b[0m\u001b[0;34m'text'\u001b[0m\u001b[0;34m)\u001b[0m\u001b[0;34m\u001b[0m\u001b[0;34m\u001b[0m\u001b[0m\n\u001b[1;32m    246\u001b[0m             \u001b[0;32mraise\u001b[0m \u001b[0mexception_class\u001b[0m\u001b[0;34m(\u001b[0m\u001b[0mmessage\u001b[0m\u001b[0;34m,\u001b[0m \u001b[0mscreen\u001b[0m\u001b[0;34m,\u001b[0m \u001b[0mstacktrace\u001b[0m\u001b[0;34m,\u001b[0m \u001b[0malert_text\u001b[0m\u001b[0;34m)\u001b[0m  \u001b[0;31m# type: ignore[call-arg]  # mypy is not smart enough here\u001b[0m\u001b[0;34m\u001b[0m\u001b[0;34m\u001b[0m\u001b[0m\n\u001b[0;32m--> 247\u001b[0;31m         \u001b[0;32mraise\u001b[0m \u001b[0mexception_class\u001b[0m\u001b[0;34m(\u001b[0m\u001b[0mmessage\u001b[0m\u001b[0;34m,\u001b[0m \u001b[0mscreen\u001b[0m\u001b[0;34m,\u001b[0m \u001b[0mstacktrace\u001b[0m\u001b[0;34m)\u001b[0m\u001b[0;34m\u001b[0m\u001b[0;34m\u001b[0m\u001b[0m\n\u001b[0m\u001b[1;32m    248\u001b[0m \u001b[0;34m\u001b[0m\u001b[0m\n\u001b[1;32m    249\u001b[0m     \u001b[0;32mdef\u001b[0m \u001b[0m_value_or_default\u001b[0m\u001b[0;34m(\u001b[0m\u001b[0mself\u001b[0m\u001b[0;34m,\u001b[0m \u001b[0mobj\u001b[0m\u001b[0;34m:\u001b[0m \u001b[0mMapping\u001b[0m\u001b[0;34m[\u001b[0m\u001b[0m_KT\u001b[0m\u001b[0;34m,\u001b[0m \u001b[0m_VT\u001b[0m\u001b[0;34m]\u001b[0m\u001b[0;34m,\u001b[0m \u001b[0mkey\u001b[0m\u001b[0;34m:\u001b[0m \u001b[0m_KT\u001b[0m\u001b[0;34m,\u001b[0m \u001b[0mdefault\u001b[0m\u001b[0;34m:\u001b[0m \u001b[0m_VT\u001b[0m\u001b[0;34m)\u001b[0m \u001b[0;34m->\u001b[0m \u001b[0m_VT\u001b[0m\u001b[0;34m:\u001b[0m\u001b[0;34m\u001b[0m\u001b[0;34m\u001b[0m\u001b[0m\n",
      "\u001b[0;31mNoSuchElementException\u001b[0m: Message: no such element: Unable to locate element: {\"method\":\"xpath\",\"selector\":\"/html/body/app-root/app-base-layout/app-map/div/div[5]/div[2]/dl/dd[2]\"}\n  (Session info: chrome=104.0.5112.101)\nStacktrace:\n#0 0x5619bfb39403 <unknown>\n#1 0x5619bf93f778 <unknown>\n#2 0x5619bf976c87 <unknown>\n#3 0x5619bf976e51 <unknown>\n#4 0x5619bf9a9f24 <unknown>\n#5 0x5619bf994a2d <unknown>\n#6 0x5619bf9a7c74 <unknown>\n#7 0x5619bf9948f3 <unknown>\n#8 0x5619bf96a0d8 <unknown>\n#9 0x5619bf96b205 <unknown>\n#10 0x5619bfb80e3d <unknown>\n#11 0x5619bfb83db6 <unknown>\n#12 0x5619bfb6a13e <unknown>\n#13 0x5619bfb849b5 <unknown>\n#14 0x5619bfb5e970 <unknown>\n#15 0x5619bfba1228 <unknown>\n#16 0x5619bfba13bf <unknown>\n#17 0x5619bfbbbabe <unknown>\n#18 0x7fccf0caf609 <unknown>\n"
     ]
    }
   ],
   "source": [
    "google_duration = []\n",
    "\n",
    "for each in links:\n",
    "    driver.get(each)\n",
    "    time.sleep(7)\n",
    "    google_duration.append(driver.find_element(By.XPATH, \"/html/body/app-root/app-base-layout/app-map/div/div[5]/div[2]/dl/dd[2]\").text)"
   ]
  },
  {
   "cell_type": "code",
   "execution_count": null,
   "id": "60515686",
   "metadata": {},
   "outputs": [],
   "source": [
    "each"
   ]
  },
  {
   "cell_type": "code",
   "execution_count": null,
   "id": "58a6750f",
   "metadata": {},
   "outputs": [],
   "source": [
    "livetraffic_google = []\n",
    "nb_duration = []\n",
    "\n",
    "\n",
    "for each in links:\n",
    "    driver.get(each)\n",
    "    time.sleep(8)\n",
    "    livetraffic_google.append(driver.find_element(By.XPATH, \"/html/body/app-root/app-base-layout/app-map/div/div[5]/div[2]/dl/dd[3]\").text)\n",
    "    nb_duration.append(driver.find_element(By.XPATH, \"/html/body/app-root/app-base-layout/app-map/div/div[4]/div[2]/dl/dd[2]\").text)"
   ]
  },
  {
   "cell_type": "code",
   "execution_count": null,
   "id": "6155480f",
   "metadata": {},
   "outputs": [],
   "source": [
    "for each in livetraffic_google:\n",
    "    print(each.replace(\"liveTraffic: \",\"\"))"
   ]
  },
  {
   "cell_type": "code",
   "execution_count": null,
   "id": "072c8fe4",
   "metadata": {},
   "outputs": [],
   "source": [
    "for each in nb_duration:\n",
    "    print(each)"
   ]
  },
  {
   "cell_type": "code",
   "execution_count": null,
   "id": "e8fb00ad",
   "metadata": {},
   "outputs": [],
   "source": []
  },
  {
   "cell_type": "code",
   "execution_count": null,
   "id": "c2f02772",
   "metadata": {},
   "outputs": [],
   "source": [
    "google_distances = []\n",
    "nb_distances = []\n",
    "\n",
    "for each in links:\n",
    "    driver.get(each)\n",
    "    time.sleep(9)\n",
    "    google_distances.append(driver.find_element(By.XPATH, \"/html/body/app-root/app-base-layout/app-map/div/div[5]/div[2]/dl/dd[1]\").text)\n",
    "    nb_distances.append(driver.find_element(By.XPATH, \"/html/body/app-root/app-base-layout/app-map/div/div[4]/div[2]/dl/dd[1]\").text)"
   ]
  },
  {
   "cell_type": "code",
   "execution_count": null,
   "id": "fca77c30",
   "metadata": {},
   "outputs": [],
   "source": [
    "for each in google_distances:\n",
    "    print(each)"
   ]
  },
  {
   "cell_type": "code",
   "execution_count": null,
   "id": "c764f03c",
   "metadata": {},
   "outputs": [],
   "source": [
    "for each in nb_distances:\n",
    "    print(each)"
   ]
  },
  {
   "cell_type": "code",
   "execution_count": null,
   "id": "5c139f52",
   "metadata": {},
   "outputs": [],
   "source": [
    "for each in google_duration:\n",
    "    print(each)"
   ]
  }
 ],
 "metadata": {
  "kernelspec": {
   "display_name": "Python 3",
   "language": "python",
   "name": "python3"
  },
  "language_info": {
   "codemirror_mode": {
    "name": "ipython",
    "version": 3
   },
   "file_extension": ".py",
   "mimetype": "text/x-python",
   "name": "python",
   "nbconvert_exporter": "python",
   "pygments_lexer": "ipython3",
   "version": "3.8.8"
  }
 },
 "nbformat": 4,
 "nbformat_minor": 5
}

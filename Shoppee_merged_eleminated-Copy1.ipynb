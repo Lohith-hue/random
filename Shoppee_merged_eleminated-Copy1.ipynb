{
 "cells": [
  {
   "cell_type": "markdown",
   "id": "9bd76008",
   "metadata": {},
   "source": [
    "### Import Packages"
   ]
  },
  {
   "cell_type": "code",
   "execution_count": 1,
   "id": "8be077de",
   "metadata": {},
   "outputs": [],
   "source": [
    "import requests\n",
    "import pandas as pd\n",
    "import geopandas as gpd"
   ]
  },
  {
   "cell_type": "markdown",
   "id": "409f6678",
   "metadata": {},
   "source": [
    "### Getting Response From Query link and Display"
   ]
  },
  {
   "cell_type": "code",
   "execution_count": null,
   "id": "4feec8fd",
   "metadata": {},
   "outputs": [],
   "source": [
    "response = requests.get('https://webgis1.nic.in/publishing/rest/services/bharatmaps/admin2019/MapServer/8/query?f=json&where=sdtcode11%3D%20%2705918%27%20and%20dtcode11%20%3D%20%27638%27%20and%20stcode11%20%3D%20%2735%27&returnGeometry=true&spatialRel=esriSpatialRelIntersects&outFields=*')\n",
    "geojson = response.text\n",
    "geojson"
   ]
  },
  {
   "cell_type": "markdown",
   "id": "f593f04e",
   "metadata": {},
   "source": [
    "### Reading Geojson in Python Geopandas And Plotting"
   ]
  },
  {
   "cell_type": "code",
   "execution_count": null,
   "id": "6dd2b1a6",
   "metadata": {},
   "outputs": [],
   "source": [
    "gdf = gpd.read_file(geojson)\n",
    "gdf\n",
    "gdf.plot()"
   ]
  },
  {
   "cell_type": "markdown",
   "id": "eb1570de",
   "metadata": {},
   "source": [
    "### Reading Links CSV and Display"
   ]
  },
  {
   "cell_type": "code",
   "execution_count": null,
   "id": "dce0c9d7",
   "metadata": {},
   "outputs": [],
   "source": [
    "df = pd.read_csv('links.csv')\n",
    "df"
   ]
  },
  {
   "cell_type": "markdown",
   "id": "40d2e402",
   "metadata": {},
   "source": [
    "### Loop on links in csv plot all geojson"
   ]
  },
  {
   "cell_type": "code",
   "execution_count": null,
   "id": "0c3fc74d",
   "metadata": {},
   "outputs": [],
   "source": [
    "links = df['Link']"
   ]
  },
  {
   "cell_type": "code",
   "execution_count": null,
   "id": "09ec7ba2",
   "metadata": {},
   "outputs": [],
   "source": [
    "request = f'https://gis.dukcapil.kemendagri.go.id/arcgis/rest/services/Data_Baru_26092017/MapServer/2/query?f=json&where=&returnGeometry=true&spatialRel=esriSpatialRelIntersects&objectIds={7224}&outFields=*&outSR=102100'\n",
    "response = requests.get(request)\n",
    "response.text"
   ]
  },
  {
   "cell_type": "code",
   "execution_count": null,
   "id": "430f6050",
   "metadata": {},
   "outputs": [],
   "source": [
    "filename = 1\n",
    "object_id = 2701001\n",
    "\n",
    "\n",
    "for each in range(6000):\n",
    "    try:\n",
    "        request = f'https://webgis1.nic.in/publishing/rest/services/bharatmaps/admin2019/MapServer/8/query?f=json&where=sdtcode11%3D%20%{object_id}%27%20and%20dtcode11%20%3D%20%27638%27%20and%20stcode11%20%3D%20%2735%27&returnGeometry=true&spatialRel=esriSpatialRelIntersects&outFields=*'\n",
    "        response = requests.get(request)\n",
    "        geojson = response.text\n",
    "        gdft = gpd.read_file(geojson)\n",
    "        path = f'/home/lohitd@nextbillion.ai/Downloads/bharatmaps/{filename}.geojson'\n",
    "        gdft.to_file(path, driver='GeoJSON')\n",
    "\n",
    "        object_id+=1\n",
    "        filename+=1\n",
    "        \n",
    "    except:\n",
    "        "
   ]
  },
  {
   "cell_type": "code",
   "execution_count": null,
   "id": "b517e9be",
   "metadata": {},
   "outputs": [],
   "source": [
    "each"
   ]
  },
  {
   "cell_type": "code",
   "execution_count": null,
   "id": "3e008417",
   "metadata": {},
   "outputs": [],
   "source": [
    "filename = 2\n",
    "\n",
    "for each in range(7279):\n",
    "    gdf_read = gpd.read_file(f'/home/lohitd@nextbillion.ai/Downloads/ID/{filename}.geojson')\n",
    "    complete = pd.concat([complete,gdf_read], axis=0)\n",
    "    filename+=1"
   ]
  },
  {
   "cell_type": "code",
   "execution_count": null,
   "id": "51549d0b",
   "metadata": {},
   "outputs": [],
   "source": [
    "complete.to_file('/home/lohitd@nextbillion.ai/Downloads/ID/id.geojson', driver ='GeoJSON')"
   ]
  },
  {
   "cell_type": "code",
   "execution_count": null,
   "id": "081a8dd6",
   "metadata": {},
   "outputs": [],
   "source": [
    "complete1 = complete[[\"giskemendagri.gisadmin.Kecamatan_Tabel_26092017.nama_prop_\",\"giskemendagri.gisadmin.Kecamatan_Tabel_26092017.nama_kab_s\",\"giskemendagri.gisadmin.Kecamatan_Spasial_22092017_2.nama_siak\",\"giskemendagri.gisadmin.Kecamatan_Tabel_26092017.kode_kec_s\",\"geometry\"]]"
   ]
  },
  {
   "cell_type": "code",
   "execution_count": null,
   "id": "923572d3",
   "metadata": {},
   "outputs": [],
   "source": [
    "complete1 = complete1.rename(columns={\"giskemendagri.gisadmin.Kecamatan_Tabel_26092017.nama_prop_\":\"level_1\",\"giskemendagri.gisadmin.Kecamatan_Tabel_26092017.nama_kab_s\":\"level_2\",\"giskemendagri.gisadmin.Kecamatan_Spasial_22092017_2.nama_siak\":\"division_name\",\"giskemendagri.gisadmin.Kecamatan_Tabel_26092017.kode_kec_s\":\"division_id\"})"
   ]
  },
  {
   "cell_type": "code",
   "execution_count": null,
   "id": "b1917814",
   "metadata": {},
   "outputs": [],
   "source": [
    "complete1['region'] = \"ID\"\n",
    "complete1['division_level'] = \"3\"\n",
    "complete1['level_0'] = \"Indonesia\""
   ]
  },
  {
   "cell_type": "code",
   "execution_count": null,
   "id": "57865674",
   "metadata": {},
   "outputs": [],
   "source": [
    "complete1['province_city'] = complete1['level_1'] + \", \" + complete1['level_2']"
   ]
  },
  {
   "cell_type": "code",
   "execution_count": null,
   "id": "7162c766",
   "metadata": {},
   "outputs": [],
   "source": [
    "complete1.to_file('/home/lohitd@nextbillion.ai/Downloads/ID/ID_shpfile/id1.shp')"
   ]
  },
  {
   "cell_type": "code",
   "execution_count": null,
   "id": "d803fe43",
   "metadata": {},
   "outputs": [],
   "source": [
    "complete = gpd.read_file(f'/home/lohitd@nextbillion.ai/Downloads/ID/1.geojson')"
   ]
  },
  {
   "cell_type": "code",
   "execution_count": null,
   "id": "8c4600e0",
   "metadata": {},
   "outputs": [],
   "source": [
    "complete1 = complete[['giskemendagri.gisadmin.Kecamatan_Spasial_22092017_2.objectid_1','giskemendagri.gisadmin.Kecamatan_Tabel_26092017.objectid','giskemendagri.gisadmin.Kecamatan_Tabel_26092017.no_prop','giskemendagri.gisadmin.Kecamatan_Tabel_26092017.no_kab','giskemendagri.gisadmin.Kecamatan_Tabel_26092017.no_kec','giskemendagri.gisadmin.Kecamatan_Tabel_26092017.kode_prov_','giskemendagri.gisadmin.Kecamatan_Tabel_26092017.kode_kab_s','giskemendagri.gisadmin.Kecamatan_Tabel_26092017.kode_kec_s','giskemendagri.gisadmin.Kecamatan_Tabel_26092017.nama_prop_','giskemendagri.gisadmin.Kecamatan_Tabel_26092017.nama_kab_s','giskemendagri.gisadmin.Kecamatan_Tabel_26092017.nama_kec_s','giskemendagri.gisadmin.Kecamatan_Spasial_22092017_2.kode_siak','giskemendagri.gisadmin.Kecamatan_Spasial_22092017_2.nama_siak','giskemendagri.gisadmin.Kecamatan_Spasial_22092017_2.kode_2017','giskemendagri.gisadmin.Kecamatan_Spasial_22092017_2.nama_2017']]"
   ]
  },
  {
   "cell_type": "code",
   "execution_count": null,
   "id": "62564ced",
   "metadata": {},
   "outputs": [],
   "source": [
    "Starting_number = 7224\n",
    "Ending_number = 14502\n",
    "total_polygons = 7280"
   ]
  },
  {
   "cell_type": "code",
   "execution_count": null,
   "id": "278c550b",
   "metadata": {},
   "outputs": [],
   "source": []
  }
 ],
 "metadata": {
  "kernelspec": {
   "display_name": "Python 3",
   "language": "python",
   "name": "python3"
  },
  "language_info": {
   "codemirror_mode": {
    "name": "ipython",
    "version": 3
   },
   "file_extension": ".py",
   "mimetype": "text/x-python",
   "name": "python",
   "nbconvert_exporter": "python",
   "pygments_lexer": "ipython3",
   "version": "3.8.8"
  }
 },
 "nbformat": 4,
 "nbformat_minor": 5
}

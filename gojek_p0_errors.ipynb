{
 "cells": [
  {
   "cell_type": "code",
   "execution_count": 1,
   "id": "4514fb6d",
   "metadata": {},
   "outputs": [],
   "source": [
    "import urllib.request\n",
    "from IPython.display import HTML\n",
    "import pandas as pd\n",
    "import requests"
   ]
  },
  {
   "cell_type": "code",
   "execution_count": 2,
   "id": "bb6ce871",
   "metadata": {},
   "outputs": [],
   "source": [
    "file=pd.read_csv(\"/home/lohitd@nextbillion.ai/Downloads/xml2csv/Surabaya2109.csv\", dtype={'element': 'str'})"
   ]
  },
  {
   "cell_type": "code",
   "execution_count": 3,
   "id": "a1d320cf",
   "metadata": {},
   "outputs": [],
   "source": [
    "file_f=file[['check','title','lat','lon','element','note']]"
   ]
  },
  {
   "cell_type": "code",
   "execution_count": 4,
   "id": "ef0fc7ff",
   "metadata": {},
   "outputs": [],
   "source": [
    "pivot=pd.pivot_table(data=file_f, index=['check'], values='element', aggfunc='count')"
   ]
  },
  {
   "cell_type": "code",
   "execution_count": 5,
   "id": "6ee96223",
   "metadata": {},
   "outputs": [
    {
     "name": "stdout",
     "output_type": "stream",
     "text": [
      "                                   element\n",
      "check                                     \n",
      "Barriers and entrances                   1\n",
      "Crossing ways                          432\n",
      "Duplicated nodes                        96\n",
      "Duplicated relations                    42\n",
      "Duplicated ways                         15\n",
      "Highways                                38\n",
      "Overlapping ways                        56\n",
      "Self crossing ways                       4\n",
      "Sharp angles                            40\n",
      "Tag checker (MapCSS based)             166\n",
      "Turn restrictions                      285\n",
      "Unconnected highways                   475\n",
      "Untagged, empty and one node ways    89924\n"
     ]
    }
   ],
   "source": [
    "with pd.option_context('display.max_rows', None,\n",
    "                       'display.max_columns', None\n",
    "                       ):\n",
    "    print(pivot)"
   ]
  },
  {
   "cell_type": "code",
   "execution_count": 16,
   "id": "edef87d7",
   "metadata": {},
   "outputs": [],
   "source": [
    "ckeck_list = ['Turn restrictions','Crossing ways','Duplicated ways','Duplicated nodes','Duplicated relations','Overlapping ways','Self crossing ways','Sharp angles']\n",
    "note_list = ['barrier without access','motor_vehicle=no together with motorcar=yes','motor_vehicle=no together with motorcycle=yes']\n",
    "check_df = file_f.loc[file_f['check'].isin(ckeck_list)]\n",
    "note_df = file_f.loc[file_f['note'].isin(note_list)]"
   ]
  },
  {
   "cell_type": "code",
   "execution_count": 17,
   "id": "324f18a4",
   "metadata": {},
   "outputs": [],
   "source": [
    "df = [check_df , note_df]\n",
    "output = pd.concat(df)"
   ]
  },
  {
   "cell_type": "code",
   "execution_count": 18,
   "id": "728c7b29",
   "metadata": {
    "scrolled": true
   },
   "outputs": [
    {
     "data": {
      "text/html": [
       "<div>\n",
       "<style scoped>\n",
       "    .dataframe tbody tr th:only-of-type {\n",
       "        vertical-align: middle;\n",
       "    }\n",
       "\n",
       "    .dataframe tbody tr th {\n",
       "        vertical-align: top;\n",
       "    }\n",
       "\n",
       "    .dataframe thead th {\n",
       "        text-align: right;\n",
       "    }\n",
       "</style>\n",
       "<table border=\"1\" class=\"dataframe\">\n",
       "  <thead>\n",
       "    <tr style=\"text-align: right;\">\n",
       "      <th></th>\n",
       "      <th>check</th>\n",
       "      <th>title</th>\n",
       "      <th>lat</th>\n",
       "      <th>lon</th>\n",
       "      <th>element</th>\n",
       "      <th>note</th>\n",
       "    </tr>\n",
       "  </thead>\n",
       "  <tbody>\n",
       "    <tr>\n",
       "      <th>36</th>\n",
       "      <td>Self crossing ways</td>\n",
       "      <td>Self crossing ways</td>\n",
       "      <td>-7.491081</td>\n",
       "      <td>112.452316</td>\n",
       "      <td>&lt;way id=\"680845808\" timestamp=\"2020-03-20T02:5...</td>\n",
       "      <td>NaN</td>\n",
       "    </tr>\n",
       "    <tr>\n",
       "      <th>37</th>\n",
       "      <td>Self crossing ways</td>\n",
       "      <td>Self crossing ways</td>\n",
       "      <td>-6.999937</td>\n",
       "      <td>112.388637</td>\n",
       "      <td>&lt;way id=\"509723586\" timestamp=\"2017-07-24T03:3...</td>\n",
       "      <td>NaN</td>\n",
       "    </tr>\n",
       "    <tr>\n",
       "      <th>38</th>\n",
       "      <td>Self crossing ways</td>\n",
       "      <td>Self crossing ways</td>\n",
       "      <td>-7.142518</td>\n",
       "      <td>112.779065</td>\n",
       "      <td>&lt;way id=\"107754838\" timestamp=\"2019-11-26T16:3...</td>\n",
       "      <td>NaN</td>\n",
       "    </tr>\n",
       "    <tr>\n",
       "      <th>39</th>\n",
       "      <td>Self crossing ways</td>\n",
       "      <td>Self crossing ways</td>\n",
       "      <td>-7.535720</td>\n",
       "      <td>112.563515</td>\n",
       "      <td>&lt;way id=\"703604493\" timestamp=\"2019-07-12T02:4...</td>\n",
       "      <td>NaN</td>\n",
       "    </tr>\n",
       "    <tr>\n",
       "      <th>40</th>\n",
       "      <td>Crossing ways</td>\n",
       "      <td>Crossing highways</td>\n",
       "      <td>-7.515224</td>\n",
       "      <td>112.589501</td>\n",
       "      <td>&lt;way id=\"681506223\" timestamp=\"2019-04-04T00:1...</td>\n",
       "      <td>NaN</td>\n",
       "    </tr>\n",
       "    <tr>\n",
       "      <th>...</th>\n",
       "      <td>...</td>\n",
       "      <td>...</td>\n",
       "      <td>...</td>\n",
       "      <td>...</td>\n",
       "      <td>...</td>\n",
       "      <td>...</td>\n",
       "    </tr>\n",
       "    <tr>\n",
       "      <th>7</th>\n",
       "      <td>Tag checker (MapCSS based)</td>\n",
       "      <td>missing tag</td>\n",
       "      <td>-7.435109</td>\n",
       "      <td>112.716598</td>\n",
       "      <td>&lt;node id=\"45794\" timestamp=\"2022-07-19T07:54:3...</td>\n",
       "      <td>barrier without access</td>\n",
       "    </tr>\n",
       "    <tr>\n",
       "      <th>8</th>\n",
       "      <td>Tag checker (MapCSS based)</td>\n",
       "      <td>missing tag</td>\n",
       "      <td>-7.490695</td>\n",
       "      <td>112.432878</td>\n",
       "      <td>&lt;node id=\"7188260654\" timestamp=\"2020-02-05T16...</td>\n",
       "      <td>barrier without access</td>\n",
       "    </tr>\n",
       "    <tr>\n",
       "      <th>9</th>\n",
       "      <td>Tag checker (MapCSS based)</td>\n",
       "      <td>missing tag</td>\n",
       "      <td>-7.462455</td>\n",
       "      <td>112.446545</td>\n",
       "      <td>&lt;node id=\"2616296525\" timestamp=\"2021-11-29T01...</td>\n",
       "      <td>barrier without access</td>\n",
       "    </tr>\n",
       "    <tr>\n",
       "      <th>10</th>\n",
       "      <td>Tag checker (MapCSS based)</td>\n",
       "      <td>missing tag</td>\n",
       "      <td>-7.271026</td>\n",
       "      <td>112.795031</td>\n",
       "      <td>&lt;node id=\"9850095637\" timestamp=\"2022-09-20T11...</td>\n",
       "      <td>barrier without access</td>\n",
       "    </tr>\n",
       "    <tr>\n",
       "      <th>11</th>\n",
       "      <td>Tag checker (MapCSS based)</td>\n",
       "      <td>missing tag</td>\n",
       "      <td>-7.468195</td>\n",
       "      <td>112.458978</td>\n",
       "      <td>&lt;node id=\"6346541841\" timestamp=\"2021-10-27T07...</td>\n",
       "      <td>barrier without access</td>\n",
       "    </tr>\n",
       "  </tbody>\n",
       "</table>\n",
       "<p>982 rows × 6 columns</p>\n",
       "</div>"
      ],
      "text/plain": [
       "                         check               title       lat         lon  \\\n",
       "36          Self crossing ways  Self crossing ways -7.491081  112.452316   \n",
       "37          Self crossing ways  Self crossing ways -6.999937  112.388637   \n",
       "38          Self crossing ways  Self crossing ways -7.142518  112.779065   \n",
       "39          Self crossing ways  Self crossing ways -7.535720  112.563515   \n",
       "40               Crossing ways   Crossing highways -7.515224  112.589501   \n",
       "..                         ...                 ...       ...         ...   \n",
       "7   Tag checker (MapCSS based)         missing tag -7.435109  112.716598   \n",
       "8   Tag checker (MapCSS based)         missing tag -7.490695  112.432878   \n",
       "9   Tag checker (MapCSS based)         missing tag -7.462455  112.446545   \n",
       "10  Tag checker (MapCSS based)         missing tag -7.271026  112.795031   \n",
       "11  Tag checker (MapCSS based)         missing tag -7.468195  112.458978   \n",
       "\n",
       "                                              element                    note  \n",
       "36  <way id=\"680845808\" timestamp=\"2020-03-20T02:5...                     NaN  \n",
       "37  <way id=\"509723586\" timestamp=\"2017-07-24T03:3...                     NaN  \n",
       "38  <way id=\"107754838\" timestamp=\"2019-11-26T16:3...                     NaN  \n",
       "39  <way id=\"703604493\" timestamp=\"2019-07-12T02:4...                     NaN  \n",
       "40  <way id=\"681506223\" timestamp=\"2019-04-04T00:1...                     NaN  \n",
       "..                                                ...                     ...  \n",
       "7   <node id=\"45794\" timestamp=\"2022-07-19T07:54:3...  barrier without access  \n",
       "8   <node id=\"7188260654\" timestamp=\"2020-02-05T16...  barrier without access  \n",
       "9   <node id=\"2616296525\" timestamp=\"2021-11-29T01...  barrier without access  \n",
       "10  <node id=\"9850095637\" timestamp=\"2022-09-20T11...  barrier without access  \n",
       "11  <node id=\"6346541841\" timestamp=\"2021-10-27T07...  barrier without access  \n",
       "\n",
       "[982 rows x 6 columns]"
      ]
     },
     "execution_count": 18,
     "metadata": {},
     "output_type": "execute_result"
    }
   ],
   "source": [
    "output"
   ]
  },
  {
   "cell_type": "code",
   "execution_count": 20,
   "id": "a2bd42e4",
   "metadata": {},
   "outputs": [],
   "source": [
    "output.to_csv(\"/home/lohitd@nextbillion.ai/Downloads/xml2csv/Surabaya2109_final.csv\")"
   ]
  },
  {
   "cell_type": "code",
   "execution_count": null,
   "id": "5a6b9bf8",
   "metadata": {},
   "outputs": [],
   "source": []
  }
 ],
 "metadata": {
  "kernelspec": {
   "display_name": "Python 3",
   "language": "python",
   "name": "python3"
  },
  "language_info": {
   "codemirror_mode": {
    "name": "ipython",
    "version": 3
   },
   "file_extension": ".py",
   "mimetype": "text/x-python",
   "name": "python",
   "nbconvert_exporter": "python",
   "pygments_lexer": "ipython3",
   "version": "3.8.8"
  }
 },
 "nbformat": 4,
 "nbformat_minor": 5
}

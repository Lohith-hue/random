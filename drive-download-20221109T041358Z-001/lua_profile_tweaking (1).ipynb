{
 "cells": [
  {
   "cell_type": "code",
   "execution_count": 3,
   "id": "c32313aa",
   "metadata": {},
   "outputs": [],
   "source": [
    "import requests\n",
    "import json\n",
    "import pandas as pd"
   ]
  },
  {
   "cell_type": "code",
   "execution_count": 37,
   "id": "3328c244",
   "metadata": {},
   "outputs": [],
   "source": [
    "links_df = pd.read_csv('/home/lohitd@nextbillion.ai/Downloads/osrm_links - Sheet1.csv')"
   ]
  },
  {
   "cell_type": "code",
   "execution_count": 39,
   "id": "55af60ac",
   "metadata": {},
   "outputs": [],
   "source": [
    "links = links_df['OSRM Links'].tolist()"
   ]
  },
  {
   "cell_type": "code",
   "execution_count": 40,
   "id": "3af600e7",
   "metadata": {},
   "outputs": [
    {
     "data": {
      "text/plain": [
       "['http://0.0.0.0:5000/route/v1/driving/90.3994488,23.7859974;90.4132929,23.8178914',\n",
       " 'http://0.0.0.0:5000/route/v1/driving/90.4059818,23.7492431;90.4167533,23.7423645',\n",
       " 'http://0.0.0.0:5000/route/v1/driving/90.3964262,23.7381426;90.4073418,23.7300791',\n",
       " 'http://0.0.0.0:5000/route/v1/driving/90.4234871,23.7481179;90.4291884,23.7182548',\n",
       " 'http://0.0.0.0:5000/route/v1/driving/90.3908263,23.7383699;90.3903476,23.7268535',\n",
       " 'http://0.0.0.0:5000/route/v1/driving/90.4029419,23.7115995;90.3956952,23.7223611',\n",
       " 'http://0.0.0.0:5000/route/v1/driving/90.418077,23.758651;90.4438324,23.744876',\n",
       " 'http://0.0.0.0:5000/route/v1/driving/90.4566145,23.7138986;90.4568231,23.7004027',\n",
       " 'http://0.0.0.0:5000/route/v1/driving/90.3683207,23.7508323;90.380327,23.7416855',\n",
       " 'http://0.0.0.0:5000/route/v1/driving/90.4257903,23.7486961;90.4162099,23.750332',\n",
       " 'http://0.0.0.0:5000/route/v1/driving/90.3618016,23.7358834;90.3808476,23.7146992',\n",
       " 'http://0.0.0.0:5000/route/v1/driving/90.3900974,23.7100077;90.3684564,23.7086192',\n",
       " 'http://0.0.0.0:5000/route/v1/driving/90.3814059,23.7391522;90.3616351,23.7569258',\n",
       " 'http://0.0.0.0:5000/route/v1/driving/90.3983898,23.7774835;90.4018545,23.7518469',\n",
       " 'http://0.0.0.0:5000/route/v1/driving/90.4288073,23.7637866;90.428613,23.758495',\n",
       " 'http://0.0.0.0:5000/route/v1/driving/90.42318,23.7675667;90.4696396,23.7481555',\n",
       " 'http://0.0.0.0:5000/route/v1/driving/90.4245664,23.7685374;90.4440677,23.7651841',\n",
       " 'http://0.0.0.0:5000/route/v1/driving/90.4037311,23.7491264;90.4110133,23.7601361',\n",
       " 'http://0.0.0.0:5000/route/v1/driving/90.4313923,23.7374455;90.4615796,23.7449292',\n",
       " 'http://0.0.0.0:5000/route/v1/driving/90.41605,23.749524;90.4292851,23.7173672',\n",
       " 'http://0.0.0.0:5000/route/v1/driving/90.3951294,23.7460517;90.4192176,23.7405531',\n",
       " 'http://0.0.0.0:5000/route/v1/driving/90.4085893,23.7300575;90.4108319,23.723044',\n",
       " 'http://0.0.0.0:5000/route/v1/driving/90.4190724,23.7335737;90.4202848,23.7193657',\n",
       " 'http://0.0.0.0:5000/route/v1/driving/90.3903466,23.7569898;90.383343,23.740353',\n",
       " 'http://0.0.0.0:5000/route/v1/driving/90.3400026,23.783085;90.365708,23.7749659',\n",
       " 'http://0.0.0.0:5000/route/v1/driving/90.3660649,23.7908685;90.3694817,23.7781328',\n",
       " 'http://0.0.0.0:5000/route/v1/driving/90.3547751,23.7850814;90.3647993,23.7863046',\n",
       " 'http://0.0.0.0:5000/route/v1/driving/90.3725052,23.7824521;90.368197,23.7866398',\n",
       " 'http://0.0.0.0:5000/route/v1/driving/90.3552132,23.7633163;90.3568447,23.767057',\n",
       " 'http://0.0.0.0:5000/route/v1/driving/90.3526592,23.7530197;90.335217,23.7529378',\n",
       " 'http://0.0.0.0:5000/route/v1/driving/90.355192,23.7543844;90.3348737,23.7324823',\n",
       " 'http://0.0.0.0:5000/route/v1/driving/90.4213731,23.726524;90.4102074,23.7301379',\n",
       " 'http://0.0.0.0:5000/route/v1/driving/90.4216501,23.7680998;90.4059242,23.7582418',\n",
       " 'http://0.0.0.0:5000/route/v1/driving/90.416567,23.7807563;90.4144434,23.7944787',\n",
       " 'http://0.0.0.0:5000/route/v1/driving/90.425391,23.7287996;90.421074,23.814762']"
      ]
     },
     "execution_count": 40,
     "metadata": {},
     "output_type": "execute_result"
    }
   ],
   "source": [
    "links"
   ]
  },
  {
   "cell_type": "code",
   "execution_count": 6,
   "id": "3fc8f303",
   "metadata": {},
   "outputs": [],
   "source": [
    "links = [\"https://api.nextbillion.io/directions/json?origin=13.00045427,77.57760552&destination=12.94826323,77.61674432&approaches=unrestricted&approaches=unrestricted&travelMode=4&departureTimeOption=now&departureTime=1658212359979&alternative=false&serviceProviders=Google&session=BBiyt2&alternativeNum=1&annotation=false&key=plaintesting\"]"
   ]
  },
  {
   "cell_type": "code",
   "execution_count": 12,
   "id": "bc847976",
   "metadata": {},
   "outputs": [],
   "source": [
    "r = json.loads(requests.get(links[0]).text)"
   ]
  },
  {
   "cell_type": "code",
   "execution_count": 14,
   "id": "509766e5",
   "metadata": {},
   "outputs": [
    {
     "data": {
      "text/plain": [
       "9925.6"
      ]
     },
     "execution_count": 14,
     "metadata": {},
     "output_type": "execute_result"
    }
   ],
   "source": [
    "r.get('routes')[0]['distance']"
   ]
  },
  {
   "cell_type": "code",
   "execution_count": 15,
   "id": "e84fc32a",
   "metadata": {},
   "outputs": [],
   "source": [
    "distance = []\n",
    "duration = []\n",
    "\n",
    "for each in links:\n",
    "    response = json.loads(requests.get(each).text)\n",
    "    distance.append(response.get('routes')[0]['distance'])\n",
    "    duration.append(response.get('routes')[0]['duration'])"
   ]
  },
  {
   "cell_type": "code",
   "execution_count": 16,
   "id": "c49e4167",
   "metadata": {},
   "outputs": [
    {
     "data": {
      "text/plain": [
       "[9925.6]"
      ]
     },
     "execution_count": 16,
     "metadata": {},
     "output_type": "execute_result"
    }
   ],
   "source": [
    "distance"
   ]
  },
  {
   "cell_type": "code",
   "execution_count": 17,
   "id": "86452332",
   "metadata": {},
   "outputs": [
    {
     "data": {
      "text/plain": [
       "[1829.6]"
      ]
     },
     "execution_count": 17,
     "metadata": {},
     "output_type": "execute_result"
    }
   ],
   "source": [
    "duration"
   ]
  },
  {
   "cell_type": "code",
   "execution_count": null,
   "id": "0ea13ed4",
   "metadata": {},
   "outputs": [],
   "source": []
  }
 ],
 "metadata": {
  "kernelspec": {
   "display_name": "Python 3",
   "language": "python",
   "name": "python3"
  },
  "language_info": {
   "codemirror_mode": {
    "name": "ipython",
    "version": 3
   },
   "file_extension": ".py",
   "mimetype": "text/x-python",
   "name": "python",
   "nbconvert_exporter": "python",
   "pygments_lexer": "ipython3",
   "version": "3.8.8"
  }
 },
 "nbformat": 4,
 "nbformat_minor": 5
}

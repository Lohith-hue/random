{
 "cells": [
  {
   "cell_type": "code",
   "execution_count": null,
   "id": "ea02ed76",
   "metadata": {},
   "outputs": [],
   "source": [
    "import requests # pip install requests\n",
    "from bs4 import BeautifulSoup # pip install beautifulsoup4\n",
    "from lxml import etree\n",
    "import re\n",
    "import time"
   ]
  },
  {
   "cell_type": "code",
   "execution_count": null,
   "id": "1ef37c15",
   "metadata": {},
   "outputs": [],
   "source": [
    "# Load the webpage content\n",
    "url = f\"https://compass.nextbillion.io/directions?city=bangalore&origin=23.7481179,90.4234871&dest=23.7182548,90.4291884&approaches=unrestricted&approaches=unrestricted&travelMode=4&departureTime=1658296800&alternative=false&serviceProviders=Google&session=YqFYdE&alternativeNum=1&annotation=false\"\n",
    "response = requests.get(url)\n",
    "\n",
    "# Convert to a beautiful soup object\n",
    "soup = BeautifulSoup(response.text, 'html.parser')"
   ]
  },
  {
   "cell_type": "code",
   "execution_count": null,
   "id": "d735397e",
   "metadata": {
    "scrolled": true
   },
   "outputs": [],
   "source": [
    "soup"
   ]
  },
  {
   "cell_type": "code",
   "execution_count": null,
   "id": "dd824ed6",
   "metadata": {},
   "outputs": [],
   "source": [
    "for link in soup.find_all('s'):\n",
    "    print(link.get_text())"
   ]
  },
  {
   "cell_type": "code",
   "execution_count": null,
   "id": "1b1e3532",
   "metadata": {},
   "outputs": [],
   "source": [
    "soup.find_all('app-root')"
   ]
  },
  {
   "cell_type": "markdown",
   "id": "95fb6f3f",
   "metadata": {},
   "source": [
    "SELENIUM"
   ]
  },
  {
   "cell_type": "code",
   "execution_count": 1,
   "id": "606c2f62",
   "metadata": {},
   "outputs": [],
   "source": [
    "from selenium import webdriver\n",
    "from selenium.webdriver.common.keys import Keys\n",
    "from selenium.webdriver.common.by import By\n",
    "from webdriver_manager.chrome import ChromeDriverManager\n",
    "import time"
   ]
  },
  {
   "cell_type": "code",
   "execution_count": 2,
   "id": "54401c54",
   "metadata": {},
   "outputs": [],
   "source": [
    "driver = webdriver.Chrome()"
   ]
  },
  {
   "cell_type": "code",
   "execution_count": 4,
   "id": "fdb960e3",
   "metadata": {},
   "outputs": [],
   "source": [
    "#login\n",
    "driver.get(\"https://compass.nextbillion.io/directions?city=bangalore&origin=23.7481179,90.4234871&dest=23.7182548,90.4291884&approaches=unrestricted&approaches=unrestricted&travelMode=4&departureTime=1658296800&alternative=false&serviceProviders=Google&session=YqFYdE&alternativeNum=1&annotation=false\")"
   ]
  },
  {
   "cell_type": "code",
   "execution_count": 89,
   "id": "b512a122",
   "metadata": {},
   "outputs": [],
   "source": [
    "required_links_set = \"\"\"https://compass.nextbillion.io/directions?city=bangalore&origin=23.7481179,90.4234871&dest=23.7182548,90.4291884&approaches=unrestricted&approaches=unrestricted&travelMode=4&departureTime=1658496600000&alternative=false&serviceProviders=Google&session=YqFYdE&alternativeNum=1&annotation=false&departureTimeOption=custom\n",
    "https://compass.nextbillion.io/directions?city=bangalore&origin=23.7675667,90.42318&dest=23.7481555,90.4696396&approaches=unrestricted&approaches=unrestricted&travelMode=4&departureTime=1658496600000&alternative=false&serviceProviders=Google&session=YqFYdE&alternativeNum=1&annotation=false&departureTimeOption=custom\n",
    "https://compass.nextbillion.io/directions?city=bangalore&origin=23.7460517,90.3951294&dest=23.7405531,90.4192176&approaches=unrestricted&approaches=unrestricted&travelMode=4&departureTime=1658496600000&alternative=false&serviceProviders=Google&session=YqFYdE&alternativeNum=1&annotation=false&departureTimeOption=custom\n",
    "https://compass.nextbillion.io/directions?city=bangalore&origin=23.7335737,90.4190724&dest=23.7193657,90.4202848&approaches=unrestricted&approaches=unrestricted&travelMode=4&departureTime=1658496600000&alternative=false&serviceProviders=Google&session=YqFYdE&alternativeNum=1&annotation=false&departureTimeOption=custom\n",
    "https://compass.nextbillion.io/directions?city=bangalore&origin=23.726524,90.4213731&dest=23.7301379,90.4102074&approaches=unrestricted&approaches=unrestricted&travelMode=4&departureTime=1658496600000&alternative=false&serviceProviders=Google&session=YqFYdE&alternativeNum=1&annotation=false&departureTimeOption=custom\n",
    "https://compass.nextbillion.io/directions?city=bangalore&origin=23.7287996,90.425391&dest=23.814762,90.421074&approaches=unrestricted&approaches=unrestricted&travelMode=4&departureTime=1658496600000&alternative=false&serviceProviders=Google&session=YqFYdE&alternativeNum=1&annotation=false&departureTimeOption=custom\n",
    "https://compass.nextbillion.io/directions?city=bangalore&origin=23.749524,90.416050&dest=23.7173672,90.4292851&approaches=unrestricted&approaches=unrestricted&travelMode=4&departureTime=1658496600000&alternative=false&serviceProviders=Google&session=YqFYdE&alternativeNum=1&annotation=false&departureTimeOption=custom\n",
    "https://compass.nextbillion.io/directions?city=bangalore&origin=23.7637866,90.4288073&dest=23.758495,90.428613&approaches=unrestricted&approaches=unrestricted&travelMode=4&departureTime=1658496600000&alternative=false&serviceProviders=Google&session=YqFYdE&alternativeNum=1&annotation=false&departureTimeOption=custom\n",
    "https://compass.nextbillion.io/directions?city=bangalore&origin=23.7824521,90.3725052&dest=23.7866398,90.368197&approaches=unrestricted&approaches=unrestricted&travelMode=4&departureTime=1658496600000&alternative=false&serviceProviders=Google&session=YqFYdE&alternativeNum=1&annotation=false&departureTimeOption=custom\n",
    "https://compass.nextbillion.io/directions?city=bangalore&origin=23.7633163,90.3552132&dest=23.767057,90.3568447&approaches=unrestricted&approaches=unrestricted&travelMode=4&departureTime=1658496600000&alternative=false&serviceProviders=Google&session=YqFYdE&alternativeNum=1&annotation=false&departureTimeOption=custom\n",
    "https://compass.nextbillion.io/directions?city=bangalore&origin=23.7530197,90.3526592&dest=23.7529378,90.335217&approaches=unrestricted&approaches=unrestricted&travelMode=4&departureTime=1658496600000&alternative=false&serviceProviders=Google&session=YqFYdE&alternativeNum=1&annotation=false&departureTimeOption=custom\n",
    "https://compass.nextbillion.io/directions?city=bangalore&origin=23.7383699,90.3908263&dest=23.7268535,90.3903476&approaches=unrestricted&approaches=unrestricted&travelMode=4&departureTime=1658496600000&alternative=false&serviceProviders=Google&session=YqFYdE&alternativeNum=1&annotation=false&departureTimeOption=custom\n",
    "https://compass.nextbillion.io/directions?city=bangalore&origin=23.7391522,90.3814059&dest=23.7569258,90.3616351&approaches=unrestricted&approaches=unrestricted&travelMode=4&departureTime=1658496600000&alternative=false&serviceProviders=Google&session=YqFYdE&alternativeNum=1&annotation=false&departureTimeOption=custom\n",
    "https://compass.nextbillion.io/directions?city=bangalore&origin=23.7569898,90.3903466&dest=23.740353,90.383343&approaches=unrestricted&approaches=unrestricted&travelMode=4&departureTime=1658496600000&alternative=false&serviceProviders=Google&session=YqFYdE&alternativeNum=1&annotation=false&departureTimeOption=custom\n",
    "https://compass.nextbillion.io/directions?city=bangalore&origin=23.7543844,90.355192&dest=23.7324823,90.3348737&approaches=unrestricted&approaches=unrestricted&travelMode=4&departureTime=1658496600000&alternative=false&serviceProviders=Google&session=YqFYdE&alternativeNum=1&annotation=false&departureTimeOption=custom\n",
    "https://compass.nextbillion.io/directions?city=bangalore&origin=23.7680998,90.4216501&dest=23.7582418,90.4059242&approaches=unrestricted&approaches=unrestricted&travelMode=4&departureTime=1658496600000&alternative=false&serviceProviders=Google&session=YqFYdE&alternativeNum=1&annotation=false&departureTimeOption=custom\n",
    "https://compass.nextbillion.io/directions?city=bangalore&origin=23.7807563,90.416567&dest=23.7944787,90.4144434&approaches=unrestricted&approaches=unrestricted&travelMode=4&departureTime=1658496600000&alternative=false&serviceProviders=Google&session=YqFYdE&alternativeNum=1&annotation=false&departureTimeOption=custom\n",
    "https://compass.nextbillion.io/directions?city=bangalore&origin=23.7685374,90.4245664&dest=23.7651841,90.4440677&approaches=unrestricted&approaches=unrestricted&travelMode=4&departureTime=1658496600000&alternative=false&serviceProviders=Google&session=YqFYdE&alternativeNum=1&annotation=false&departureTimeOption=custom\n",
    "https://compass.nextbillion.io/directions?city=bangalore&origin=23.7374455,90.4313923&dest=23.7449292,90.4615796&approaches=unrestricted&approaches=unrestricted&travelMode=4&departureTime=1658496600000&alternative=false&serviceProviders=Google&session=YqFYdE&alternativeNum=1&annotation=false&departureTimeOption=custom\n",
    "https://compass.nextbillion.io/directions?city=bangalore&origin=23.7908685,90.3660649&dest=23.7781328,90.3694817&approaches=unrestricted&approaches=unrestricted&travelMode=4&departureTime=1658496600000&alternative=false&serviceProviders=Google&session=YqFYdE&alternativeNum=1&annotation=false&departureTimeOption=custom\n",
    "https://compass.nextbillion.io/directions?city=bangalore&origin=23.7859974,90.3994488&dest=23.8178914,90.4132929&approaches=unrestricted&approaches=unrestricted&travelMode=4&departureTime=1658496600000&alternative=false&serviceProviders=Google&session=YqFYdE&alternativeNum=1&annotation=false&departureTimeOption=custom\n",
    "https://compass.nextbillion.io/directions?city=bangalore&origin=23.7381426,90.3964262&dest=23.7300791,90.4073418&approaches=unrestricted&approaches=unrestricted&travelMode=4&departureTime=1658496600000&alternative=false&serviceProviders=Google&session=YqFYdE&alternativeNum=1&annotation=false&departureTimeOption=custom\n",
    "https://compass.nextbillion.io/directions?city=bangalore&origin=23.7358834,90.3618016&dest=23.7146992,90.3808476&approaches=unrestricted&approaches=unrestricted&travelMode=4&departureTime=1658496600000&alternative=false&serviceProviders=Google&session=YqFYdE&alternativeNum=1&annotation=false&departureTimeOption=custom\n",
    "https://compass.nextbillion.io/directions?city=bangalore&origin=23.7300575,90.4085893&dest=23.723044,90.4108319&approaches=unrestricted&approaches=unrestricted&travelMode=4&departureTime=1658496600000&alternative=false&serviceProviders=Google&session=YqFYdE&alternativeNum=1&annotation=false&departureTimeOption=custom\n",
    "https://compass.nextbillion.io/directions?city=bangalore&origin=23.783085,90.3400026&dest=23.7749659,90.365708&approaches=unrestricted&approaches=unrestricted&travelMode=4&departureTime=1658496600000&alternative=false&serviceProviders=Google&session=YqFYdE&alternativeNum=1&annotation=false&departureTimeOption=custom\n",
    "https://compass.nextbillion.io/directions?city=bangalore&origin=23.7100077,90.3900974&dest=23.7086192,90.3684564&approaches=unrestricted&approaches=unrestricted&travelMode=4&departureTime=1658496600000&alternative=false&serviceProviders=Google&session=YqFYdE&alternativeNum=1&annotation=false&departureTimeOption=custom\n",
    "https://compass.nextbillion.io/directions?city=bangalore&origin=23.7850814,90.3547751&dest=23.7863046,90.3647993&approaches=unrestricted&approaches=unrestricted&travelMode=4&departureTime=1658496600000&alternative=false&serviceProviders=Google&session=YqFYdE&alternativeNum=1&annotation=false&departureTimeOption=custom\n",
    "https://compass.nextbillion.io/directions?city=bangalore&origin=23.7492431,90.4059818&dest=23.7423645,90.4167533&approaches=unrestricted&approaches=unrestricted&travelMode=4&departureTime=1658496600000&alternative=false&serviceProviders=Google&session=YqFYdE&alternativeNum=1&annotation=false&departureTimeOption=custom\n",
    "https://compass.nextbillion.io/directions?city=bangalore&origin=23.7774835,90.3983898&dest=23.7518469,90.4018545&approaches=unrestricted&approaches=unrestricted&travelMode=4&departureTime=1658496600000&alternative=false&serviceProviders=Google&session=YqFYdE&alternativeNum=1&annotation=false&departureTimeOption=custom\n",
    "https://compass.nextbillion.io/directions?city=bangalore&origin=23.7508323,90.3683207&dest=23.7416855,90.380327&approaches=unrestricted&approaches=unrestricted&travelMode=4&departureTime=1658496600000&alternative=false&serviceProviders=Google&session=YqFYdE&alternativeNum=1&annotation=false&departureTimeOption=custom\n",
    "https://compass.nextbillion.io/directions?city=bangalore&origin=23.7486961,90.4257903&dest=23.750332,90.4162099&approaches=unrestricted&approaches=unrestricted&travelMode=4&departureTime=1658496600000&alternative=false&serviceProviders=Google&session=YqFYdE&alternativeNum=1&annotation=false&departureTimeOption=custom\n",
    "https://compass.nextbillion.io/directions?city=bangalore&origin=23.7115995,90.4029419&dest=23.7223611,90.3956952&approaches=unrestricted&approaches=unrestricted&travelMode=4&departureTime=1658496600000&alternative=false&serviceProviders=Google&session=YqFYdE&alternativeNum=1&annotation=false&departureTimeOption=custom\n",
    "https://compass.nextbillion.io/directions?city=bangalore&origin=23.7491264,90.4037311&dest=23.7601361,90.4110133&approaches=unrestricted&approaches=unrestricted&travelMode=4&departureTime=1658496600000&alternative=false&serviceProviders=Google&session=YqFYdE&alternativeNum=1&annotation=false&departureTimeOption=custom\n",
    "https://compass.nextbillion.io/directions?city=bangalore&origin=23.758651,90.418077&dest=23.744876,90.4438324&approaches=unrestricted&approaches=unrestricted&travelMode=4&departureTime=1658496600000&alternative=false&serviceProviders=Google&session=YqFYdE&alternativeNum=1&annotation=false&departureTimeOption=custom\n",
    "https://compass.nextbillion.io/directions?city=bangalore&origin=23.7138986,90.4566145&dest=23.7004027,90.4568231&approaches=unrestricted&approaches=unrestricted&travelMode=4&departureTime=1658496600000&alternative=false&serviceProviders=Google&session=YqFYdE&alternativeNum=1&annotation=false&departureTimeOption=custom\n",
    "https://compass.nextbillion.io/directions?city=bangalore&origin=23.7489708,90.4034832&dest=23.7492075,90.4053857&approaches=unrestricted&approaches=unrestricted&travelMode=4&departureTime=1658496600000&alternative=false&serviceProviders=Google&session=YqFYdE&alternativeNum=1&annotation=false&departureTimeOption=custom\n",
    "https://compass.nextbillion.io/directions?city=bangalore&origin=23.7377436,90.4041717&dest=23.7376348,90.4050178&approaches=unrestricted&approaches=unrestricted&travelMode=4&departureTime=1658496600000&alternative=false&serviceProviders=Google&session=YqFYdE&alternativeNum=1&annotation=false&departureTimeOption=custom\n",
    "https://compass.nextbillion.io/directions?city=bangalore&origin=23.765621,90.3833594&dest=23.7652032,90.3841315&approaches=unrestricted&approaches=unrestricted&travelMode=4&departureTime=1658496600000&alternative=false&serviceProviders=Google&session=YqFYdE&alternativeNum=1&annotation=false&departureTimeOption=custom\n",
    "https://compass.nextbillion.io/directions?city=bangalore&origin=23.7579885,90.3744054&dest=23.7581904,90.3750141&approaches=unrestricted&approaches=unrestricted&travelMode=4&departureTime=1658496600000&alternative=false&serviceProviders=Google&session=YqFYdE&alternativeNum=1&annotation=false&departureTimeOption=custom\n",
    "https://compass.nextbillion.io/directions?city=bangalore&origin=23.7380667,90.396698&dest=23.7375472,90.395837&approaches=unrestricted&approaches=unrestricted&travelMode=4&departureTime=1658496600000&alternative=false&serviceProviders=Google&session=YqFYdE&alternativeNum=1&annotation=false&departureTimeOption=custom\n",
    "https://compass.nextbillion.io/directions?city=bangalore&origin=23.7714003,90.3679053&dest=23.7714461,90.3680554&approaches=unrestricted&approaches=unrestricted&travelMode=4&departureTime=1658496600000&alternative=false&serviceProviders=Google&session=YqFYdE&alternativeNum=1&annotation=false&departureTimeOption=custom\n",
    "https://compass.nextbillion.io/directions?city=bangalore&origin=23.7323798,90.3855033&dest=23.731903,90.3852998&approaches=unrestricted&approaches=unrestricted&travelMode=4&departureTime=1658496600000&alternative=false&serviceProviders=Google&session=YqFYdE&alternativeNum=1&annotation=false&departureTimeOption=custom\n",
    "https://compass.nextbillion.io/directions?city=bangalore&origin=23.7803747,90.4163234&dest=23.7807563,90.416567&approaches=unrestricted&approaches=unrestricted&travelMode=4&departureTime=1658496600000&alternative=false&serviceProviders=Google&session=YqFYdE&alternativeNum=1&annotation=false&departureTimeOption=custom\n",
    "https://compass.nextbillion.io/directions?city=bangalore&origin=23.7418114,90.4121512&dest=23.7414312,90.4121277&approaches=unrestricted&approaches=unrestricted&travelMode=4&departureTime=1658496600000&alternative=false&serviceProviders=Google&session=YqFYdE&alternativeNum=1&annotation=false&departureTimeOption=custom\n",
    "https://compass.nextbillion.io/directions?city=bangalore&origin=23.7334354,90.3787199&dest=23.7334627,90.3787715&approaches=unrestricted&approaches=unrestricted&travelMode=4&departureTime=1658496600000&alternative=false&serviceProviders=Google&session=YqFYdE&alternativeNum=1&annotation=false&departureTimeOption=custom\n",
    "https://compass.nextbillion.io/directions?city=bangalore&origin=23.7370945,90.3768277&dest=23.737122,90.3768863&approaches=unrestricted&approaches=unrestricted&travelMode=4&departureTime=1658496600000&alternative=false&serviceProviders=Google&session=YqFYdE&alternativeNum=1&annotation=false&departureTimeOption=custom\n",
    "https://compass.nextbillion.io/directions?city=bangalore&origin=23.7791986,90.3680303&dest=23.7792282,90.3680913&approaches=unrestricted&approaches=unrestricted&travelMode=4&departureTime=1658496600000&alternative=false&serviceProviders=Google&session=YqFYdE&alternativeNum=1&annotation=false&departureTimeOption=custom\n",
    "https://compass.nextbillion.io/directions?city=bangalore&origin=23.7411044,90.366722&dest=23.7419672,90.3695834&approaches=unrestricted&approaches=unrestricted&travelMode=4&departureTime=1658496600000&alternative=false&serviceProviders=Google&session=YqFYdE&alternativeNum=1&annotation=false&departureTimeOption=custom\n",
    "https://compass.nextbillion.io/directions?city=bangalore&origin=23.7531945,90.3661799&dest=23.754408,90.3687829&approaches=unrestricted&approaches=unrestricted&travelMode=4&departureTime=1658496600000&alternative=false&serviceProviders=Google&session=YqFYdE&alternativeNum=1&annotation=false&departureTimeOption=custom\n",
    "https://compass.nextbillion.io/directions?city=bangalore&origin=23.7555892,90.3533566&dest=23.7558025,90.3548374&approaches=unrestricted&approaches=unrestricted&travelMode=4&departureTime=1658496600000&alternative=false&serviceProviders=Google&session=YqFYdE&alternativeNum=1&annotation=false&departureTimeOption=custom\"\"\""
   ]
  },
  {
   "cell_type": "code",
   "execution_count": 90,
   "id": "12fba2f1",
   "metadata": {},
   "outputs": [
    {
     "data": {
      "text/plain": [
       "'\"https://compass.nextbillion.io/directions?city=bangalore&origin=23.7481179,90.4234871&dest=23.7182548,90.4291884&approaches=unrestricted&approaches=unrestricted&travelMode=4&departureTime=1658496600000&alternative=false&serviceProviders=Google&session=YqFYdE&alternativeNum=1&annotation=false&departureTimeOption=custom\",\"https://compass.nextbillion.io/directions?city=bangalore&origin=23.7675667,90.42318&dest=23.7481555,90.4696396&approaches=unrestricted&approaches=unrestricted&travelMode=4&departureTime=1658496600000&alternative=false&serviceProviders=Google&session=YqFYdE&alternativeNum=1&annotation=false&departureTimeOption=custom\",\"https://compass.nextbillion.io/directions?city=bangalore&origin=23.7460517,90.3951294&dest=23.7405531,90.4192176&approaches=unrestricted&approaches=unrestricted&travelMode=4&departureTime=1658496600000&alternative=false&serviceProviders=Google&session=YqFYdE&alternativeNum=1&annotation=false&departureTimeOption=custom\",\"https://compass.nextbillion.io/directions?city=bangalore&origin=23.7335737,90.4190724&dest=23.7193657,90.4202848&approaches=unrestricted&approaches=unrestricted&travelMode=4&departureTime=1658496600000&alternative=false&serviceProviders=Google&session=YqFYdE&alternativeNum=1&annotation=false&departureTimeOption=custom\",\"https://compass.nextbillion.io/directions?city=bangalore&origin=23.726524,90.4213731&dest=23.7301379,90.4102074&approaches=unrestricted&approaches=unrestricted&travelMode=4&departureTime=1658496600000&alternative=false&serviceProviders=Google&session=YqFYdE&alternativeNum=1&annotation=false&departureTimeOption=custom\",\"https://compass.nextbillion.io/directions?city=bangalore&origin=23.7287996,90.425391&dest=23.814762,90.421074&approaches=unrestricted&approaches=unrestricted&travelMode=4&departureTime=1658496600000&alternative=false&serviceProviders=Google&session=YqFYdE&alternativeNum=1&annotation=false&departureTimeOption=custom\",\"https://compass.nextbillion.io/directions?city=bangalore&origin=23.749524,90.416050&dest=23.7173672,90.4292851&approaches=unrestricted&approaches=unrestricted&travelMode=4&departureTime=1658496600000&alternative=false&serviceProviders=Google&session=YqFYdE&alternativeNum=1&annotation=false&departureTimeOption=custom\",\"https://compass.nextbillion.io/directions?city=bangalore&origin=23.7637866,90.4288073&dest=23.758495,90.428613&approaches=unrestricted&approaches=unrestricted&travelMode=4&departureTime=1658496600000&alternative=false&serviceProviders=Google&session=YqFYdE&alternativeNum=1&annotation=false&departureTimeOption=custom\",\"https://compass.nextbillion.io/directions?city=bangalore&origin=23.7824521,90.3725052&dest=23.7866398,90.368197&approaches=unrestricted&approaches=unrestricted&travelMode=4&departureTime=1658496600000&alternative=false&serviceProviders=Google&session=YqFYdE&alternativeNum=1&annotation=false&departureTimeOption=custom\",\"https://compass.nextbillion.io/directions?city=bangalore&origin=23.7633163,90.3552132&dest=23.767057,90.3568447&approaches=unrestricted&approaches=unrestricted&travelMode=4&departureTime=1658496600000&alternative=false&serviceProviders=Google&session=YqFYdE&alternativeNum=1&annotation=false&departureTimeOption=custom\",\"https://compass.nextbillion.io/directions?city=bangalore&origin=23.7530197,90.3526592&dest=23.7529378,90.335217&approaches=unrestricted&approaches=unrestricted&travelMode=4&departureTime=1658496600000&alternative=false&serviceProviders=Google&session=YqFYdE&alternativeNum=1&annotation=false&departureTimeOption=custom\",\"https://compass.nextbillion.io/directions?city=bangalore&origin=23.7383699,90.3908263&dest=23.7268535,90.3903476&approaches=unrestricted&approaches=unrestricted&travelMode=4&departureTime=1658496600000&alternative=false&serviceProviders=Google&session=YqFYdE&alternativeNum=1&annotation=false&departureTimeOption=custom\",\"https://compass.nextbillion.io/directions?city=bangalore&origin=23.7391522,90.3814059&dest=23.7569258,90.3616351&approaches=unrestricted&approaches=unrestricted&travelMode=4&departureTime=1658496600000&alternative=false&serviceProviders=Google&session=YqFYdE&alternativeNum=1&annotation=false&departureTimeOption=custom\",\"https://compass.nextbillion.io/directions?city=bangalore&origin=23.7569898,90.3903466&dest=23.740353,90.383343&approaches=unrestricted&approaches=unrestricted&travelMode=4&departureTime=1658496600000&alternative=false&serviceProviders=Google&session=YqFYdE&alternativeNum=1&annotation=false&departureTimeOption=custom\",\"https://compass.nextbillion.io/directions?city=bangalore&origin=23.7543844,90.355192&dest=23.7324823,90.3348737&approaches=unrestricted&approaches=unrestricted&travelMode=4&departureTime=1658496600000&alternative=false&serviceProviders=Google&session=YqFYdE&alternativeNum=1&annotation=false&departureTimeOption=custom\",\"https://compass.nextbillion.io/directions?city=bangalore&origin=23.7680998,90.4216501&dest=23.7582418,90.4059242&approaches=unrestricted&approaches=unrestricted&travelMode=4&departureTime=1658496600000&alternative=false&serviceProviders=Google&session=YqFYdE&alternativeNum=1&annotation=false&departureTimeOption=custom\",\"https://compass.nextbillion.io/directions?city=bangalore&origin=23.7807563,90.416567&dest=23.7944787,90.4144434&approaches=unrestricted&approaches=unrestricted&travelMode=4&departureTime=1658496600000&alternative=false&serviceProviders=Google&session=YqFYdE&alternativeNum=1&annotation=false&departureTimeOption=custom\",\"https://compass.nextbillion.io/directions?city=bangalore&origin=23.7685374,90.4245664&dest=23.7651841,90.4440677&approaches=unrestricted&approaches=unrestricted&travelMode=4&departureTime=1658496600000&alternative=false&serviceProviders=Google&session=YqFYdE&alternativeNum=1&annotation=false&departureTimeOption=custom\",\"https://compass.nextbillion.io/directions?city=bangalore&origin=23.7374455,90.4313923&dest=23.7449292,90.4615796&approaches=unrestricted&approaches=unrestricted&travelMode=4&departureTime=1658496600000&alternative=false&serviceProviders=Google&session=YqFYdE&alternativeNum=1&annotation=false&departureTimeOption=custom\",\"https://compass.nextbillion.io/directions?city=bangalore&origin=23.7908685,90.3660649&dest=23.7781328,90.3694817&approaches=unrestricted&approaches=unrestricted&travelMode=4&departureTime=1658496600000&alternative=false&serviceProviders=Google&session=YqFYdE&alternativeNum=1&annotation=false&departureTimeOption=custom\",\"https://compass.nextbillion.io/directions?city=bangalore&origin=23.7859974,90.3994488&dest=23.8178914,90.4132929&approaches=unrestricted&approaches=unrestricted&travelMode=4&departureTime=1658496600000&alternative=false&serviceProviders=Google&session=YqFYdE&alternativeNum=1&annotation=false&departureTimeOption=custom\",\"https://compass.nextbillion.io/directions?city=bangalore&origin=23.7381426,90.3964262&dest=23.7300791,90.4073418&approaches=unrestricted&approaches=unrestricted&travelMode=4&departureTime=1658496600000&alternative=false&serviceProviders=Google&session=YqFYdE&alternativeNum=1&annotation=false&departureTimeOption=custom\",\"https://compass.nextbillion.io/directions?city=bangalore&origin=23.7358834,90.3618016&dest=23.7146992,90.3808476&approaches=unrestricted&approaches=unrestricted&travelMode=4&departureTime=1658496600000&alternative=false&serviceProviders=Google&session=YqFYdE&alternativeNum=1&annotation=false&departureTimeOption=custom\",\"https://compass.nextbillion.io/directions?city=bangalore&origin=23.7300575,90.4085893&dest=23.723044,90.4108319&approaches=unrestricted&approaches=unrestricted&travelMode=4&departureTime=1658496600000&alternative=false&serviceProviders=Google&session=YqFYdE&alternativeNum=1&annotation=false&departureTimeOption=custom\",\"https://compass.nextbillion.io/directions?city=bangalore&origin=23.783085,90.3400026&dest=23.7749659,90.365708&approaches=unrestricted&approaches=unrestricted&travelMode=4&departureTime=1658496600000&alternative=false&serviceProviders=Google&session=YqFYdE&alternativeNum=1&annotation=false&departureTimeOption=custom\",\"https://compass.nextbillion.io/directions?city=bangalore&origin=23.7100077,90.3900974&dest=23.7086192,90.3684564&approaches=unrestricted&approaches=unrestricted&travelMode=4&departureTime=1658496600000&alternative=false&serviceProviders=Google&session=YqFYdE&alternativeNum=1&annotation=false&departureTimeOption=custom\",\"https://compass.nextbillion.io/directions?city=bangalore&origin=23.7850814,90.3547751&dest=23.7863046,90.3647993&approaches=unrestricted&approaches=unrestricted&travelMode=4&departureTime=1658496600000&alternative=false&serviceProviders=Google&session=YqFYdE&alternativeNum=1&annotation=false&departureTimeOption=custom\",\"https://compass.nextbillion.io/directions?city=bangalore&origin=23.7492431,90.4059818&dest=23.7423645,90.4167533&approaches=unrestricted&approaches=unrestricted&travelMode=4&departureTime=1658496600000&alternative=false&serviceProviders=Google&session=YqFYdE&alternativeNum=1&annotation=false&departureTimeOption=custom\",\"https://compass.nextbillion.io/directions?city=bangalore&origin=23.7774835,90.3983898&dest=23.7518469,90.4018545&approaches=unrestricted&approaches=unrestricted&travelMode=4&departureTime=1658496600000&alternative=false&serviceProviders=Google&session=YqFYdE&alternativeNum=1&annotation=false&departureTimeOption=custom\",\"https://compass.nextbillion.io/directions?city=bangalore&origin=23.7508323,90.3683207&dest=23.7416855,90.380327&approaches=unrestricted&approaches=unrestricted&travelMode=4&departureTime=1658496600000&alternative=false&serviceProviders=Google&session=YqFYdE&alternativeNum=1&annotation=false&departureTimeOption=custom\",\"https://compass.nextbillion.io/directions?city=bangalore&origin=23.7486961,90.4257903&dest=23.750332,90.4162099&approaches=unrestricted&approaches=unrestricted&travelMode=4&departureTime=1658496600000&alternative=false&serviceProviders=Google&session=YqFYdE&alternativeNum=1&annotation=false&departureTimeOption=custom\",\"https://compass.nextbillion.io/directions?city=bangalore&origin=23.7115995,90.4029419&dest=23.7223611,90.3956952&approaches=unrestricted&approaches=unrestricted&travelMode=4&departureTime=1658496600000&alternative=false&serviceProviders=Google&session=YqFYdE&alternativeNum=1&annotation=false&departureTimeOption=custom\",\"https://compass.nextbillion.io/directions?city=bangalore&origin=23.7491264,90.4037311&dest=23.7601361,90.4110133&approaches=unrestricted&approaches=unrestricted&travelMode=4&departureTime=1658496600000&alternative=false&serviceProviders=Google&session=YqFYdE&alternativeNum=1&annotation=false&departureTimeOption=custom\",\"https://compass.nextbillion.io/directions?city=bangalore&origin=23.758651,90.418077&dest=23.744876,90.4438324&approaches=unrestricted&approaches=unrestricted&travelMode=4&departureTime=1658496600000&alternative=false&serviceProviders=Google&session=YqFYdE&alternativeNum=1&annotation=false&departureTimeOption=custom\",\"https://compass.nextbillion.io/directions?city=bangalore&origin=23.7138986,90.4566145&dest=23.7004027,90.4568231&approaches=unrestricted&approaches=unrestricted&travelMode=4&departureTime=1658496600000&alternative=false&serviceProviders=Google&session=YqFYdE&alternativeNum=1&annotation=false&departureTimeOption=custom\",\"https://compass.nextbillion.io/directions?city=bangalore&origin=23.7489708,90.4034832&dest=23.7492075,90.4053857&approaches=unrestricted&approaches=unrestricted&travelMode=4&departureTime=1658496600000&alternative=false&serviceProviders=Google&session=YqFYdE&alternativeNum=1&annotation=false&departureTimeOption=custom\",\"https://compass.nextbillion.io/directions?city=bangalore&origin=23.7377436,90.4041717&dest=23.7376348,90.4050178&approaches=unrestricted&approaches=unrestricted&travelMode=4&departureTime=1658496600000&alternative=false&serviceProviders=Google&session=YqFYdE&alternativeNum=1&annotation=false&departureTimeOption=custom\",\"https://compass.nextbillion.io/directions?city=bangalore&origin=23.765621,90.3833594&dest=23.7652032,90.3841315&approaches=unrestricted&approaches=unrestricted&travelMode=4&departureTime=1658496600000&alternative=false&serviceProviders=Google&session=YqFYdE&alternativeNum=1&annotation=false&departureTimeOption=custom\",\"https://compass.nextbillion.io/directions?city=bangalore&origin=23.7579885,90.3744054&dest=23.7581904,90.3750141&approaches=unrestricted&approaches=unrestricted&travelMode=4&departureTime=1658496600000&alternative=false&serviceProviders=Google&session=YqFYdE&alternativeNum=1&annotation=false&departureTimeOption=custom\",\"https://compass.nextbillion.io/directions?city=bangalore&origin=23.7380667,90.396698&dest=23.7375472,90.395837&approaches=unrestricted&approaches=unrestricted&travelMode=4&departureTime=1658496600000&alternative=false&serviceProviders=Google&session=YqFYdE&alternativeNum=1&annotation=false&departureTimeOption=custom\",\"https://compass.nextbillion.io/directions?city=bangalore&origin=23.7714003,90.3679053&dest=23.7714461,90.3680554&approaches=unrestricted&approaches=unrestricted&travelMode=4&departureTime=1658496600000&alternative=false&serviceProviders=Google&session=YqFYdE&alternativeNum=1&annotation=false&departureTimeOption=custom\",\"https://compass.nextbillion.io/directions?city=bangalore&origin=23.7323798,90.3855033&dest=23.731903,90.3852998&approaches=unrestricted&approaches=unrestricted&travelMode=4&departureTime=1658496600000&alternative=false&serviceProviders=Google&session=YqFYdE&alternativeNum=1&annotation=false&departureTimeOption=custom\",\"https://compass.nextbillion.io/directions?city=bangalore&origin=23.7803747,90.4163234&dest=23.7807563,90.416567&approaches=unrestricted&approaches=unrestricted&travelMode=4&departureTime=1658496600000&alternative=false&serviceProviders=Google&session=YqFYdE&alternativeNum=1&annotation=false&departureTimeOption=custom\",\"https://compass.nextbillion.io/directions?city=bangalore&origin=23.7418114,90.4121512&dest=23.7414312,90.4121277&approaches=unrestricted&approaches=unrestricted&travelMode=4&departureTime=1658496600000&alternative=false&serviceProviders=Google&session=YqFYdE&alternativeNum=1&annotation=false&departureTimeOption=custom\",\"https://compass.nextbillion.io/directions?city=bangalore&origin=23.7334354,90.3787199&dest=23.7334627,90.3787715&approaches=unrestricted&approaches=unrestricted&travelMode=4&departureTime=1658496600000&alternative=false&serviceProviders=Google&session=YqFYdE&alternativeNum=1&annotation=false&departureTimeOption=custom\",\"https://compass.nextbillion.io/directions?city=bangalore&origin=23.7370945,90.3768277&dest=23.737122,90.3768863&approaches=unrestricted&approaches=unrestricted&travelMode=4&departureTime=1658496600000&alternative=false&serviceProviders=Google&session=YqFYdE&alternativeNum=1&annotation=false&departureTimeOption=custom\",\"https://compass.nextbillion.io/directions?city=bangalore&origin=23.7791986,90.3680303&dest=23.7792282,90.3680913&approaches=unrestricted&approaches=unrestricted&travelMode=4&departureTime=1658496600000&alternative=false&serviceProviders=Google&session=YqFYdE&alternativeNum=1&annotation=false&departureTimeOption=custom\",\"https://compass.nextbillion.io/directions?city=bangalore&origin=23.7411044,90.366722&dest=23.7419672,90.3695834&approaches=unrestricted&approaches=unrestricted&travelMode=4&departureTime=1658496600000&alternative=false&serviceProviders=Google&session=YqFYdE&alternativeNum=1&annotation=false&departureTimeOption=custom\",\"https://compass.nextbillion.io/directions?city=bangalore&origin=23.7531945,90.3661799&dest=23.754408,90.3687829&approaches=unrestricted&approaches=unrestricted&travelMode=4&departureTime=1658496600000&alternative=false&serviceProviders=Google&session=YqFYdE&alternativeNum=1&annotation=false&departureTimeOption=custom\",\"https://compass.nextbillion.io/directions?city=bangalore&origin=23.7555892,90.3533566&dest=23.7558025,90.3548374&approaches=unrestricted&approaches=unrestricted&travelMode=4&departureTime=1658496600000&alternative=false&serviceProviders=Google&session=YqFYdE&alternativeNum=1&annotation=false&departureTimeOption=custom\",'"
      ]
     },
     "execution_count": 90,
     "metadata": {},
     "output_type": "execute_result"
    }
   ],
   "source": [
    "links_strings = required_links_set.replace('https://','\"https://').replace('&departureTimeOption=custom','&departureTimeOption=custom\",').replace(\"\\n\",\"\")\n",
    "links_strings"
   ]
  },
  {
   "cell_type": "code",
   "execution_count": 38,
   "id": "8c030c4b",
   "metadata": {},
   "outputs": [],
   "source": [
    "links_extra = links_strings.split('\",')\n",
    "links_trail = links_extra[:50]"
   ]
  },
  {
   "cell_type": "code",
   "execution_count": 39,
   "id": "a051a9b0",
   "metadata": {},
   "outputs": [
    {
     "data": {
      "text/plain": [
       "50"
      ]
     },
     "execution_count": 39,
     "metadata": {},
     "output_type": "execute_result"
    }
   ],
   "source": [
    "len(links_trail)"
   ]
  },
  {
   "cell_type": "code",
   "execution_count": 41,
   "id": "5c96da29",
   "metadata": {},
   "outputs": [
    {
     "data": {
      "text/plain": [
       "'\"https://compass.nextbillion.io/directions?city=bangalore&origin=23.7555892,90.3533566&dest=23.7558025,90.3548374&approaches=unrestricted&approaches=unrestricted&travelMode=4&departureTime=1658460600000&alternative=false&serviceProviders=Google&session=YqFYdE&alternativeNum=1&annotation=false&departureTimeOption=custom'"
      ]
     },
     "execution_count": 41,
     "metadata": {},
     "output_type": "execute_result"
    }
   ],
   "source": [
    "links_trail[-1]"
   ]
  },
  {
   "cell_type": "code",
   "execution_count": 49,
   "id": "a1b32b13",
   "metadata": {},
   "outputs": [
    {
     "data": {
      "text/plain": [
       "'\"https://compass.nextbillion.io/directions?city=bangalore&origin=23.7481179,90.4234871&dest=23.7182548,90.4291884&approaches=unrestricted&approaches=unrestricted&travelMode=4&departureTime=1658460600000&alternative=false&serviceProviders=Google&session=YqFYdE&alternativeNum=1&annotation=false&departureTimeOption=custom'"
      ]
     },
     "execution_count": 49,
     "metadata": {},
     "output_type": "execute_result"
    }
   ],
   "source": [
    "links_trail[0]"
   ]
  },
  {
   "cell_type": "code",
   "execution_count": 92,
   "id": "97bff772",
   "metadata": {},
   "outputs": [
    {
     "data": {
      "text/plain": [
       "'https://compass.nextbillion.io/directions?city=bangalore&origin=23.7555892,90.3533566&dest=23.7558025,90.3548374&approaches=unrestricted&approaches=unrestricted&travelMode=4&departureTime=1658496600000&alternative=false&serviceProviders=Google&session=YqFYdE&alternativeNum=1&annotation=false&departureTimeOption=custom'"
      ]
     },
     "execution_count": 92,
     "metadata": {},
     "output_type": "execute_result"
    }
   ],
   "source": [
    "links[-1]"
   ]
  },
  {
   "cell_type": "code",
   "execution_count": 91,
   "id": "6af10188",
   "metadata": {},
   "outputs": [],
   "source": [
    "links = [\"https://compass.nextbillion.io/directions?city=bangalore&origin=23.7481179,90.4234871&dest=23.7182548,90.4291884&approaches=unrestricted&approaches=unrestricted&travelMode=4&departureTime=1658496600000&alternative=false&serviceProviders=Google&session=YqFYdE&alternativeNum=1&annotation=false&departureTimeOption=custom\",\"https://compass.nextbillion.io/directions?city=bangalore&origin=23.7675667,90.42318&dest=23.7481555,90.4696396&approaches=unrestricted&approaches=unrestricted&travelMode=4&departureTime=1658496600000&alternative=false&serviceProviders=Google&session=YqFYdE&alternativeNum=1&annotation=false&departureTimeOption=custom\",\"https://compass.nextbillion.io/directions?city=bangalore&origin=23.7460517,90.3951294&dest=23.7405531,90.4192176&approaches=unrestricted&approaches=unrestricted&travelMode=4&departureTime=1658496600000&alternative=false&serviceProviders=Google&session=YqFYdE&alternativeNum=1&annotation=false&departureTimeOption=custom\",\"https://compass.nextbillion.io/directions?city=bangalore&origin=23.7335737,90.4190724&dest=23.7193657,90.4202848&approaches=unrestricted&approaches=unrestricted&travelMode=4&departureTime=1658496600000&alternative=false&serviceProviders=Google&session=YqFYdE&alternativeNum=1&annotation=false&departureTimeOption=custom\",\"https://compass.nextbillion.io/directions?city=bangalore&origin=23.726524,90.4213731&dest=23.7301379,90.4102074&approaches=unrestricted&approaches=unrestricted&travelMode=4&departureTime=1658496600000&alternative=false&serviceProviders=Google&session=YqFYdE&alternativeNum=1&annotation=false&departureTimeOption=custom\",\"https://compass.nextbillion.io/directions?city=bangalore&origin=23.7287996,90.425391&dest=23.814762,90.421074&approaches=unrestricted&approaches=unrestricted&travelMode=4&departureTime=1658496600000&alternative=false&serviceProviders=Google&session=YqFYdE&alternativeNum=1&annotation=false&departureTimeOption=custom\",\"https://compass.nextbillion.io/directions?city=bangalore&origin=23.749524,90.416050&dest=23.7173672,90.4292851&approaches=unrestricted&approaches=unrestricted&travelMode=4&departureTime=1658496600000&alternative=false&serviceProviders=Google&session=YqFYdE&alternativeNum=1&annotation=false&departureTimeOption=custom\",\"https://compass.nextbillion.io/directions?city=bangalore&origin=23.7637866,90.4288073&dest=23.758495,90.428613&approaches=unrestricted&approaches=unrestricted&travelMode=4&departureTime=1658496600000&alternative=false&serviceProviders=Google&session=YqFYdE&alternativeNum=1&annotation=false&departureTimeOption=custom\",\"https://compass.nextbillion.io/directions?city=bangalore&origin=23.7824521,90.3725052&dest=23.7866398,90.368197&approaches=unrestricted&approaches=unrestricted&travelMode=4&departureTime=1658496600000&alternative=false&serviceProviders=Google&session=YqFYdE&alternativeNum=1&annotation=false&departureTimeOption=custom\",\"https://compass.nextbillion.io/directions?city=bangalore&origin=23.7633163,90.3552132&dest=23.767057,90.3568447&approaches=unrestricted&approaches=unrestricted&travelMode=4&departureTime=1658496600000&alternative=false&serviceProviders=Google&session=YqFYdE&alternativeNum=1&annotation=false&departureTimeOption=custom\",\"https://compass.nextbillion.io/directions?city=bangalore&origin=23.7530197,90.3526592&dest=23.7529378,90.335217&approaches=unrestricted&approaches=unrestricted&travelMode=4&departureTime=1658496600000&alternative=false&serviceProviders=Google&session=YqFYdE&alternativeNum=1&annotation=false&departureTimeOption=custom\",\"https://compass.nextbillion.io/directions?city=bangalore&origin=23.7383699,90.3908263&dest=23.7268535,90.3903476&approaches=unrestricted&approaches=unrestricted&travelMode=4&departureTime=1658496600000&alternative=false&serviceProviders=Google&session=YqFYdE&alternativeNum=1&annotation=false&departureTimeOption=custom\",\"https://compass.nextbillion.io/directions?city=bangalore&origin=23.7391522,90.3814059&dest=23.7569258,90.3616351&approaches=unrestricted&approaches=unrestricted&travelMode=4&departureTime=1658496600000&alternative=false&serviceProviders=Google&session=YqFYdE&alternativeNum=1&annotation=false&departureTimeOption=custom\",\"https://compass.nextbillion.io/directions?city=bangalore&origin=23.7569898,90.3903466&dest=23.740353,90.383343&approaches=unrestricted&approaches=unrestricted&travelMode=4&departureTime=1658496600000&alternative=false&serviceProviders=Google&session=YqFYdE&alternativeNum=1&annotation=false&departureTimeOption=custom\",\"https://compass.nextbillion.io/directions?city=bangalore&origin=23.7543844,90.355192&dest=23.7324823,90.3348737&approaches=unrestricted&approaches=unrestricted&travelMode=4&departureTime=1658496600000&alternative=false&serviceProviders=Google&session=YqFYdE&alternativeNum=1&annotation=false&departureTimeOption=custom\",\"https://compass.nextbillion.io/directions?city=bangalore&origin=23.7680998,90.4216501&dest=23.7582418,90.4059242&approaches=unrestricted&approaches=unrestricted&travelMode=4&departureTime=1658496600000&alternative=false&serviceProviders=Google&session=YqFYdE&alternativeNum=1&annotation=false&departureTimeOption=custom\",\"https://compass.nextbillion.io/directions?city=bangalore&origin=23.7807563,90.416567&dest=23.7944787,90.4144434&approaches=unrestricted&approaches=unrestricted&travelMode=4&departureTime=1658496600000&alternative=false&serviceProviders=Google&session=YqFYdE&alternativeNum=1&annotation=false&departureTimeOption=custom\",\"https://compass.nextbillion.io/directions?city=bangalore&origin=23.7685374,90.4245664&dest=23.7651841,90.4440677&approaches=unrestricted&approaches=unrestricted&travelMode=4&departureTime=1658496600000&alternative=false&serviceProviders=Google&session=YqFYdE&alternativeNum=1&annotation=false&departureTimeOption=custom\",\"https://compass.nextbillion.io/directions?city=bangalore&origin=23.7374455,90.4313923&dest=23.7449292,90.4615796&approaches=unrestricted&approaches=unrestricted&travelMode=4&departureTime=1658496600000&alternative=false&serviceProviders=Google&session=YqFYdE&alternativeNum=1&annotation=false&departureTimeOption=custom\",\"https://compass.nextbillion.io/directions?city=bangalore&origin=23.7908685,90.3660649&dest=23.7781328,90.3694817&approaches=unrestricted&approaches=unrestricted&travelMode=4&departureTime=1658496600000&alternative=false&serviceProviders=Google&session=YqFYdE&alternativeNum=1&annotation=false&departureTimeOption=custom\",\"https://compass.nextbillion.io/directions?city=bangalore&origin=23.7859974,90.3994488&dest=23.8178914,90.4132929&approaches=unrestricted&approaches=unrestricted&travelMode=4&departureTime=1658496600000&alternative=false&serviceProviders=Google&session=YqFYdE&alternativeNum=1&annotation=false&departureTimeOption=custom\",\"https://compass.nextbillion.io/directions?city=bangalore&origin=23.7381426,90.3964262&dest=23.7300791,90.4073418&approaches=unrestricted&approaches=unrestricted&travelMode=4&departureTime=1658496600000&alternative=false&serviceProviders=Google&session=YqFYdE&alternativeNum=1&annotation=false&departureTimeOption=custom\",\"https://compass.nextbillion.io/directions?city=bangalore&origin=23.7358834,90.3618016&dest=23.7146992,90.3808476&approaches=unrestricted&approaches=unrestricted&travelMode=4&departureTime=1658496600000&alternative=false&serviceProviders=Google&session=YqFYdE&alternativeNum=1&annotation=false&departureTimeOption=custom\",\"https://compass.nextbillion.io/directions?city=bangalore&origin=23.7300575,90.4085893&dest=23.723044,90.4108319&approaches=unrestricted&approaches=unrestricted&travelMode=4&departureTime=1658496600000&alternative=false&serviceProviders=Google&session=YqFYdE&alternativeNum=1&annotation=false&departureTimeOption=custom\",\"https://compass.nextbillion.io/directions?city=bangalore&origin=23.783085,90.3400026&dest=23.7749659,90.365708&approaches=unrestricted&approaches=unrestricted&travelMode=4&departureTime=1658496600000&alternative=false&serviceProviders=Google&session=YqFYdE&alternativeNum=1&annotation=false&departureTimeOption=custom\",\"https://compass.nextbillion.io/directions?city=bangalore&origin=23.7100077,90.3900974&dest=23.7086192,90.3684564&approaches=unrestricted&approaches=unrestricted&travelMode=4&departureTime=1658496600000&alternative=false&serviceProviders=Google&session=YqFYdE&alternativeNum=1&annotation=false&departureTimeOption=custom\",\"https://compass.nextbillion.io/directions?city=bangalore&origin=23.7850814,90.3547751&dest=23.7863046,90.3647993&approaches=unrestricted&approaches=unrestricted&travelMode=4&departureTime=1658496600000&alternative=false&serviceProviders=Google&session=YqFYdE&alternativeNum=1&annotation=false&departureTimeOption=custom\",\"https://compass.nextbillion.io/directions?city=bangalore&origin=23.7492431,90.4059818&dest=23.7423645,90.4167533&approaches=unrestricted&approaches=unrestricted&travelMode=4&departureTime=1658496600000&alternative=false&serviceProviders=Google&session=YqFYdE&alternativeNum=1&annotation=false&departureTimeOption=custom\",\"https://compass.nextbillion.io/directions?city=bangalore&origin=23.7774835,90.3983898&dest=23.7518469,90.4018545&approaches=unrestricted&approaches=unrestricted&travelMode=4&departureTime=1658496600000&alternative=false&serviceProviders=Google&session=YqFYdE&alternativeNum=1&annotation=false&departureTimeOption=custom\",\"https://compass.nextbillion.io/directions?city=bangalore&origin=23.7508323,90.3683207&dest=23.7416855,90.380327&approaches=unrestricted&approaches=unrestricted&travelMode=4&departureTime=1658496600000&alternative=false&serviceProviders=Google&session=YqFYdE&alternativeNum=1&annotation=false&departureTimeOption=custom\",\"https://compass.nextbillion.io/directions?city=bangalore&origin=23.7486961,90.4257903&dest=23.750332,90.4162099&approaches=unrestricted&approaches=unrestricted&travelMode=4&departureTime=1658496600000&alternative=false&serviceProviders=Google&session=YqFYdE&alternativeNum=1&annotation=false&departureTimeOption=custom\",\"https://compass.nextbillion.io/directions?city=bangalore&origin=23.7115995,90.4029419&dest=23.7223611,90.3956952&approaches=unrestricted&approaches=unrestricted&travelMode=4&departureTime=1658496600000&alternative=false&serviceProviders=Google&session=YqFYdE&alternativeNum=1&annotation=false&departureTimeOption=custom\",\"https://compass.nextbillion.io/directions?city=bangalore&origin=23.7491264,90.4037311&dest=23.7601361,90.4110133&approaches=unrestricted&approaches=unrestricted&travelMode=4&departureTime=1658496600000&alternative=false&serviceProviders=Google&session=YqFYdE&alternativeNum=1&annotation=false&departureTimeOption=custom\",\"https://compass.nextbillion.io/directions?city=bangalore&origin=23.758651,90.418077&dest=23.744876,90.4438324&approaches=unrestricted&approaches=unrestricted&travelMode=4&departureTime=1658496600000&alternative=false&serviceProviders=Google&session=YqFYdE&alternativeNum=1&annotation=false&departureTimeOption=custom\",\"https://compass.nextbillion.io/directions?city=bangalore&origin=23.7138986,90.4566145&dest=23.7004027,90.4568231&approaches=unrestricted&approaches=unrestricted&travelMode=4&departureTime=1658496600000&alternative=false&serviceProviders=Google&session=YqFYdE&alternativeNum=1&annotation=false&departureTimeOption=custom\",\"https://compass.nextbillion.io/directions?city=bangalore&origin=23.7489708,90.4034832&dest=23.7492075,90.4053857&approaches=unrestricted&approaches=unrestricted&travelMode=4&departureTime=1658496600000&alternative=false&serviceProviders=Google&session=YqFYdE&alternativeNum=1&annotation=false&departureTimeOption=custom\",\"https://compass.nextbillion.io/directions?city=bangalore&origin=23.7377436,90.4041717&dest=23.7376348,90.4050178&approaches=unrestricted&approaches=unrestricted&travelMode=4&departureTime=1658496600000&alternative=false&serviceProviders=Google&session=YqFYdE&alternativeNum=1&annotation=false&departureTimeOption=custom\",\"https://compass.nextbillion.io/directions?city=bangalore&origin=23.765621,90.3833594&dest=23.7652032,90.3841315&approaches=unrestricted&approaches=unrestricted&travelMode=4&departureTime=1658496600000&alternative=false&serviceProviders=Google&session=YqFYdE&alternativeNum=1&annotation=false&departureTimeOption=custom\",\"https://compass.nextbillion.io/directions?city=bangalore&origin=23.7579885,90.3744054&dest=23.7581904,90.3750141&approaches=unrestricted&approaches=unrestricted&travelMode=4&departureTime=1658496600000&alternative=false&serviceProviders=Google&session=YqFYdE&alternativeNum=1&annotation=false&departureTimeOption=custom\",\"https://compass.nextbillion.io/directions?city=bangalore&origin=23.7380667,90.396698&dest=23.7375472,90.395837&approaches=unrestricted&approaches=unrestricted&travelMode=4&departureTime=1658496600000&alternative=false&serviceProviders=Google&session=YqFYdE&alternativeNum=1&annotation=false&departureTimeOption=custom\",\"https://compass.nextbillion.io/directions?city=bangalore&origin=23.7714003,90.3679053&dest=23.7714461,90.3680554&approaches=unrestricted&approaches=unrestricted&travelMode=4&departureTime=1658496600000&alternative=false&serviceProviders=Google&session=YqFYdE&alternativeNum=1&annotation=false&departureTimeOption=custom\",\"https://compass.nextbillion.io/directions?city=bangalore&origin=23.7323798,90.3855033&dest=23.731903,90.3852998&approaches=unrestricted&approaches=unrestricted&travelMode=4&departureTime=1658496600000&alternative=false&serviceProviders=Google&session=YqFYdE&alternativeNum=1&annotation=false&departureTimeOption=custom\",\"https://compass.nextbillion.io/directions?city=bangalore&origin=23.7803747,90.4163234&dest=23.7807563,90.416567&approaches=unrestricted&approaches=unrestricted&travelMode=4&departureTime=1658496600000&alternative=false&serviceProviders=Google&session=YqFYdE&alternativeNum=1&annotation=false&departureTimeOption=custom\",\"https://compass.nextbillion.io/directions?city=bangalore&origin=23.7418114,90.4121512&dest=23.7414312,90.4121277&approaches=unrestricted&approaches=unrestricted&travelMode=4&departureTime=1658496600000&alternative=false&serviceProviders=Google&session=YqFYdE&alternativeNum=1&annotation=false&departureTimeOption=custom\",\"https://compass.nextbillion.io/directions?city=bangalore&origin=23.7334354,90.3787199&dest=23.7334627,90.3787715&approaches=unrestricted&approaches=unrestricted&travelMode=4&departureTime=1658496600000&alternative=false&serviceProviders=Google&session=YqFYdE&alternativeNum=1&annotation=false&departureTimeOption=custom\",\"https://compass.nextbillion.io/directions?city=bangalore&origin=23.7370945,90.3768277&dest=23.737122,90.3768863&approaches=unrestricted&approaches=unrestricted&travelMode=4&departureTime=1658496600000&alternative=false&serviceProviders=Google&session=YqFYdE&alternativeNum=1&annotation=false&departureTimeOption=custom\",\"https://compass.nextbillion.io/directions?city=bangalore&origin=23.7791986,90.3680303&dest=23.7792282,90.3680913&approaches=unrestricted&approaches=unrestricted&travelMode=4&departureTime=1658496600000&alternative=false&serviceProviders=Google&session=YqFYdE&alternativeNum=1&annotation=false&departureTimeOption=custom\",\"https://compass.nextbillion.io/directions?city=bangalore&origin=23.7411044,90.366722&dest=23.7419672,90.3695834&approaches=unrestricted&approaches=unrestricted&travelMode=4&departureTime=1658496600000&alternative=false&serviceProviders=Google&session=YqFYdE&alternativeNum=1&annotation=false&departureTimeOption=custom\",\"https://compass.nextbillion.io/directions?city=bangalore&origin=23.7531945,90.3661799&dest=23.754408,90.3687829&approaches=unrestricted&approaches=unrestricted&travelMode=4&departureTime=1658496600000&alternative=false&serviceProviders=Google&session=YqFYdE&alternativeNum=1&annotation=false&departureTimeOption=custom\",\"https://compass.nextbillion.io/directions?city=bangalore&origin=23.7555892,90.3533566&dest=23.7558025,90.3548374&approaches=unrestricted&approaches=unrestricted&travelMode=4&departureTime=1658496600000&alternative=false&serviceProviders=Google&session=YqFYdE&alternativeNum=1&annotation=false&departureTimeOption=custom\"]"
   ]
  },
  {
   "cell_type": "code",
   "execution_count": null,
   "id": "58a6750f",
   "metadata": {},
   "outputs": [],
   "source": [
    "livetraffics = []\n",
    "\n",
    "for each in links:\n",
    "    driver.get(each)\n",
    "    time.sleep(5)\n",
    "    livetraffics.append(driver.find_element(By.XPATH, \"/html/body/app-root/app-base-layout/app-map/div/div[4]/div[2]/dl/dd[3]\").text)"
   ]
  },
  {
   "cell_type": "code",
   "execution_count": 94,
   "id": "6155480f",
   "metadata": {},
   "outputs": [
    {
     "name": "stdout",
     "output_type": "stream",
     "text": [
      "10 min 49 s\n",
      "14 min 38 s\n",
      "7 min 57 s\n",
      "5 min 0 s\n",
      "7 min 40 s\n",
      "37 min 38 s\n",
      "13 min 5 s\n",
      "4 min 19 s\n",
      "6 min 40 s\n",
      "3 min 36 s\n",
      "10 min 34 s\n",
      "5 min 48 s\n",
      "15 min 16 s\n",
      "\n",
      "9 min 21 s\n",
      "4 min 18 s\n",
      "4 min 59 s\n",
      "\n",
      "19 min 14 s\n",
      "5 min 59 s\n",
      "\n",
      "4 min 24 s\n",
      "11 min 11 s\n",
      "5 min 53 s\n",
      "10 min 13 s\n",
      "8 min 22 s\n",
      "5 min 47 s\n",
      "3 min 49 s\n",
      "7 min 41 s\n",
      "7 min 56 s\n",
      "8 min 18 s\n",
      "11 min 24 s\n",
      "11 min 11 s\n",
      "19 min 49 s\n",
      "8 min 54 s\n",
      "5 min 25 s\n",
      "18 s\n",
      "24 s\n",
      "5 min 6 s\n",
      "44 s\n",
      "4 min 55 s\n",
      "35 s\n",
      "14 s\n",
      "13 s\n",
      "0 s\n",
      "5 min 4 s\n",
      "11 min 43 s\n",
      "1 min 53 s\n",
      "7 min 28 s\n",
      "2 min 26 s\n"
     ]
    }
   ],
   "source": [
    "for each in livetraffics:\n",
    "    print(each.replace(\"liveTraffic: \",\"\"))"
   ]
  },
  {
   "cell_type": "code",
   "execution_count": null,
   "id": "c40163fa",
   "metadata": {},
   "outputs": [],
   "source": []
  },
  {
   "cell_type": "code",
   "execution_count": null,
   "id": "8c2f2f25",
   "metadata": {},
   "outputs": [],
   "source": []
  },
  {
   "cell_type": "code",
   "execution_count": null,
   "id": "fe72e252",
   "metadata": {},
   "outputs": [],
   "source": []
  },
  {
   "cell_type": "code",
   "execution_count": 95,
   "id": "c2f02772",
   "metadata": {},
   "outputs": [],
   "source": [
    "distances = []\n",
    "\n",
    "for each in links:\n",
    "    driver.get(each)\n",
    "    time.sleep(5)\n",
    "    distances.append(driver.find_element(By.XPATH, \"/html/body/app-root/app-base-layout/app-map/div/div[4]/div[2]/dl/dd[1]\").text)"
   ]
  },
  {
   "cell_type": "code",
   "execution_count": 96,
   "id": "371980d7",
   "metadata": {},
   "outputs": [
    {
     "name": "stdout",
     "output_type": "stream",
     "text": [
      "3.50 km\n",
      "5.49 km\n",
      "2.85 km\n",
      "1.80 km\n",
      "2.63 km\n",
      "10.64 km\n",
      "4.38 km\n",
      "0.81 km\n",
      "0.92 km\n",
      "0.67 km\n",
      "1.97 km\n",
      "1.52 km\n",
      "3.12 km\n",
      "2.02 km\n",
      "3.37 km\n",
      "2.32 km\n",
      "1.56 km\n",
      "2.17 km\n",
      "3.64 km\n",
      "1.54 km\n",
      "4.31 km\n",
      "1.64 km\n",
      "3.22 km\n",
      "0.97 km\n",
      "2.85 km\n",
      "2.23 km\n",
      "1.05 km\n",
      "1.37 km\n",
      "3.02 km\n",
      "2.09 km\n",
      "1.40 km\n",
      "1.80 km\n",
      "1.82 km\n",
      "3.31 km\n",
      "1.87 km\n",
      "1.91 km\n",
      "0.11 km\n",
      "0.10 km\n",
      "1.14 km\n",
      "0.12 km\n",
      "1.42 km\n",
      "0.06 km\n",
      "0.05 km\n",
      "0.04 km\n",
      "0.00 km\n",
      "0.63 km\n",
      "2.14 km\n",
      "0.32 km\n",
      "1.62 km\n",
      "0.47 km\n"
     ]
    }
   ],
   "source": [
    "for each in distances:\n",
    "    print(each)"
   ]
  },
  {
   "cell_type": "code",
   "execution_count": null,
   "id": "85c028da",
   "metadata": {},
   "outputs": [],
   "source": [
    "/html/body/app-root/app-base-layout/app-map/div/div[4]/div[2]/dl/dd[1]"
   ]
  },
  {
   "cell_type": "code",
   "execution_count": null,
   "id": "ff1e1910",
   "metadata": {},
   "outputs": [],
   "source": []
  },
  {
   "cell_type": "code",
   "execution_count": null,
   "id": "cb6ac4a1",
   "metadata": {},
   "outputs": [],
   "source": []
  },
  {
   "cell_type": "code",
   "execution_count": null,
   "id": "0f0820a3",
   "metadata": {},
   "outputs": [],
   "source": []
  },
  {
   "cell_type": "code",
   "execution_count": null,
   "id": "605fd919",
   "metadata": {},
   "outputs": [],
   "source": [
    "driver.find_element(By.XPATH, \"/html/body/app-root/app-base-layout/app-map/div/div[4]/div[2]/dl/dd[3]\").text"
   ]
  },
  {
   "cell_type": "code",
   "execution_count": null,
   "id": "3cf1d469",
   "metadata": {},
   "outputs": [],
   "source": [
    "a.text"
   ]
  },
  {
   "cell_type": "code",
   "execution_count": null,
   "id": "f87c73c4",
   "metadata": {},
   "outputs": [],
   "source": [
    "driver.find_elements_by_xpath(\"/html/body/app-root/app-base-layout/app-map/div/div[4]/div[2]/dl/dd[3]\")"
   ]
  },
  {
   "cell_type": "code",
   "execution_count": null,
   "id": "1189f1fd",
   "metadata": {},
   "outputs": [],
   "source": [
    "/html/body/app-root/app-base-layout/app-map/div/div[4]/div[2]/dl/dd[3]"
   ]
  },
  {
   "cell_type": "code",
   "execution_count": null,
   "id": "84ebcdae",
   "metadata": {},
   "outputs": [],
   "source": [
    "elem = driver.find_element(By.NAME, \"q\")\n",
    "elem = driver.find_elements_by_xpath(\"//section/div[1]/div[2]/div[2]/div/a\")"
   ]
  },
  {
   "cell_type": "code",
   "execution_count": null,
   "id": "a7e69b0c",
   "metadata": {},
   "outputs": [],
   "source": [
    "driver.find_elements_by_xpath(\"/html/body/app-root/app-base-layout/app-map/div/div[4]/div[2]/dl/dd[3]/text()\")"
   ]
  },
  {
   "cell_type": "code",
   "execution_count": null,
   "id": "a8977a3d",
   "metadata": {},
   "outputs": [],
   "source": [
    "driver.find_element(By.XPATH, \"/html/body/app-root/app-base-layout/app-map/div/div[4]/div[2]/dl/dd[3]/text()\")"
   ]
  },
  {
   "cell_type": "code",
   "execution_count": null,
   "id": "3b1657c8",
   "metadata": {},
   "outputs": [],
   "source": [
    "/html/body/app-root/app-base-layout/app-map/div/div[4]"
   ]
  }
 ],
 "metadata": {
  "kernelspec": {
   "display_name": "Python 3",
   "language": "python",
   "name": "python3"
  },
  "language_info": {
   "codemirror_mode": {
    "name": "ipython",
    "version": 3
   },
   "file_extension": ".py",
   "mimetype": "text/x-python",
   "name": "python",
   "nbconvert_exporter": "python",
   "pygments_lexer": "ipython3",
   "version": "3.8.8"
  }
 },
 "nbformat": 4,
 "nbformat_minor": 5
}
